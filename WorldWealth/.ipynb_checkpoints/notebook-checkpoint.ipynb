{
 "cells": [
  {
   "cell_type": "code",
   "execution_count": 1,
   "metadata": {},
   "outputs": [],
   "source": [
    "%load_ext autoreload\n",
    "%autoreload 2"
   ]
  },
  {
   "cell_type": "code",
   "execution_count": 2,
   "metadata": {},
   "outputs": [],
   "source": [
    "#from worldwealth import Person\n",
    "import csv\n",
    "from matplotlib import pyplot as plt\n",
    "import numpy as np\n",
    "import pandas as pd\n",
    "import os\n",
    "from numba import jit\n",
    "import multiprocessing as mp"
   ]
  },
  {
   "cell_type": "code",
   "execution_count": 70,
   "metadata": {},
   "outputs": [],
   "source": [
    "from worldwealth import World"
   ]
  },
  {
   "cell_type": "code",
   "execution_count": 71,
   "metadata": {},
   "outputs": [],
   "source": [
    "try:\n",
    "    os.remove('poeple.csv')\n",
    "    os.remove('state.csv')\n",
    "except:\n",
    "    pass\n",
    "world = World(\n",
    "                 name= '1',\n",
    "                 initial_population = 20,\n",
    "                 years_until_extintion = 500,\n",
    "                 allow_heritage = True,\n",
    "                 wealth_distribution = True\n",
    "\n",
    "                 )\n",
    "world.create_world()"
   ]
  },
  {
   "cell_type": "code",
   "execution_count": 72,
   "metadata": {},
   "outputs": [
    {
     "data": {
      "text/plain": [
       "20"
      ]
     },
     "execution_count": 72,
     "metadata": {},
     "output_type": "execute_result"
    }
   ],
   "source": [
    "len(world.population)"
   ]
  },
  {
   "cell_type": "code",
   "execution_count": 73,
   "metadata": {},
   "outputs": [],
   "source": [
    "world.run()"
   ]
  },
  {
   "cell_type": "code",
   "execution_count": 74,
   "metadata": {},
   "outputs": [
    {
     "data": {
      "text/plain": [
       "195"
      ]
     },
     "execution_count": 74,
     "metadata": {},
     "output_type": "execute_result"
    }
   ],
   "source": [
    "len(world.population)"
   ]
  },
  {
   "cell_type": "code",
   "execution_count": 75,
   "metadata": {},
   "outputs": [],
   "source": [
    "cause_of_death = list()\n",
    "for person in world.dead_population:\n",
    "    cause_of_death.append(person.cause_of_death)"
   ]
  },
  {
   "cell_type": "code",
   "execution_count": 76,
   "metadata": {},
   "outputs": [
    {
     "data": {
      "text/plain": [
       "'NATURAL'"
      ]
     },
     "execution_count": 76,
     "metadata": {},
     "output_type": "execute_result"
    }
   ],
   "source": [
    "pd.Series(cause_of_death).value_counts().index[0]"
   ]
  },
  {
   "cell_type": "code",
   "execution_count": 77,
   "metadata": {},
   "outputs": [
    {
     "data": {
      "text/html": [
       "<div>\n",
       "<style scoped>\n",
       "    .dataframe tbody tr th:only-of-type {\n",
       "        vertical-align: middle;\n",
       "    }\n",
       "\n",
       "    .dataframe tbody tr th {\n",
       "        vertical-align: top;\n",
       "    }\n",
       "\n",
       "    .dataframe thead th {\n",
       "        text-align: right;\n",
       "    }\n",
       "</style>\n",
       "<table border=\"1\" class=\"dataframe\">\n",
       "  <thead>\n",
       "    <tr style=\"text-align: right;\">\n",
       "      <th></th>\n",
       "      <th>id</th>\n",
       "      <th>age</th>\n",
       "      <th>money</th>\n",
       "      <th>children</th>\n",
       "      <th>Year</th>\n",
       "    </tr>\n",
       "  </thead>\n",
       "  <tbody>\n",
       "    <tr>\n",
       "      <th>c3d0e962-8165-429d-8f15-d20b45f1bff4</th>\n",
       "      <td>36</td>\n",
       "      <td>15523.398202</td>\n",
       "      <td>0</td>\n",
       "      <td>0</td>\n",
       "      <td>0</td>\n",
       "    </tr>\n",
       "    <tr>\n",
       "      <th>0d07f8c7-315d-40f1-9585-d5d05b9588b1</th>\n",
       "      <td>36</td>\n",
       "      <td>24323.826633</td>\n",
       "      <td>0</td>\n",
       "      <td>0</td>\n",
       "      <td>0</td>\n",
       "    </tr>\n",
       "    <tr>\n",
       "      <th>78e78d1c-dd8a-4982-b1f9-1d181bc99944</th>\n",
       "      <td>36</td>\n",
       "      <td>15420.670810</td>\n",
       "      <td>0</td>\n",
       "      <td>0</td>\n",
       "      <td>0</td>\n",
       "    </tr>\n",
       "    <tr>\n",
       "      <th>26a03f82-e0f0-42fe-937d-ecdcc00d260a</th>\n",
       "      <td>36</td>\n",
       "      <td>24177.568327</td>\n",
       "      <td>0</td>\n",
       "      <td>0</td>\n",
       "      <td>0</td>\n",
       "    </tr>\n",
       "    <tr>\n",
       "      <th>c1bc251f-5e3e-4401-a99f-e05d7834b224</th>\n",
       "      <td>36</td>\n",
       "      <td>15461.520771</td>\n",
       "      <td>0</td>\n",
       "      <td>0</td>\n",
       "      <td>0</td>\n",
       "    </tr>\n",
       "  </tbody>\n",
       "</table>\n",
       "</div>"
      ],
      "text/plain": [
       "                                      id           age  money  children  Year\n",
       "c3d0e962-8165-429d-8f15-d20b45f1bff4  36  15523.398202      0         0     0\n",
       "0d07f8c7-315d-40f1-9585-d5d05b9588b1  36  24323.826633      0         0     0\n",
       "78e78d1c-dd8a-4982-b1f9-1d181bc99944  36  15420.670810      0         0     0\n",
       "26a03f82-e0f0-42fe-937d-ecdcc00d260a  36  24177.568327      0         0     0\n",
       "c1bc251f-5e3e-4401-a99f-e05d7834b224  36  15461.520771      0         0     0"
      ]
     },
     "execution_count": 77,
     "metadata": {},
     "output_type": "execute_result"
    }
   ],
   "source": [
    "data = pd.read_csv('people.csv', names= \"id,age,money,children,Year\".split(','))\n",
    "data.head()"
   ]
  },
  {
   "cell_type": "code",
   "execution_count": 78,
   "metadata": {},
   "outputs": [
    {
     "data": {
      "text/html": [
       "<div>\n",
       "<style scoped>\n",
       "    .dataframe tbody tr th:only-of-type {\n",
       "        vertical-align: middle;\n",
       "    }\n",
       "\n",
       "    .dataframe tbody tr th {\n",
       "        vertical-align: top;\n",
       "    }\n",
       "\n",
       "    .dataframe thead th {\n",
       "        text-align: right;\n",
       "    }\n",
       "</style>\n",
       "<table border=\"1\" class=\"dataframe\">\n",
       "  <thead>\n",
       "    <tr style=\"text-align: right;\">\n",
       "      <th></th>\n",
       "      <th>money</th>\n",
       "      <th>Year</th>\n",
       "    </tr>\n",
       "  </thead>\n",
       "  <tbody>\n",
       "    <tr>\n",
       "      <th>0</th>\n",
       "      <td>0.000</td>\n",
       "      <td>0</td>\n",
       "    </tr>\n",
       "    <tr>\n",
       "      <th>1</th>\n",
       "      <td>78763.500</td>\n",
       "      <td>1</td>\n",
       "    </tr>\n",
       "    <tr>\n",
       "      <th>2</th>\n",
       "      <td>187179.750</td>\n",
       "      <td>2</td>\n",
       "    </tr>\n",
       "    <tr>\n",
       "      <th>3</th>\n",
       "      <td>294742.125</td>\n",
       "      <td>3</td>\n",
       "    </tr>\n",
       "    <tr>\n",
       "      <th>4</th>\n",
       "      <td>405875.250</td>\n",
       "      <td>4</td>\n",
       "    </tr>\n",
       "  </tbody>\n",
       "</table>\n",
       "</div>"
      ],
      "text/plain": [
       "        money  Year\n",
       "0       0.000     0\n",
       "1   78763.500     1\n",
       "2  187179.750     2\n",
       "3  294742.125     3\n",
       "4  405875.250     4"
      ]
     },
     "execution_count": 78,
     "metadata": {},
     "output_type": "execute_result"
    }
   ],
   "source": [
    "state = pd.read_csv('state.csv', names= \"money,Year\".split(','))\n",
    "state.head()"
   ]
  },
  {
   "cell_type": "code",
   "execution_count": 79,
   "metadata": {},
   "outputs": [
    {
     "data": {
      "text/plain": [
       "(500, 2)"
      ]
     },
     "execution_count": 79,
     "metadata": {},
     "output_type": "execute_result"
    }
   ],
   "source": [
    "state.shape"
   ]
  },
  {
   "cell_type": "code",
   "execution_count": 80,
   "metadata": {},
   "outputs": [],
   "source": [
    "years = state.Year\n",
    "money = state.money\n",
    "pop = data.groupby('Year').count().age"
   ]
  },
  {
   "cell_type": "code",
   "execution_count": 81,
   "metadata": {},
   "outputs": [
    {
     "data": {
      "image/png": "[encoded data removed]",
      "text/plain": [
       "<Figure size 432x288 with 2 Axes>"
      ]
     },
     "metadata": {
      "needs_background": "light"
     },
     "output_type": "display_data"
    }
   ],
   "source": [
    "# create figure and axis objects with subplots()\n",
    "fig,ax = plt.subplots()\n",
    "# make a plot\n",
    "ax.plot(years, pop, color=\"red\")\n",
    "# set x-axis label\n",
    "ax.set_xlabel(\"year\",fontsize=14)\n",
    "# set y-axis label\n",
    "ax.set_ylabel(\"Population\",color=\"red\",fontsize=14)\n",
    "\n",
    "ax2=ax.twinx()\n",
    "# make a plot with different y-axis using second axis object\n",
    "ax2.plot(years, money,color=\"blue\")\n",
    "ax2.set_ylabel(\"Money\",color=\"blue\",fontsize=14)\n",
    "plt.show()"
   ]
  },
  {
   "cell_type": "code",
   "execution_count": 36,
   "metadata": {},
   "outputs": [
    {
     "data": {
      "image/png": "[encoded data removed]",
      "text/plain": [
       "<Figure size 432x288 with 1 Axes>"
      ]
     },
     "metadata": {
      "needs_background": "light"
     },
     "output_type": "display_data"
    }
   ],
   "source": [
    "pop = data.groupby('Year').count().age#.plot()\n",
    "money = state.money\n",
    "years = state.Year\n",
    "plt.figure()\n",
    "plt.plot(years, pop)\n",
    "plt.plot(years, money)\n",
    "plt.show()"
   ]
  },
  {
   "cell_type": "code",
   "execution_count": 17,
   "metadata": {},
   "outputs": [],
   "source": [
    "# population when dead\n",
    "last_year_alive = data[['id', 'age']].groupby('id').max()#.plot.hist()"
   ]
  },
  {
   "cell_type": "code",
   "execution_count": 18,
   "metadata": {},
   "outputs": [
    {
     "data": {
      "text/plain": [
       "32.90625"
      ]
     },
     "execution_count": 18,
     "metadata": {},
     "output_type": "execute_result"
    }
   ],
   "source": [
    "last_year_alive.age.mean()"
   ]
  },
  {
   "cell_type": "code",
   "execution_count": 19,
   "metadata": {},
   "outputs": [
    {
     "data": {
      "text/plain": [
       "46.0"
      ]
     },
     "execution_count": 19,
     "metadata": {},
     "output_type": "execute_result"
    }
   ],
   "source": [
    "last_year_alive.age.median()"
   ]
  },
  {
   "cell_type": "code",
   "execution_count": 20,
   "metadata": {},
   "outputs": [
    {
     "data": {
      "text/plain": [
       "<AxesSubplot:xlabel='Year'>"
      ]
     },
     "execution_count": 20,
     "metadata": {},
     "output_type": "execute_result"
    },
    {
     "data": {
      "image/png": "[encoded data removed]",
      "text/plain": [
       "<Figure size 432x288 with 1 Axes>"
      ]
     },
     "metadata": {
      "needs_background": "light"
     },
     "output_type": "display_data"
    }
   ],
   "source": [
    "data.groupby('Year').count().age.plot()"
   ]
  },
  {
   "cell_type": "code",
   "execution_count": 60,
   "metadata": {},
   "outputs": [
    {
     "data": {
      "text/plain": [
       "id          a57967ee-94a4-4a71-920a-9ba446ec0c18\n",
       "age                                           44\n",
       "money                                        inf\n",
       "children                                       0\n",
       "Year                                           8\n",
       "Name: 224, dtype: object"
      ]
     },
     "execution_count": 60,
     "metadata": {},
     "output_type": "execute_result"
    }
   ],
   "source": [
    "data.iloc[data.money.idxmax()]#['age']"
   ]
  },
  {
   "cell_type": "code",
   "execution_count": 14,
   "metadata": {},
   "outputs": [
    {
     "data": {
      "text/plain": [
       "<AxesSubplot:>"
      ]
     },
     "execution_count": 14,
     "metadata": {},
     "output_type": "execute_result"
    },
    {
     "data": {
      "image/png": "[encoded data removed]",
      "text/plain": [
       "<Figure size 432x288 with 1 Axes>"
      ]
     },
     "metadata": {
      "needs_background": "light"
     },
     "output_type": "display_data"
    }
   ],
   "source": [
    "data[data.id == data.iloc[data.money.idxmax()].id].money.plot()"
   ]
  },
  {
   "cell_type": "code",
   "execution_count": 16,
   "metadata": {},
   "outputs": [
    {
     "name": "stdout",
     "output_type": "stream",
     "text": [
      "{'STUDY': True, 'BABY': False, 'P_DEATH': False, 'INVEST': True, 'S_MONEY': 0.05}\n",
      "0.19987450551616515\n"
     ]
    }
   ],
   "source": [
    "for person in world.population:\n",
    "    if person.id == data.iloc[data.money.idxmax()].id:\n",
    "        print(person.DNA)\n",
    "        print(person.percentage_money_invest)\n",
    "for person in world.dead_population:\n",
    "    if person.id == data.iloc[data.money.idxmax()].id:\n",
    "        print(person.DNA)\n",
    "        print(person.percentage_money_invest)"
   ]
  },
  {
   "cell_type": "code",
   "execution_count": 7,
   "metadata": {},
   "outputs": [],
   "source": [
    "\n",
    "def gini(array):\n",
    "    \"\"\"Calculate the Gini coefficient of a numpy array.\"\"\"\n",
    "    # based on bottom eq:\n",
    "    # http://www.statsdirect.com/help/generatedimages/equations/equation154.svg\n",
    "    # from:\n",
    "    # http://www.statsdirect.com/help/default.htm#nonparametric_methods/gini.htm\n",
    "    # All values are treated equally, arrays must be 1d:\n",
    "    array = array.flatten()\n",
    "    if np.amin(array) < 0:\n",
    "        # Values cannot be negative:\n",
    "        array -= np.amin(array)\n",
    "    # Values cannot be 0:\n",
    "    array += 0.0000001\n",
    "    # Values must be sorted:\n",
    "    array = np.sort(array)\n",
    "    # Index per array element:\n",
    "    index = np.arange(1,array.shape[0]+1)\n",
    "    # Number of array elements:\n",
    "    n = array.shape[0]\n",
    "    # Gini coefficient:\n",
    "    return ((np.sum((2 * index - n  - 1) * array)) / (n * np.sum(array)))"
   ]
  },
  {
   "cell_type": "code",
   "execution_count": 18,
   "metadata": {},
   "outputs": [],
   "source": [
    "last_year = data[data.Year == 499].copy()"
   ]
  },
  {
   "cell_type": "code",
   "execution_count": 19,
   "metadata": {},
   "outputs": [
    {
     "data": {
      "text/plain": [
       "0.6796892644519581"
      ]
     },
     "execution_count": 19,
     "metadata": {},
     "output_type": "execute_result"
    }
   ],
   "source": [
    "last_year = data[data.Year == 499].copy()\n",
    "gini(last_year.money.values)"
   ]
  },
  {
   "cell_type": "code",
   "execution_count": 20,
   "metadata": {},
   "outputs": [
    {
     "data": {
      "text/plain": [
       "<AxesSubplot:ylabel='Frequency'>"
      ]
     },
     "execution_count": 20,
     "metadata": {},
     "output_type": "execute_result"
    },
    {
     "data": {
      "image/png": "[encoded data removed]",
      "text/plain": [
       "<Figure size 432x288 with 1 Axes>"
      ]
     },
     "metadata": {
      "needs_background": "light"
     },
     "output_type": "display_data"
    }
   ],
   "source": [
    "money = last_year.sort_values(by='money').money#\n",
    "money.plot.hist()"
   ]
  },
  {
   "cell_type": "code",
   "execution_count": 21,
   "metadata": {},
   "outputs": [
    {
     "data": {
      "text/plain": [
       "109605    0.006257\n",
       "109635    0.005865\n",
       "109533    0.005854\n",
       "109522    0.005782\n",
       "109530    0.005767\n",
       "            ...   \n",
       "110408    0.000000\n",
       "110409    0.000000\n",
       "110410    0.000000\n",
       "110411    0.000000\n",
       "110413    0.000000\n",
       "Name: money, Length: 899, dtype: float64"
      ]
     },
     "execution_count": 21,
     "metadata": {},
     "output_type": "execute_result"
    }
   ],
   "source": [
    "percentage_total_money = money /(money.sum())\n",
    "percentage_total_money = percentage_total_money[::-1]#[:100]\n",
    "percentage_total_money"
   ]
  },
  {
   "cell_type": "code",
   "execution_count": 25,
   "metadata": {},
   "outputs": [
    {
     "data": {
      "text/plain": [
       "8"
      ]
     },
     "execution_count": 25,
     "metadata": {},
     "output_type": "execute_result"
    }
   ],
   "source": [
    "ten_percente_population = int(len(money)*0.01)\n",
    "money_10_percente = percentage_total_money[:ten_percente_population]\n",
    "ten_percente_population"
   ]
  },
  {
   "cell_type": "code",
   "execution_count": 26,
   "metadata": {},
   "outputs": [],
   "source": [
    "rich_person_index = money_10_percente.index"
   ]
  },
  {
   "cell_type": "code",
   "execution_count": 28,
   "metadata": {},
   "outputs": [
    {
     "data": {
      "text/html": [
       "<div>\n",
       "<style scoped>\n",
       "    .dataframe tbody tr th:only-of-type {\n",
       "        vertical-align: middle;\n",
       "    }\n",
       "\n",
       "    .dataframe tbody tr th {\n",
       "        vertical-align: top;\n",
       "    }\n",
       "\n",
       "    .dataframe thead th {\n",
       "        text-align: right;\n",
       "    }\n",
       "</style>\n",
       "<table border=\"1\" class=\"dataframe\">\n",
       "  <thead>\n",
       "    <tr style=\"text-align: right;\">\n",
       "      <th></th>\n",
       "      <th>id</th>\n",
       "      <th>age</th>\n",
       "      <th>money</th>\n",
       "      <th>children</th>\n",
       "      <th>Year</th>\n",
       "    </tr>\n",
       "  </thead>\n",
       "  <tbody>\n",
       "    <tr>\n",
       "      <th>109605</th>\n",
       "      <td>932e1e2d-fabe-4bdb-a2d4-3fb586fcdcb1</td>\n",
       "      <td>69</td>\n",
       "      <td>534731.779969</td>\n",
       "      <td>0</td>\n",
       "      <td>499</td>\n",
       "    </tr>\n",
       "    <tr>\n",
       "      <th>109635</th>\n",
       "      <td>db4010ba-7295-4252-9d10-1bc3c9e1215e</td>\n",
       "      <td>66</td>\n",
       "      <td>501239.752137</td>\n",
       "      <td>1</td>\n",
       "      <td>499</td>\n",
       "    </tr>\n",
       "    <tr>\n",
       "      <th>109533</th>\n",
       "      <td>ce516d99-653d-4de0-9dac-1da226d52ad1</td>\n",
       "      <td>86</td>\n",
       "      <td>500315.034381</td>\n",
       "      <td>0</td>\n",
       "      <td>499</td>\n",
       "    </tr>\n",
       "    <tr>\n",
       "      <th>109522</th>\n",
       "      <td>a5a5f8b0-9f66-43ac-8aeb-e3d25f27c192</td>\n",
       "      <td>90</td>\n",
       "      <td>494102.951872</td>\n",
       "      <td>2</td>\n",
       "      <td>499</td>\n",
       "    </tr>\n",
       "    <tr>\n",
       "      <th>109530</th>\n",
       "      <td>b522f51f-8e40-4b27-9fff-f017425e4747</td>\n",
       "      <td>89</td>\n",
       "      <td>492847.370754</td>\n",
       "      <td>0</td>\n",
       "      <td>499</td>\n",
       "    </tr>\n",
       "    <tr>\n",
       "      <th>109523</th>\n",
       "      <td>d87d9467-dbc8-4f48-80d1-f576eb0ed8fb</td>\n",
       "      <td>89</td>\n",
       "      <td>491042.480130</td>\n",
       "      <td>0</td>\n",
       "      <td>499</td>\n",
       "    </tr>\n",
       "    <tr>\n",
       "      <th>109567</th>\n",
       "      <td>1452a117-2266-44e2-8fad-c9a9b8bdc971</td>\n",
       "      <td>78</td>\n",
       "      <td>489246.045689</td>\n",
       "      <td>0</td>\n",
       "      <td>499</td>\n",
       "    </tr>\n",
       "    <tr>\n",
       "      <th>109582</th>\n",
       "      <td>28333538-ef4a-4e98-b63d-f3f6d6c6659d</td>\n",
       "      <td>74</td>\n",
       "      <td>478461.391620</td>\n",
       "      <td>0</td>\n",
       "      <td>499</td>\n",
       "    </tr>\n",
       "  </tbody>\n",
       "</table>\n",
       "</div>"
      ],
      "text/plain": [
       "                                          id  age          money  children  \\\n",
       "109605  932e1e2d-fabe-4bdb-a2d4-3fb586fcdcb1   69  534731.779969         0   \n",
       "109635  db4010ba-7295-4252-9d10-1bc3c9e1215e   66  501239.752137         1   \n",
       "109533  ce516d99-653d-4de0-9dac-1da226d52ad1   86  500315.034381         0   \n",
       "109522  a5a5f8b0-9f66-43ac-8aeb-e3d25f27c192   90  494102.951872         2   \n",
       "109530  b522f51f-8e40-4b27-9fff-f017425e4747   89  492847.370754         0   \n",
       "109523  d87d9467-dbc8-4f48-80d1-f576eb0ed8fb   89  491042.480130         0   \n",
       "109567  1452a117-2266-44e2-8fad-c9a9b8bdc971   78  489246.045689         0   \n",
       "109582  28333538-ef4a-4e98-b63d-f3f6d6c6659d   74  478461.391620         0   \n",
       "\n",
       "        Year  \n",
       "109605   499  \n",
       "109635   499  \n",
       "109533   499  \n",
       "109522   499  \n",
       "109530   499  \n",
       "109523   499  \n",
       "109567   499  \n",
       "109582   499  "
      ]
     },
     "execution_count": 28,
     "metadata": {},
     "output_type": "execute_result"
    }
   ],
   "source": [
    "rich_people = data.iloc[rich_person_index]\n",
    "rich_people"
   ]
  },
  {
   "cell_type": "code",
   "execution_count": 30,
   "metadata": {},
   "outputs": [
    {
     "data": {
      "text/plain": [
       "['932e1e2d-fabe-4bdb-a2d4-3fb586fcdcb1',\n",
       " 'db4010ba-7295-4252-9d10-1bc3c9e1215e',\n",
       " 'ce516d99-653d-4de0-9dac-1da226d52ad1',\n",
       " 'a5a5f8b0-9f66-43ac-8aeb-e3d25f27c192',\n",
       " 'b522f51f-8e40-4b27-9fff-f017425e4747',\n",
       " 'd87d9467-dbc8-4f48-80d1-f576eb0ed8fb',\n",
       " '1452a117-2266-44e2-8fad-c9a9b8bdc971',\n",
       " '28333538-ef4a-4e98-b63d-f3f6d6c6659d']"
      ]
     },
     "execution_count": 30,
     "metadata": {},
     "output_type": "execute_result"
    }
   ],
   "source": [
    "ids_rich = rich_people.sort_values(by='money', ascending= False).id.to_list()\n",
    "ids_rich"
   ]
  },
  {
   "cell_type": "code",
   "execution_count": 31,
   "metadata": {},
   "outputs": [
    {
     "name": "stdout",
     "output_type": "stream",
     "text": [
      "{'STUDY': True, 'BABY': True, 'P_DEATH': False, 'INVEST': True, 'S_MONEY': 0.05}\n",
      "0.2\n",
      "{'STUDY': False, 'BABY': False, 'P_DEATH': False, 'INVEST': True, 'S_MONEY': 0.05}\n",
      "0.16\n",
      "{'STUDY': False, 'BABY': False, 'P_DEATH': False, 'INVEST': True, 'S_MONEY': 0.05}\n",
      "0.16\n",
      "{'STUDY': False, 'BABY': True, 'P_DEATH': False, 'INVEST': True, 'S_MONEY': 0.05}\n",
      "0.17\n",
      "{'STUDY': True, 'BABY': False, 'P_DEATH': False, 'INVEST': True, 'S_MONEY': 0.05}\n",
      "0.09\n",
      "{'STUDY': False, 'BABY': False, 'P_DEATH': False, 'INVEST': True, 'S_MONEY': 0.05}\n",
      "0.13\n",
      "{'STUDY': True, 'BABY': False, 'P_DEATH': False, 'INVEST': True, 'S_MONEY': 0.05}\n",
      "0.16\n",
      "{'STUDY': False, 'BABY': True, 'P_DEATH': False, 'INVEST': True, 'S_MONEY': 0.05}\n",
      "0.17\n"
     ]
    }
   ],
   "source": [
    "for person in world.population:\n",
    "    if person.id in ids_rich:\n",
    "        print(person.DNA)\n",
    "        print(round(person.percentage_money_invest,2))"
   ]
  },
  {
   "cell_type": "code",
   "execution_count": 32,
   "metadata": {},
   "outputs": [
    {
     "data": {
      "text/plain": [
       "0.04659389625144762"
      ]
     },
     "execution_count": 32,
     "metadata": {},
     "output_type": "execute_result"
    }
   ],
   "source": [
    "money_10_percente.sum()"
   ]
  },
  {
   "cell_type": "code",
   "execution_count": 33,
   "metadata": {},
   "outputs": [
    {
     "data": {
      "text/plain": [
       "100"
      ]
     },
     "execution_count": 33,
     "metadata": {},
     "output_type": "execute_result"
    }
   ],
   "source": [
    "data.age.max()"
   ]
  },
  {
   "cell_type": "code",
   "execution_count": null,
   "metadata": {},
   "outputs": [],
   "source": [
    "data.age"
   ]
  },
  {
   "cell_type": "code",
   "execution_count": null,
   "metadata": {},
   "outputs": [],
   "source": [
    "data.age.plot.hist()"
   ]
  },
  {
   "cell_type": "code",
   "execution_count": null,
   "metadata": {},
   "outputs": [],
   "source": [
    "data.groupby('id').max()#.children.mean()"
   ]
  },
  {
   "cell_type": "code",
   "execution_count": null,
   "metadata": {},
   "outputs": [],
   "source": [
    "last_year.money.where(last_year.money <0).dropna()"
   ]
  },
  {
   "cell_type": "code",
   "execution_count": 2,
   "metadata": {},
   "outputs": [],
   "source": []
  },
  {
   "cell_type": "code",
   "execution_count": 49,
   "metadata": {},
   "outputs": [],
   "source": [
    "# PARAMETERS"
   ]
  },
  {
   "cell_type": "code",
   "execution_count": null,
   "metadata": {},
   "outputs": [],
   "source": [
    "name= '1',\n",
    "initial_population = 20,\n",
    "years_until_extintion = 500,\n",
    "allow_heritage = False,\n",
    "wealth_distribution = False"
   ]
  },
  {
   "cell_type": "code",
   "execution_count": 54,
   "metadata": {},
   "outputs": [
    {
     "data": {
      "text/plain": [
       "20"
      ]
     },
     "execution_count": 54,
     "metadata": {},
     "output_type": "execute_result"
    }
   ],
   "source": [
    "data.tail(1).Year.values[0]"
   ]
  },
  {
   "cell_type": "code",
   "execution_count": 10,
   "metadata": {},
   "outputs": [],
   "source": [
    "def simulation():\n",
    "    aggregated_data = dict()\n",
    "    try:\n",
    "        os.remove('population.csv')\n",
    "    except:\n",
    "        pass\n",
    "    world = World(\n",
    "                     name= '1',\n",
    "                     initial_population = 20,\n",
    "                     years_until_extintion = 500,\n",
    "                     allow_heritage = True,\n",
    "                     wealth_distribution = False\n",
    "\n",
    "                     )\n",
    "    world.create_world()\n",
    "    world.run()\n",
    "    data = pd.read_csv('population.csv', names= \"id,age,money,children,Year\".split(','))\n",
    "    aggregated_data['FINAL_POPULATION'] = len(world.population)\n",
    "    aggregated_data['FINAL_YEAR'] = data.tail(1).Year.values[0]\n",
    "    \n",
    "    age_death = list() \n",
    "    for person in world.dead_population:\n",
    "        age_death.append(person.age)\n",
    "    age_death = pd.Series(age_death)\n",
    "    \n",
    "    aggregated_data['MEAN_AGE_DIE'] = age_death.mean()\n",
    "    aggregated_data['MEDIAN_AGE_DIE'] = age_death.median()\n",
    "    \n",
    "    money_death = list() \n",
    "    for person in world.dead_population:\n",
    "        money_death.append(person.money)\n",
    "    money_death = pd.Series(money_death)\n",
    "    \n",
    "    aggregated_data['MEAN_MONEY_DIE'] = money_death.mean()\n",
    "    aggregated_data['MEDIAN_MONEY_DIE'] = money_death.median()\n",
    "    \n",
    "    cause_of_death = list() \n",
    "    for person in world.dead_population:\n",
    "        cause_of_death.append(person.cause_of_death)\n",
    "    cause_of_death = pd.Series(cause_of_death).value_counts().index[0]\n",
    "    \n",
    "    aggregated_data['MOST_FREQUENT_DEAD_CAUSE'] = cause_of_death\n",
    "    \n",
    "    richest_person = data.iloc[data.money.idxmax()]\n",
    "    \n",
    "    aggregated_data['RICHEST_PERSON_AGE'] = richest_person['age']\n",
    "    aggregated_data['RICHEST_PERSON_CHILDREN'] = richest_person['children']\n",
    "    aggregated_data['RICHEST_PERSON_MONEY'] = richest_person['money']\n",
    "    \n",
    "    \n",
    "    for person in world.population:\n",
    "        if person.id == data.iloc[data.money.idxmax()].id:\n",
    "            aggregated_data['RICHEST_PERSON_STUDY'] = person.DNA['STUDY']\n",
    "            aggregated_data['RICHEST_PERSON_BABY'] = person.DNA['BABY']\n",
    "            aggregated_data['RICHEST_PERSON_P_DEATH'] = person.DNA['P_DEATH']\n",
    "            aggregated_data['RICHEST_PERSON_INVEST'] = person.DNA['INVEST']\n",
    "            aggregated_data['RICHEST_PERSON_S_MONEY'] = person.DNA['S_MONEY']\n",
    "            aggregated_data['RICHEST_PERSON_MONEY_INV'] = round(person.percentage_money_invest, 2)\n",
    "    for person in world.dead_population:\n",
    "        if person.id == data.iloc[data.money.idxmax()].id:\n",
    "            aggregated_data['RICHEST_PERSON_STUDY'] = person.DNA['STUDY']\n",
    "            aggregated_data['RICHEST_PERSON_BABY'] = person.DNA['BABY']\n",
    "            aggregated_data['RICHEST_PERSON_P_DEATH'] = person.DNA['P_DEATH']\n",
    "            aggregated_data['RICHEST_PERSON_INVEST'] = person.DNA['INVEST']\n",
    "            aggregated_data['RICHEST_PERSON_S_MONEY'] = person.DNA['S_MONEY']\n",
    "            aggregated_data['RICHEST_PERSON_MONEY_INV'] = round(person.percentage_money_invest, 2)\n",
    "     \n",
    "    last_year = data[data.Year == aggregated_data['FINAL_YEAR']].copy()\n",
    "    \n",
    "    gini_coef = gini(last_year.money.values)\n",
    "    \n",
    "    aggregated_data['GINI_ALIVE'] = gini_coef\n",
    "    \n",
    "    return aggregated_data\n",
    "    \n",
    "    \n",
    "    "
   ]
  },
  {
   "cell_type": "code",
   "execution_count": 11,
   "metadata": {},
   "outputs": [
    {
     "name": "stdout",
     "output_type": "stream",
     "text": [
      "Sim: 0\n"
     ]
    },
    {
     "name": "stderr",
     "output_type": "stream",
     "text": [
      "/home/tiago/Projects/WorldWealth/WorldWealth/worldwealth/person.py:93: RuntimeWarning: divide by zero encountered in double_scalars\n",
      "  heritage_value = self.money / len(self.children)\n"
     ]
    }
   ],
   "source": [
    "multi_sim_data = list()\n",
    "for i in range(1):\n",
    "    print(f'Sim: {i}')\n",
    "    multi_sim_data.append(simulation())\n",
    "    "
   ]
  },
  {
   "cell_type": "code",
   "execution_count": 12,
   "metadata": {},
   "outputs": [
    {
     "data": {
      "text/html": [
       "<div>\n",
       "<style scoped>\n",
       "    .dataframe tbody tr th:only-of-type {\n",
       "        vertical-align: middle;\n",
       "    }\n",
       "\n",
       "    .dataframe tbody tr th {\n",
       "        vertical-align: top;\n",
       "    }\n",
       "\n",
       "    .dataframe thead th {\n",
       "        text-align: right;\n",
       "    }\n",
       "</style>\n",
       "<table border=\"1\" class=\"dataframe\">\n",
       "  <thead>\n",
       "    <tr style=\"text-align: right;\">\n",
       "      <th></th>\n",
       "      <th>FINAL_POPULATION</th>\n",
       "      <th>FINAL_YEAR</th>\n",
       "      <th>MEAN_AGE_DIE</th>\n",
       "      <th>MEDIAN_AGE_DIE</th>\n",
       "      <th>MEAN_MONEY_DIE</th>\n",
       "      <th>MEDIAN_MONEY_DIE</th>\n",
       "      <th>MOST_FREQUENT_DEAD_CAUSE</th>\n",
       "      <th>RICHEST_PERSON_AGE</th>\n",
       "      <th>RICHEST_PERSON_CHILDREN</th>\n",
       "      <th>RICHEST_PERSON_MONEY</th>\n",
       "      <th>RICHEST_PERSON_STUDY</th>\n",
       "      <th>RICHEST_PERSON_BABY</th>\n",
       "      <th>RICHEST_PERSON_P_DEATH</th>\n",
       "      <th>RICHEST_PERSON_INVEST</th>\n",
       "      <th>RICHEST_PERSON_S_MONEY</th>\n",
       "      <th>RICHEST_PERSON_MONEY_INV</th>\n",
       "      <th>GINI_ALIVE</th>\n",
       "    </tr>\n",
       "  </thead>\n",
       "  <tbody>\n",
       "    <tr>\n",
       "      <th>0</th>\n",
       "      <td>2631</td>\n",
       "      <td>499</td>\n",
       "      <td>74.542256</td>\n",
       "      <td>76.0</td>\n",
       "      <td>936477.887051</td>\n",
       "      <td>932359.065584</td>\n",
       "      <td>NATURAL</td>\n",
       "      <td>61</td>\n",
       "      <td>0</td>\n",
       "      <td>3.988986e+06</td>\n",
       "      <td>False</td>\n",
       "      <td>False</td>\n",
       "      <td>False</td>\n",
       "      <td>True</td>\n",
       "      <td>0.05</td>\n",
       "      <td>0.18</td>\n",
       "      <td>0.667067</td>\n",
       "    </tr>\n",
       "  </tbody>\n",
       "</table>\n",
       "</div>"
      ],
      "text/plain": [
       "   FINAL_POPULATION  FINAL_YEAR  MEAN_AGE_DIE  MEDIAN_AGE_DIE  MEAN_MONEY_DIE  \\\n",
       "0              2631         499     74.542256            76.0   936477.887051   \n",
       "\n",
       "   MEDIAN_MONEY_DIE MOST_FREQUENT_DEAD_CAUSE  RICHEST_PERSON_AGE  \\\n",
       "0     932359.065584                  NATURAL                  61   \n",
       "\n",
       "   RICHEST_PERSON_CHILDREN  RICHEST_PERSON_MONEY  RICHEST_PERSON_STUDY  \\\n",
       "0                        0          3.988986e+06                 False   \n",
       "\n",
       "   RICHEST_PERSON_BABY  RICHEST_PERSON_P_DEATH  RICHEST_PERSON_INVEST  \\\n",
       "0                False                   False                   True   \n",
       "\n",
       "   RICHEST_PERSON_S_MONEY  RICHEST_PERSON_MONEY_INV  GINI_ALIVE  \n",
       "0                    0.05                      0.18    0.667067  "
      ]
     },
     "execution_count": 12,
     "metadata": {},
     "output_type": "execute_result"
    }
   ],
   "source": [
    "aggregated_data_2 = pd.DataFrame(multi_sim_data)\n",
    "aggregated_data_2"
   ]
  },
  {
   "cell_type": "code",
   "execution_count": 35,
   "metadata": {},
   "outputs": [],
   "source": [
    "categorical_features = ['MOST_FREQUENT_DEAD_CAUSE','RICHEST_PERSON_STUDY','RICHEST_PERSON_BABY','RICHEST_PERSON_P_DEATH','RICHEST_PERSON_INVEST']"
   ]
  },
  {
   "cell_type": "code",
   "execution_count": 39,
   "metadata": {},
   "outputs": [],
   "source": [
    "numeric_features = aggregated_data_2.columns.drop(categorical_features)"
   ]
  },
  {
   "cell_type": "code",
   "execution_count": 40,
   "metadata": {},
   "outputs": [],
   "source": [
    "numeric = aggregated_data_2[numeric_features].copy()\n",
    "categorical= aggregated_data_2[categorical_features].copy()"
   ]
  },
  {
   "cell_type": "code",
   "execution_count": 41,
   "metadata": {},
   "outputs": [
    {
     "data": {
      "text/plain": [
       "FINAL_POPULATION            9.760900e+02\n",
       "FINAL_YEAR                  4.304100e+02\n",
       "MEAN_AGE_DIE                7.512279e+01\n",
       "MEDIAN_AGE_DIE              7.647500e+01\n",
       "MEAN_MONEY_DIE              3.014996e+05\n",
       "MEDIAN_MONEY_DIE            2.859990e+05\n",
       "RICHEST_PERSON_AGE          6.455000e+01\n",
       "RICHEST_PERSON_CHILDREN     8.600000e-01\n",
       "RICHEST_PERSON_MONEY        1.316035e+06\n",
       "RICHEST_PERSON_S_MONEY      1.620000e-01\n",
       "RICHEST_PERSON_MONEY_INV    1.394000e-01\n",
       "GINI_ALIVE                  5.090622e-01\n",
       "dtype: float64"
      ]
     },
     "execution_count": 41,
     "metadata": {},
     "output_type": "execute_result"
    }
   ],
   "source": [
    "numeric.mean()"
   ]
  },
  {
   "cell_type": "code",
   "execution_count": 44,
   "metadata": {},
   "outputs": [
    {
     "data": {
      "text/html": [
       "<div>\n",
       "<style scoped>\n",
       "    .dataframe tbody tr th:only-of-type {\n",
       "        vertical-align: middle;\n",
       "    }\n",
       "\n",
       "    .dataframe tbody tr th {\n",
       "        vertical-align: top;\n",
       "    }\n",
       "\n",
       "    .dataframe thead th {\n",
       "        text-align: right;\n",
       "    }\n",
       "</style>\n",
       "<table border=\"1\" class=\"dataframe\">\n",
       "  <thead>\n",
       "    <tr style=\"text-align: right;\">\n",
       "      <th></th>\n",
       "      <th>MOST_FREQUENT_DEAD_CAUSE</th>\n",
       "      <th>RICHEST_PERSON_STUDY</th>\n",
       "      <th>RICHEST_PERSON_BABY</th>\n",
       "      <th>RICHEST_PERSON_P_DEATH</th>\n",
       "      <th>RICHEST_PERSON_INVEST</th>\n",
       "    </tr>\n",
       "  </thead>\n",
       "  <tbody>\n",
       "    <tr>\n",
       "      <th>0</th>\n",
       "      <td>NATURAL</td>\n",
       "      <td>False</td>\n",
       "      <td>False</td>\n",
       "      <td>False</td>\n",
       "      <td>True</td>\n",
       "    </tr>\n",
       "    <tr>\n",
       "      <th>1</th>\n",
       "      <td>NATURAL</td>\n",
       "      <td>True</td>\n",
       "      <td>True</td>\n",
       "      <td>False</td>\n",
       "      <td>True</td>\n",
       "    </tr>\n",
       "    <tr>\n",
       "      <th>2</th>\n",
       "      <td>NATURAL</td>\n",
       "      <td>False</td>\n",
       "      <td>False</td>\n",
       "      <td>False</td>\n",
       "      <td>True</td>\n",
       "    </tr>\n",
       "    <tr>\n",
       "      <th>3</th>\n",
       "      <td>NATURAL</td>\n",
       "      <td>False</td>\n",
       "      <td>True</td>\n",
       "      <td>False</td>\n",
       "      <td>True</td>\n",
       "    </tr>\n",
       "    <tr>\n",
       "      <th>4</th>\n",
       "      <td>NATURAL</td>\n",
       "      <td>False</td>\n",
       "      <td>False</td>\n",
       "      <td>False</td>\n",
       "      <td>True</td>\n",
       "    </tr>\n",
       "    <tr>\n",
       "      <th>...</th>\n",
       "      <td>...</td>\n",
       "      <td>...</td>\n",
       "      <td>...</td>\n",
       "      <td>...</td>\n",
       "      <td>...</td>\n",
       "    </tr>\n",
       "    <tr>\n",
       "      <th>95</th>\n",
       "      <td>NATURAL</td>\n",
       "      <td>True</td>\n",
       "      <td>False</td>\n",
       "      <td>False</td>\n",
       "      <td>True</td>\n",
       "    </tr>\n",
       "    <tr>\n",
       "      <th>96</th>\n",
       "      <td>NATURAL</td>\n",
       "      <td>False</td>\n",
       "      <td>True</td>\n",
       "      <td>False</td>\n",
       "      <td>True</td>\n",
       "    </tr>\n",
       "    <tr>\n",
       "      <th>97</th>\n",
       "      <td>NATURAL</td>\n",
       "      <td>True</td>\n",
       "      <td>True</td>\n",
       "      <td>False</td>\n",
       "      <td>True</td>\n",
       "    </tr>\n",
       "    <tr>\n",
       "      <th>98</th>\n",
       "      <td>NATURAL</td>\n",
       "      <td>False</td>\n",
       "      <td>False</td>\n",
       "      <td>False</td>\n",
       "      <td>True</td>\n",
       "    </tr>\n",
       "    <tr>\n",
       "      <th>99</th>\n",
       "      <td>NATURAL</td>\n",
       "      <td>True</td>\n",
       "      <td>False</td>\n",
       "      <td>False</td>\n",
       "      <td>True</td>\n",
       "    </tr>\n",
       "  </tbody>\n",
       "</table>\n",
       "<p>100 rows × 5 columns</p>\n",
       "</div>"
      ],
      "text/plain": [
       "   MOST_FREQUENT_DEAD_CAUSE  RICHEST_PERSON_STUDY  RICHEST_PERSON_BABY  \\\n",
       "0                   NATURAL                 False                False   \n",
       "1                   NATURAL                  True                 True   \n",
       "2                   NATURAL                 False                False   \n",
       "3                   NATURAL                 False                 True   \n",
       "4                   NATURAL                 False                False   \n",
       "..                      ...                   ...                  ...   \n",
       "95                  NATURAL                  True                False   \n",
       "96                  NATURAL                 False                 True   \n",
       "97                  NATURAL                  True                 True   \n",
       "98                  NATURAL                 False                False   \n",
       "99                  NATURAL                  True                False   \n",
       "\n",
       "    RICHEST_PERSON_P_DEATH  RICHEST_PERSON_INVEST  \n",
       "0                    False                   True  \n",
       "1                    False                   True  \n",
       "2                    False                   True  \n",
       "3                    False                   True  \n",
       "4                    False                   True  \n",
       "..                     ...                    ...  \n",
       "95                   False                   True  \n",
       "96                   False                   True  \n",
       "97                   False                   True  \n",
       "98                   False                   True  \n",
       "99                   False                   True  \n",
       "\n",
       "[100 rows x 5 columns]"
      ]
     },
     "execution_count": 44,
     "metadata": {},
     "output_type": "execute_result"
    }
   ],
   "source": [
    "categorical#.value_counts()"
   ]
  },
  {
   "cell_type": "code",
   "execution_count": 31,
   "metadata": {},
   "outputs": [
    {
     "data": {
      "text/plain": [
       "FINAL_POPULATION            9.760900e+02\n",
       "FINAL_YEAR                  4.304100e+02\n",
       "MEAN_AGE_DIE                7.512279e+01\n",
       "MEDIAN_AGE_DIE              7.647500e+01\n",
       "MEAN_MONEY_DIE              3.014996e+05\n",
       "MEDIAN_MONEY_DIE            2.859990e+05\n",
       "RICHEST_PERSON_AGE          6.455000e+01\n",
       "RICHEST_PERSON_CHILDREN     8.600000e-01\n",
       "RICHEST_PERSON_MONEY        1.316035e+06\n",
       "RICHEST_PERSON_STUDY        2.300000e-01\n",
       "RICHEST_PERSON_BABY         3.900000e-01\n",
       "RICHEST_PERSON_P_DEATH      1.000000e-02\n",
       "RICHEST_PERSON_INVEST       1.000000e+00\n",
       "RICHEST_PERSON_S_MONEY      1.620000e-01\n",
       "RICHEST_PERSON_MONEY_INV    1.394000e-01\n",
       "GINI_ALIVE                  5.090622e-01\n",
       "dtype: float64"
      ]
     },
     "execution_count": 31,
     "metadata": {},
     "output_type": "execute_result"
    }
   ],
   "source": [
    "com = aggregated_data_2.mean()\n",
    "com"
   ]
  },
  {
   "cell_type": "code",
   "execution_count": null,
   "metadata": {},
   "outputs": [],
   "source": []
  },
  {
   "cell_type": "code",
   "execution_count": 27,
   "metadata": {},
   "outputs": [
    {
     "data": {
      "text/html": [
       "<div>\n",
       "<style scoped>\n",
       "    .dataframe tbody tr th:only-of-type {\n",
       "        vertical-align: middle;\n",
       "    }\n",
       "\n",
       "    .dataframe tbody tr th {\n",
       "        vertical-align: top;\n",
       "    }\n",
       "\n",
       "    .dataframe thead th {\n",
       "        text-align: right;\n",
       "    }\n",
       "</style>\n",
       "<table border=\"1\" class=\"dataframe\">\n",
       "  <thead>\n",
       "    <tr style=\"text-align: right;\">\n",
       "      <th></th>\n",
       "      <th>FINAL_POPULATION</th>\n",
       "      <th>FINAL_YEAR</th>\n",
       "      <th>MEAN_AGE_DIE</th>\n",
       "      <th>MEDIAN_AGE_DIE</th>\n",
       "      <th>MEAN_MONEY_DIE</th>\n",
       "      <th>MEDIAN_MONEY_DIE</th>\n",
       "      <th>MOST_FREQUENT_DEAD_CAUSE</th>\n",
       "      <th>RICHEST_PERSON_AGE</th>\n",
       "      <th>RICHEST_PERSON_CHILDREN</th>\n",
       "      <th>RICHEST_PERSON_MONEY</th>\n",
       "      <th>RICHEST_PERSON_STUDY</th>\n",
       "      <th>RICHEST_PERSON_BABY</th>\n",
       "      <th>RICHEST_PERSON_P_DEATH</th>\n",
       "      <th>RICHEST_PERSON_INVEST</th>\n",
       "      <th>RICHEST_PERSON_S_MONEY</th>\n",
       "      <th>RICHEST_PERSON_MONEY_INV</th>\n",
       "      <th>GINI_ALIVE</th>\n",
       "    </tr>\n",
       "  </thead>\n",
       "  <tbody>\n",
       "    <tr>\n",
       "      <th>0</th>\n",
       "      <td>2011</td>\n",
       "      <td>499</td>\n",
       "      <td>75.496056</td>\n",
       "      <td>77.0</td>\n",
       "      <td>299502.681918</td>\n",
       "      <td>298903.163844</td>\n",
       "      <td>NATURAL</td>\n",
       "      <td>49</td>\n",
       "      <td>0</td>\n",
       "      <td>8.377908e+05</td>\n",
       "      <td>False</td>\n",
       "      <td>False</td>\n",
       "      <td>False</td>\n",
       "      <td>True</td>\n",
       "      <td>0.20</td>\n",
       "      <td>0.15</td>\n",
       "      <td>0.537198</td>\n",
       "    </tr>\n",
       "    <tr>\n",
       "      <th>1</th>\n",
       "      <td>0</td>\n",
       "      <td>150</td>\n",
       "      <td>74.846154</td>\n",
       "      <td>74.0</td>\n",
       "      <td>252689.788532</td>\n",
       "      <td>175179.441863</td>\n",
       "      <td>NATURAL</td>\n",
       "      <td>66</td>\n",
       "      <td>0</td>\n",
       "      <td>8.777686e+05</td>\n",
       "      <td>False</td>\n",
       "      <td>True</td>\n",
       "      <td>False</td>\n",
       "      <td>True</td>\n",
       "      <td>0.20</td>\n",
       "      <td>0.18</td>\n",
       "      <td>0.000000</td>\n",
       "    </tr>\n",
       "    <tr>\n",
       "      <th>2</th>\n",
       "      <td>229</td>\n",
       "      <td>499</td>\n",
       "      <td>76.129909</td>\n",
       "      <td>78.0</td>\n",
       "      <td>309220.653673</td>\n",
       "      <td>314680.193654</td>\n",
       "      <td>NATURAL</td>\n",
       "      <td>58</td>\n",
       "      <td>0</td>\n",
       "      <td>8.041991e+05</td>\n",
       "      <td>False</td>\n",
       "      <td>False</td>\n",
       "      <td>False</td>\n",
       "      <td>True</td>\n",
       "      <td>0.05</td>\n",
       "      <td>0.15</td>\n",
       "      <td>0.563454</td>\n",
       "    </tr>\n",
       "    <tr>\n",
       "      <th>3</th>\n",
       "      <td>1504</td>\n",
       "      <td>499</td>\n",
       "      <td>75.435432</td>\n",
       "      <td>77.5</td>\n",
       "      <td>305132.443699</td>\n",
       "      <td>299266.567768</td>\n",
       "      <td>NATURAL</td>\n",
       "      <td>56</td>\n",
       "      <td>0</td>\n",
       "      <td>1.038745e+06</td>\n",
       "      <td>False</td>\n",
       "      <td>True</td>\n",
       "      <td>False</td>\n",
       "      <td>True</td>\n",
       "      <td>0.05</td>\n",
       "      <td>0.13</td>\n",
       "      <td>0.548085</td>\n",
       "    </tr>\n",
       "    <tr>\n",
       "      <th>4</th>\n",
       "      <td>0</td>\n",
       "      <td>405</td>\n",
       "      <td>79.950000</td>\n",
       "      <td>80.5</td>\n",
       "      <td>281027.866441</td>\n",
       "      <td>272137.403214</td>\n",
       "      <td>NATURAL</td>\n",
       "      <td>66</td>\n",
       "      <td>0</td>\n",
       "      <td>7.109223e+05</td>\n",
       "      <td>True</td>\n",
       "      <td>False</td>\n",
       "      <td>False</td>\n",
       "      <td>True</td>\n",
       "      <td>0.05</td>\n",
       "      <td>0.19</td>\n",
       "      <td>0.000000</td>\n",
       "    </tr>\n",
       "    <tr>\n",
       "      <th>5</th>\n",
       "      <td>0</td>\n",
       "      <td>74</td>\n",
       "      <td>74.363636</td>\n",
       "      <td>74.0</td>\n",
       "      <td>157361.271826</td>\n",
       "      <td>125985.962007</td>\n",
       "      <td>NATURAL</td>\n",
       "      <td>66</td>\n",
       "      <td>0</td>\n",
       "      <td>5.708592e+05</td>\n",
       "      <td>True</td>\n",
       "      <td>False</td>\n",
       "      <td>False</td>\n",
       "      <td>True</td>\n",
       "      <td>0.05</td>\n",
       "      <td>0.08</td>\n",
       "      <td>0.000000</td>\n",
       "    </tr>\n",
       "    <tr>\n",
       "      <th>6</th>\n",
       "      <td>1497</td>\n",
       "      <td>499</td>\n",
       "      <td>74.620956</td>\n",
       "      <td>77.0</td>\n",
       "      <td>306987.941103</td>\n",
       "      <td>311986.937489</td>\n",
       "      <td>NATURAL</td>\n",
       "      <td>63</td>\n",
       "      <td>0</td>\n",
       "      <td>9.472459e+05</td>\n",
       "      <td>True</td>\n",
       "      <td>False</td>\n",
       "      <td>False</td>\n",
       "      <td>True</td>\n",
       "      <td>0.05</td>\n",
       "      <td>0.10</td>\n",
       "      <td>0.548273</td>\n",
       "    </tr>\n",
       "    <tr>\n",
       "      <th>7</th>\n",
       "      <td>0</td>\n",
       "      <td>270</td>\n",
       "      <td>75.583333</td>\n",
       "      <td>79.0</td>\n",
       "      <td>291000.206737</td>\n",
       "      <td>219367.205755</td>\n",
       "      <td>NATURAL</td>\n",
       "      <td>66</td>\n",
       "      <td>0</td>\n",
       "      <td>6.614407e+05</td>\n",
       "      <td>False</td>\n",
       "      <td>False</td>\n",
       "      <td>False</td>\n",
       "      <td>True</td>\n",
       "      <td>0.05</td>\n",
       "      <td>0.20</td>\n",
       "      <td>0.000000</td>\n",
       "    </tr>\n",
       "    <tr>\n",
       "      <th>8</th>\n",
       "      <td>682</td>\n",
       "      <td>499</td>\n",
       "      <td>76.829819</td>\n",
       "      <td>78.5</td>\n",
       "      <td>317360.254181</td>\n",
       "      <td>326110.320351</td>\n",
       "      <td>NATURAL</td>\n",
       "      <td>63</td>\n",
       "      <td>0</td>\n",
       "      <td>9.068413e+05</td>\n",
       "      <td>False</td>\n",
       "      <td>False</td>\n",
       "      <td>False</td>\n",
       "      <td>True</td>\n",
       "      <td>0.05</td>\n",
       "      <td>0.13</td>\n",
       "      <td>0.565196</td>\n",
       "    </tr>\n",
       "    <tr>\n",
       "      <th>9</th>\n",
       "      <td>1681</td>\n",
       "      <td>499</td>\n",
       "      <td>75.067528</td>\n",
       "      <td>77.0</td>\n",
       "      <td>291144.896856</td>\n",
       "      <td>285599.803285</td>\n",
       "      <td>NATURAL</td>\n",
       "      <td>69</td>\n",
       "      <td>0</td>\n",
       "      <td>9.750485e+05</td>\n",
       "      <td>False</td>\n",
       "      <td>False</td>\n",
       "      <td>False</td>\n",
       "      <td>True</td>\n",
       "      <td>0.20</td>\n",
       "      <td>0.18</td>\n",
       "      <td>0.559956</td>\n",
       "    </tr>\n",
       "    <tr>\n",
       "      <th>10</th>\n",
       "      <td>78</td>\n",
       "      <td>499</td>\n",
       "      <td>77.296296</td>\n",
       "      <td>79.0</td>\n",
       "      <td>322816.273391</td>\n",
       "      <td>349251.284255</td>\n",
       "      <td>NATURAL</td>\n",
       "      <td>42</td>\n",
       "      <td>0</td>\n",
       "      <td>6.517155e+05</td>\n",
       "      <td>False</td>\n",
       "      <td>False</td>\n",
       "      <td>False</td>\n",
       "      <td>True</td>\n",
       "      <td>0.20</td>\n",
       "      <td>0.08</td>\n",
       "      <td>0.599674</td>\n",
       "    </tr>\n",
       "    <tr>\n",
       "      <th>11</th>\n",
       "      <td>596</td>\n",
       "      <td>499</td>\n",
       "      <td>75.259701</td>\n",
       "      <td>78.0</td>\n",
       "      <td>315725.653499</td>\n",
       "      <td>308624.896747</td>\n",
       "      <td>NATURAL</td>\n",
       "      <td>68</td>\n",
       "      <td>5</td>\n",
       "      <td>9.346342e+05</td>\n",
       "      <td>True</td>\n",
       "      <td>True</td>\n",
       "      <td>False</td>\n",
       "      <td>True</td>\n",
       "      <td>0.20</td>\n",
       "      <td>0.12</td>\n",
       "      <td>0.531961</td>\n",
       "    </tr>\n",
       "    <tr>\n",
       "      <th>12</th>\n",
       "      <td>0</td>\n",
       "      <td>192</td>\n",
       "      <td>77.268293</td>\n",
       "      <td>78.0</td>\n",
       "      <td>236483.149988</td>\n",
       "      <td>187056.690536</td>\n",
       "      <td>NATURAL</td>\n",
       "      <td>66</td>\n",
       "      <td>0</td>\n",
       "      <td>1.081197e+06</td>\n",
       "      <td>False</td>\n",
       "      <td>False</td>\n",
       "      <td>False</td>\n",
       "      <td>True</td>\n",
       "      <td>0.20</td>\n",
       "      <td>0.15</td>\n",
       "      <td>0.000000</td>\n",
       "    </tr>\n",
       "    <tr>\n",
       "      <th>13</th>\n",
       "      <td>514</td>\n",
       "      <td>499</td>\n",
       "      <td>76.415000</td>\n",
       "      <td>79.0</td>\n",
       "      <td>319048.603263</td>\n",
       "      <td>317782.844427</td>\n",
       "      <td>NATURAL</td>\n",
       "      <td>55</td>\n",
       "      <td>0</td>\n",
       "      <td>8.524127e+05</td>\n",
       "      <td>False</td>\n",
       "      <td>False</td>\n",
       "      <td>False</td>\n",
       "      <td>True</td>\n",
       "      <td>0.20</td>\n",
       "      <td>0.14</td>\n",
       "      <td>0.557708</td>\n",
       "    </tr>\n",
       "    <tr>\n",
       "      <th>14</th>\n",
       "      <td>1134</td>\n",
       "      <td>499</td>\n",
       "      <td>75.045950</td>\n",
       "      <td>77.0</td>\n",
       "      <td>315198.047664</td>\n",
       "      <td>313116.552748</td>\n",
       "      <td>NATURAL</td>\n",
       "      <td>46</td>\n",
       "      <td>0</td>\n",
       "      <td>9.758794e+05</td>\n",
       "      <td>False</td>\n",
       "      <td>False</td>\n",
       "      <td>False</td>\n",
       "      <td>True</td>\n",
       "      <td>0.05</td>\n",
       "      <td>0.12</td>\n",
       "      <td>0.556981</td>\n",
       "    </tr>\n",
       "    <tr>\n",
       "      <th>15</th>\n",
       "      <td>2827</td>\n",
       "      <td>499</td>\n",
       "      <td>75.058842</td>\n",
       "      <td>77.0</td>\n",
       "      <td>296877.801501</td>\n",
       "      <td>294779.727683</td>\n",
       "      <td>NATURAL</td>\n",
       "      <td>66</td>\n",
       "      <td>0</td>\n",
       "      <td>9.413637e+05</td>\n",
       "      <td>False</td>\n",
       "      <td>False</td>\n",
       "      <td>False</td>\n",
       "      <td>True</td>\n",
       "      <td>0.20</td>\n",
       "      <td>0.20</td>\n",
       "      <td>0.556922</td>\n",
       "    </tr>\n",
       "    <tr>\n",
       "      <th>16</th>\n",
       "      <td>0</td>\n",
       "      <td>299</td>\n",
       "      <td>76.723810</td>\n",
       "      <td>77.0</td>\n",
       "      <td>272973.616928</td>\n",
       "      <td>294992.324415</td>\n",
       "      <td>NATURAL</td>\n",
       "      <td>66</td>\n",
       "      <td>0</td>\n",
       "      <td>6.427689e+05</td>\n",
       "      <td>False</td>\n",
       "      <td>False</td>\n",
       "      <td>False</td>\n",
       "      <td>True</td>\n",
       "      <td>0.05</td>\n",
       "      <td>0.19</td>\n",
       "      <td>0.000000</td>\n",
       "    </tr>\n",
       "    <tr>\n",
       "      <th>17</th>\n",
       "      <td>0</td>\n",
       "      <td>281</td>\n",
       "      <td>77.274510</td>\n",
       "      <td>78.0</td>\n",
       "      <td>221512.213452</td>\n",
       "      <td>194468.800111</td>\n",
       "      <td>NATURAL</td>\n",
       "      <td>66</td>\n",
       "      <td>0</td>\n",
       "      <td>5.668378e+05</td>\n",
       "      <td>False</td>\n",
       "      <td>False</td>\n",
       "      <td>False</td>\n",
       "      <td>True</td>\n",
       "      <td>0.05</td>\n",
       "      <td>0.13</td>\n",
       "      <td>0.000000</td>\n",
       "    </tr>\n",
       "    <tr>\n",
       "      <th>18</th>\n",
       "      <td>224</td>\n",
       "      <td>499</td>\n",
       "      <td>76.433846</td>\n",
       "      <td>78.0</td>\n",
       "      <td>289916.439457</td>\n",
       "      <td>279544.376658</td>\n",
       "      <td>NATURAL</td>\n",
       "      <td>66</td>\n",
       "      <td>0</td>\n",
       "      <td>6.091128e+05</td>\n",
       "      <td>True</td>\n",
       "      <td>False</td>\n",
       "      <td>False</td>\n",
       "      <td>True</td>\n",
       "      <td>0.20</td>\n",
       "      <td>0.15</td>\n",
       "      <td>0.562536</td>\n",
       "    </tr>\n",
       "    <tr>\n",
       "      <th>19</th>\n",
       "      <td>0</td>\n",
       "      <td>104</td>\n",
       "      <td>78.076923</td>\n",
       "      <td>79.0</td>\n",
       "      <td>183100.680822</td>\n",
       "      <td>199537.451656</td>\n",
       "      <td>NATURAL</td>\n",
       "      <td>66</td>\n",
       "      <td>0</td>\n",
       "      <td>4.923820e+05</td>\n",
       "      <td>False</td>\n",
       "      <td>False</td>\n",
       "      <td>False</td>\n",
       "      <td>True</td>\n",
       "      <td>0.05</td>\n",
       "      <td>0.19</td>\n",
       "      <td>0.000000</td>\n",
       "    </tr>\n",
       "  </tbody>\n",
       "</table>\n",
       "</div>"
      ],
      "text/plain": [
       "    FINAL_POPULATION  FINAL_YEAR  MEAN_AGE_DIE  MEDIAN_AGE_DIE  \\\n",
       "0               2011         499     75.496056            77.0   \n",
       "1                  0         150     74.846154            74.0   \n",
       "2                229         499     76.129909            78.0   \n",
       "3               1504         499     75.435432            77.5   \n",
       "4                  0         405     79.950000            80.5   \n",
       "5                  0          74     74.363636            74.0   \n",
       "6               1497         499     74.620956            77.0   \n",
       "7                  0         270     75.583333            79.0   \n",
       "8                682         499     76.829819            78.5   \n",
       "9               1681         499     75.067528            77.0   \n",
       "10                78         499     77.296296            79.0   \n",
       "11               596         499     75.259701            78.0   \n",
       "12                 0         192     77.268293            78.0   \n",
       "13               514         499     76.415000            79.0   \n",
       "14              1134         499     75.045950            77.0   \n",
       "15              2827         499     75.058842            77.0   \n",
       "16                 0         299     76.723810            77.0   \n",
       "17                 0         281     77.274510            78.0   \n",
       "18               224         499     76.433846            78.0   \n",
       "19                 0         104     78.076923            79.0   \n",
       "\n",
       "    MEAN_MONEY_DIE  MEDIAN_MONEY_DIE MOST_FREQUENT_DEAD_CAUSE  \\\n",
       "0    299502.681918     298903.163844                  NATURAL   \n",
       "1    252689.788532     175179.441863                  NATURAL   \n",
       "2    309220.653673     314680.193654                  NATURAL   \n",
       "3    305132.443699     299266.567768                  NATURAL   \n",
       "4    281027.866441     272137.403214                  NATURAL   \n",
       "5    157361.271826     125985.962007                  NATURAL   \n",
       "6    306987.941103     311986.937489                  NATURAL   \n",
       "7    291000.206737     219367.205755                  NATURAL   \n",
       "8    317360.254181     326110.320351                  NATURAL   \n",
       "9    291144.896856     285599.803285                  NATURAL   \n",
       "10   322816.273391     349251.284255                  NATURAL   \n",
       "11   315725.653499     308624.896747                  NATURAL   \n",
       "12   236483.149988     187056.690536                  NATURAL   \n",
       "13   319048.603263     317782.844427                  NATURAL   \n",
       "14   315198.047664     313116.552748                  NATURAL   \n",
       "15   296877.801501     294779.727683                  NATURAL   \n",
       "16   272973.616928     294992.324415                  NATURAL   \n",
       "17   221512.213452     194468.800111                  NATURAL   \n",
       "18   289916.439457     279544.376658                  NATURAL   \n",
       "19   183100.680822     199537.451656                  NATURAL   \n",
       "\n",
       "    RICHEST_PERSON_AGE  RICHEST_PERSON_CHILDREN  RICHEST_PERSON_MONEY  \\\n",
       "0                   49                        0          8.377908e+05   \n",
       "1                   66                        0          8.777686e+05   \n",
       "2                   58                        0          8.041991e+05   \n",
       "3                   56                        0          1.038745e+06   \n",
       "4                   66                        0          7.109223e+05   \n",
       "5                   66                        0          5.708592e+05   \n",
       "6                   63                        0          9.472459e+05   \n",
       "7                   66                        0          6.614407e+05   \n",
       "8                   63                        0          9.068413e+05   \n",
       "9                   69                        0          9.750485e+05   \n",
       "10                  42                        0          6.517155e+05   \n",
       "11                  68                        5          9.346342e+05   \n",
       "12                  66                        0          1.081197e+06   \n",
       "13                  55                        0          8.524127e+05   \n",
       "14                  46                        0          9.758794e+05   \n",
       "15                  66                        0          9.413637e+05   \n",
       "16                  66                        0          6.427689e+05   \n",
       "17                  66                        0          5.668378e+05   \n",
       "18                  66                        0          6.091128e+05   \n",
       "19                  66                        0          4.923820e+05   \n",
       "\n",
       "    RICHEST_PERSON_STUDY  RICHEST_PERSON_BABY  RICHEST_PERSON_P_DEATH  \\\n",
       "0                  False                False                   False   \n",
       "1                  False                 True                   False   \n",
       "2                  False                False                   False   \n",
       "3                  False                 True                   False   \n",
       "4                   True                False                   False   \n",
       "5                   True                False                   False   \n",
       "6                   True                False                   False   \n",
       "7                  False                False                   False   \n",
       "8                  False                False                   False   \n",
       "9                  False                False                   False   \n",
       "10                 False                False                   False   \n",
       "11                  True                 True                   False   \n",
       "12                 False                False                   False   \n",
       "13                 False                False                   False   \n",
       "14                 False                False                   False   \n",
       "15                 False                False                   False   \n",
       "16                 False                False                   False   \n",
       "17                 False                False                   False   \n",
       "18                  True                False                   False   \n",
       "19                 False                False                   False   \n",
       "\n",
       "    RICHEST_PERSON_INVEST  RICHEST_PERSON_S_MONEY  RICHEST_PERSON_MONEY_INV  \\\n",
       "0                    True                    0.20                      0.15   \n",
       "1                    True                    0.20                      0.18   \n",
       "2                    True                    0.05                      0.15   \n",
       "3                    True                    0.05                      0.13   \n",
       "4                    True                    0.05                      0.19   \n",
       "5                    True                    0.05                      0.08   \n",
       "6                    True                    0.05                      0.10   \n",
       "7                    True                    0.05                      0.20   \n",
       "8                    True                    0.05                      0.13   \n",
       "9                    True                    0.20                      0.18   \n",
       "10                   True                    0.20                      0.08   \n",
       "11                   True                    0.20                      0.12   \n",
       "12                   True                    0.20                      0.15   \n",
       "13                   True                    0.20                      0.14   \n",
       "14                   True                    0.05                      0.12   \n",
       "15                   True                    0.20                      0.20   \n",
       "16                   True                    0.05                      0.19   \n",
       "17                   True                    0.05                      0.13   \n",
       "18                   True                    0.20                      0.15   \n",
       "19                   True                    0.05                      0.19   \n",
       "\n",
       "    GINI_ALIVE  \n",
       "0     0.537198  \n",
       "1     0.000000  \n",
       "2     0.563454  \n",
       "3     0.548085  \n",
       "4     0.000000  \n",
       "5     0.000000  \n",
       "6     0.548273  \n",
       "7     0.000000  \n",
       "8     0.565196  \n",
       "9     0.559956  \n",
       "10    0.599674  \n",
       "11    0.531961  \n",
       "12    0.000000  \n",
       "13    0.557708  \n",
       "14    0.556981  \n",
       "15    0.556922  \n",
       "16    0.000000  \n",
       "17    0.000000  \n",
       "18    0.562536  \n",
       "19    0.000000  "
      ]
     },
     "execution_count": 27,
     "metadata": {},
     "output_type": "execute_result"
    }
   ],
   "source": [
    "aggregated_data_2"
   ]
  },
  {
   "cell_type": "code",
   "execution_count": null,
   "metadata": {},
   "outputs": [],
   "source": [
    "def death_population_indicators(world, feature):\n",
    "    age_death = list() \n",
    "    for person in world.dead_population:\n",
    "        age_death.append(person[feature])\n",
    "    age_death = pd.Series(age_death)\n",
    "    return age_death.mean(), age_death.median()\n",
    "    "
   ]
  },
  {
   "cell_type": "code",
   "execution_count": 19,
   "metadata": {},
   "outputs": [
    {
     "data": {
      "text/plain": [
       "FINAL_POPULATION               503.750000\n",
       "FINAL_YEAR                     415.050000\n",
       "MEAN_AGE_DIE                    73.000515\n",
       "MEDIAN_AGE_DIE                  74.525000\n",
       "MEAN_MONEY_DIE              199493.819524\n",
       "MEDIAN_MONEY_DIE            160707.798337\n",
       "RICHEST_PERSON_AGE              66.000000\n",
       "RICHEST_PERSON_CHILDREN          0.050000\n",
       "RICHEST_PERSON_MONEY        543722.264492\n",
       "RICHEST_PERSON_STUDY             0.850000\n",
       "RICHEST_PERSON_BABY              0.100000\n",
       "RICHEST_PERSON_P_DEATH           0.000000\n",
       "RICHEST_PERSON_INVEST            1.000000\n",
       "RICHEST_PERSON_S_MONEY           0.057500\n",
       "RICHEST_PERSON_MONEY_INV         0.182000\n",
       "GINI_ALIVE                       0.499640\n",
       "dtype: float64"
      ]
     },
     "execution_count": 19,
     "metadata": {},
     "output_type": "execute_result"
    }
   ],
   "source": [
    "sem"
   ]
  },
  {
   "cell_type": "code",
   "execution_count": null,
   "metadata": {},
   "outputs": [],
   "source": []
  },
  {
   "cell_type": "code",
   "execution_count": null,
   "metadata": {},
   "outputs": [],
   "source": []
  }
 ],
 "metadata": {
  "interpreter": {
   "hash": "31f2aee4e71d21fbe5cf8b01ff0e069b9275f58929596ceb00d14d90e3e16cd6"
  },
  "kernelspec": {
   "display_name": "Python 3",
   "language": "python",
   "name": "python3"
  },
  "language_info": {
   "codemirror_mode": {
    "name": "ipython",
    "version": 3
   },
   "file_extension": ".py",
   "mimetype": "text/x-python",
   "name": "python",
   "nbconvert_exporter": "python",
   "pygments_lexer": "ipython3",
   "version": "3.8.10"
  }
 },
 "nbformat": 4,
 "nbformat_minor": 4
}
