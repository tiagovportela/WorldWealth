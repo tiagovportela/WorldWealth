{
 "cells": [
  {
   "cell_type": "code",
   "execution_count": 1,
   "metadata": {},
   "outputs": [],
   "source": [
    "%load_ext autoreload\n",
    "%autoreload 2"
   ]
  },
  {
   "cell_type": "code",
   "execution_count": 2,
   "metadata": {},
   "outputs": [],
   "source": [
    "#from worldwealth import Person\n",
    "import csv\n",
    "from matplotlib import pyplot as plt\n",
    "import numpy as np\n",
    "import pandas as pd\n",
    "import os\n",
    "from numba import jit\n",
    "import multiprocessing as mp"
   ]
  },
  {
   "cell_type": "code",
   "execution_count": 3,
   "metadata": {},
   "outputs": [],
   "source": [
    "plt.rcParams['figure.figsize'] = (20, 6)"
   ]
  },
  {
   "cell_type": "code",
   "execution_count": 4,
   "metadata": {},
   "outputs": [],
   "source": [
    "from worldwealth import World"
   ]
  },
  {
   "cell_type": "code",
   "execution_count": 25,
   "metadata": {},
   "outputs": [],
   "source": [
    "try:\n",
    "    os.remove('people.csv')\n",
    "    os.remove('state.csv')\n",
    "    os.remove('company.csv')\n",
    "except:\n",
    "    pass\n",
    "world = World(\n",
    "                 name= '1',\n",
    "                 initial_population = 20,\n",
    "                 years_until_extintion = 1200,\n",
    "                 allow_heritage = False,\n",
    "                 wealth_distribution = True,\n",
    "                 initial_resources=200,\n",
    "                 number_companies = 1\n",
    "\n",
    "\n",
    "                 )\n",
    "world.create_world()"
   ]
  },
  {
   "cell_type": "code",
   "execution_count": 26,
   "metadata": {},
   "outputs": [
    {
     "output_type": "execute_result",
     "data": {
      "text/plain": [
       "20"
      ]
     },
     "metadata": {},
     "execution_count": 26
    }
   ],
   "source": [
    "len(world.population)"
   ]
  },
  {
   "cell_type": "code",
   "execution_count": 27,
   "metadata": {},
   "outputs": [
    {
     "output_type": "execute_result",
     "data": {
      "text/plain": [
       "200"
      ]
     },
     "metadata": {},
     "execution_count": 27
    }
   ],
   "source": [
    "world.resources.available_resources"
   ]
  },
  {
   "cell_type": "code",
   "execution_count": 28,
   "metadata": {},
   "outputs": [],
   "source": [
    "world.run()"
   ]
  },
  {
   "cell_type": "code",
   "execution_count": 29,
   "metadata": {},
   "outputs": [
    {
     "output_type": "execute_result",
     "data": {
      "text/plain": [
       "0"
      ]
     },
     "metadata": {},
     "execution_count": 29
    }
   ],
   "source": [
    "len(world.population)"
   ]
  },
  {
   "cell_type": "code",
   "execution_count": 30,
   "metadata": {},
   "outputs": [],
   "source": [
    "cause_of_death = list()\n",
    "age_of_death = list()\n",
    "money = list()\n",
    "number_children = list()\n",
    "hired = list()\n",
    "have_baby = list()\n",
    "data = {\n",
    "}\n",
    "\n",
    "for person in world.dead_population:\n",
    "    cause_of_death.append(person.cause_of_death)\n",
    "    age_of_death.append(person.age)\n",
    "    money.append(person.money)\n",
    "    number_children.append(len(person.children))\n",
    "    hired.append(person.hired)\n",
    "    have_baby.append(person.DNA['BABY'])\n",
    "\n",
    "data['cause_of_death'] = cause_of_death\n",
    "data['age_of_death'] = age_of_death\n",
    "data['money'] = money\n",
    "data['number_children'] = number_children\n",
    "data['hired'] = hired\n",
    "data['have_baby'] = have_baby\n",
    "dead_data = pd.DataFrame(data)"
   ]
  },
  {
   "cell_type": "code",
   "execution_count": 31,
   "metadata": {},
   "outputs": [
    {
     "output_type": "execute_result",
     "data": {
      "text/plain": [
       "CANT_PROVED_BASIC_NEEDS    4053\n",
       "NATURAL                    2030\n",
       "PREMATURE                    34\n",
       "Name: cause_of_death, dtype: int64"
      ]
     },
     "metadata": {},
     "execution_count": 31
    }
   ],
   "source": [
    "dead_data.cause_of_death.value_counts()#.index[0]"
   ]
  },
  {
   "cell_type": "code",
   "execution_count": 32,
   "metadata": {},
   "outputs": [
    {
     "output_type": "execute_result",
     "data": {
      "text/plain": [
       "0.9967304234101684"
      ]
     },
     "metadata": {},
     "execution_count": 32
    }
   ],
   "source": [
    "dead_data.number_children.mean()"
   ]
  },
  {
   "cell_type": "code",
   "execution_count": 33,
   "metadata": {},
   "outputs": [
    {
     "output_type": "execute_result",
     "data": {
      "text/plain": [
       "0     0.649501\n",
       "1     0.087134\n",
       "2     0.080432\n",
       "3     0.077489\n",
       "4     0.049207\n",
       "5     0.030571\n",
       "6     0.016511\n",
       "7     0.007030\n",
       "8     0.000981\n",
       "9     0.000981\n",
       "10    0.000163\n",
       "Name: number_children, dtype: float64"
      ]
     },
     "metadata": {},
     "execution_count": 33
    }
   ],
   "source": [
    "dead_data.number_children.value_counts()/len(dead_data)"
   ]
  },
  {
   "cell_type": "code",
   "execution_count": 34,
   "metadata": {},
   "outputs": [
    {
     "output_type": "execute_result",
     "data": {
      "text/plain": [
       "True     0.642472\n",
       "False    0.357528\n",
       "Name: have_baby, dtype: float64"
      ]
     },
     "metadata": {},
     "execution_count": 34
    }
   ],
   "source": [
    "dead_data.have_baby.value_counts()/len(dead_data)"
   ]
  },
  {
   "cell_type": "code",
   "execution_count": 35,
   "metadata": {},
   "outputs": [
    {
     "output_type": "execute_result",
     "data": {
      "text/plain": [
       "<AxesSubplot:>"
      ]
     },
     "metadata": {},
     "execution_count": 35
    },
    {
     "output_type": "display_data",
     "data": {
      "text/plain": "<Figure size 1440x432 with 1 Axes>",
      "image/svg+xml": "<?xml version=\"1.0\" encoding=\"utf-8\" standalone=\"no\"?>\n<!DOCTYPE svg PUBLIC \"-//W3C//DTD SVG 1.1//EN\"\n  \"http://www.w3.org/Graphics/SVG/1.1/DTD/svg11.dtd\">\n<svg height=\"357.238125pt\" version=\"1.1\" viewBox=\"0 0 1162.85 357.238125\" width=\"1162.85pt\" xmlns=\"http://www.w3.org/2000/svg\" xmlns:xlink=\"http://www.w3.org/1999/xlink\">\n <metadata>\n  <rdf:RDF xmlns:cc=\"http://creativecommons.org/ns#\" xmlns:dc=\"http://purl.org/dc/elements/1.1/\" xmlns:rdf=\"http://www.w3.org/1999/02/22-rdf-syntax-ns#\">\n   <cc:Work>\n    <dc:type rdf:resource=\"http://purl.org/dc/dcmitype/StillImage\"/>\n    <dc:date>2021-07-12T16:52:05.153685</dc:date>\n    <dc:format>image/svg+xml</dc:format>\n    <dc:creator>\n     <cc:Agent>\n      <dc:title>Matplotlib v3.4.0, https://matplotlib.org/</dc:title>\n     </cc:Agent>\n    </dc:creator>\n   </cc:Work>\n  </rdf:RDF>\n </metadata>\n <defs>\n  <style type=\"text/css\">*{stroke-linecap:butt;stroke-linejoin:round;}</style>\n </defs>\n <g id=\"figure_1\">\n  <g id=\"patch_1\">\n   <path d=\"M 0 357.238125 \nL 1162.85 357.238125 \nL 1162.85 0 \nL 0 0 \nz\n\" style=\"fill:none;\"/>\n  </g>\n  <g id=\"axes_1\">\n   <g id=\"patch_2\">\n    <path d=\"M 39.65 333.36 \nL 1155.65 333.36 \nL 1155.65 7.2 \nL 39.65 7.2 \nz\n\" style=\"fill:#ffffff;\"/>\n   </g>\n   <g id=\"patch_3\">\n    <path clip-path=\"url(#p6c8f8446af)\" d=\"M 90.377273 333.36 \nL 217.195455 333.36 \nL 217.195455 22.731429 \nL 90.377273 22.731429 \nz\n\" style=\"fill:#1f77b4;\"/>\n   </g>\n   <g id=\"patch_4\">\n    <path clip-path=\"url(#p6c8f8446af)\" d=\"M 217.195455 333.36 \nL 344.013636 333.36 \nL 344.013636 299.443165 \nL 217.195455 299.443165 \nz\n\" style=\"fill:#1f77b4;\"/>\n   </g>\n   <g id=\"patch_5\">\n    <path clip-path=\"url(#p6c8f8446af)\" d=\"M 344.013636 333.36 \nL 470.831818 333.36 \nL 470.831818 300.684025 \nL 344.013636 300.684025 \nz\n\" style=\"fill:#1f77b4;\"/>\n   </g>\n   <g id=\"patch_6\">\n    <path clip-path=\"url(#p6c8f8446af)\" d=\"M 470.831818 333.36 \nL 597.65 333.36 \nL 597.65 312.610067 \nL 470.831818 312.610067 \nz\n\" style=\"fill:#1f77b4;\"/>\n   </g>\n   <g id=\"patch_7\">\n    <path clip-path=\"url(#p6c8f8446af)\" d=\"M 597.65 333.36 \nL 724.468182 333.36 \nL 724.468182 313.506243 \nL 597.65 313.506243 \nz\n\" style=\"fill:#1f77b4;\"/>\n   </g>\n   <g id=\"patch_8\">\n    <path clip-path=\"url(#p6c8f8446af)\" d=\"M 724.468182 333.36 \nL 851.286364 333.36 \nL 851.286364 330.395724 \nL 724.468182 330.395724 \nz\n\" style=\"fill:#1f77b4;\"/>\n   </g>\n   <g id=\"patch_9\">\n    <path clip-path=\"url(#p6c8f8446af)\" d=\"M 851.286364 333.36 \nL 978.104545 333.36 \nL 978.104545 332.94638 \nL 851.286364 332.94638 \nz\n\" style=\"fill:#1f77b4;\"/>\n   </g>\n   <g id=\"patch_10\">\n    <path clip-path=\"url(#p6c8f8446af)\" d=\"M 978.104545 333.36 \nL 1104.922727 333.36 \nL 1104.922727 332.877443 \nL 978.104545 332.877443 \nz\n\" style=\"fill:#1f77b4;\"/>\n   </g>\n   <g id=\"matplotlib.axis_1\">\n    <g id=\"xtick_1\">\n     <g id=\"line2d_1\">\n      <path clip-path=\"url(#p6c8f8446af)\" d=\"M 90.377273 333.36 \nL 90.377273 7.2 \n\" style=\"fill:none;stroke:#b0b0b0;stroke-linecap:square;stroke-width:0.8;\"/>\n     </g>\n     <g id=\"line2d_2\">\n      <defs>\n       <path d=\"M 0 0 \nL 0 3.5 \n\" id=\"m4818ff28e7\" style=\"stroke:#000000;stroke-width:0.8;\"/>\n      </defs>\n      <g>\n       <use style=\"stroke:#000000;stroke-width:0.8;\" x=\"90.377273\" xlink:href=\"#m4818ff28e7\" y=\"333.36\"/>\n      </g>\n     </g>\n     <g id=\"text_1\">\n      <!-- 0 -->\n      <g transform=\"translate(87.196023 347.958438)scale(0.1 -0.1)\">\n       <defs>\n        <path d=\"M 2034 4250 \nQ 1547 4250 1301 3770 \nQ 1056 3291 1056 2328 \nQ 1056 1369 1301 889 \nQ 1547 409 2034 409 \nQ 2525 409 2770 889 \nQ 3016 1369 3016 2328 \nQ 3016 3291 2770 3770 \nQ 2525 4250 2034 4250 \nz\nM 2034 4750 \nQ 2819 4750 3233 4129 \nQ 3647 3509 3647 2328 \nQ 3647 1150 3233 529 \nQ 2819 -91 2034 -91 \nQ 1250 -91 836 529 \nQ 422 1150 422 2328 \nQ 422 3509 836 4129 \nQ 1250 4750 2034 4750 \nz\n\" id=\"DejaVuSans-30\" transform=\"scale(0.015625)\"/>\n       </defs>\n       <use xlink:href=\"#DejaVuSans-30\"/>\n      </g>\n     </g>\n    </g>\n    <g id=\"xtick_2\">\n     <g id=\"line2d_3\">\n      <path clip-path=\"url(#p6c8f8446af)\" d=\"M 293.286364 333.36 \nL 293.286364 7.2 \n\" style=\"fill:none;stroke:#b0b0b0;stroke-linecap:square;stroke-width:0.8;\"/>\n     </g>\n     <g id=\"line2d_4\">\n      <g>\n       <use style=\"stroke:#000000;stroke-width:0.8;\" x=\"293.286364\" xlink:href=\"#m4818ff28e7\" y=\"333.36\"/>\n      </g>\n     </g>\n     <g id=\"text_2\">\n      <!-- 2 -->\n      <g transform=\"translate(290.105114 347.958438)scale(0.1 -0.1)\">\n       <defs>\n        <path d=\"M 1228 531 \nL 3431 531 \nL 3431 0 \nL 469 0 \nL 469 531 \nQ 828 903 1448 1529 \nQ 2069 2156 2228 2338 \nQ 2531 2678 2651 2914 \nQ 2772 3150 2772 3378 \nQ 2772 3750 2511 3984 \nQ 2250 4219 1831 4219 \nQ 1534 4219 1204 4116 \nQ 875 4013 500 3803 \nL 500 4441 \nQ 881 4594 1212 4672 \nQ 1544 4750 1819 4750 \nQ 2544 4750 2975 4387 \nQ 3406 4025 3406 3419 \nQ 3406 3131 3298 2873 \nQ 3191 2616 2906 2266 \nQ 2828 2175 2409 1742 \nQ 1991 1309 1228 531 \nz\n\" id=\"DejaVuSans-32\" transform=\"scale(0.015625)\"/>\n       </defs>\n       <use xlink:href=\"#DejaVuSans-32\"/>\n      </g>\n     </g>\n    </g>\n    <g id=\"xtick_3\">\n     <g id=\"line2d_5\">\n      <path clip-path=\"url(#p6c8f8446af)\" d=\"M 496.195455 333.36 \nL 496.195455 7.2 \n\" style=\"fill:none;stroke:#b0b0b0;stroke-linecap:square;stroke-width:0.8;\"/>\n     </g>\n     <g id=\"line2d_6\">\n      <g>\n       <use style=\"stroke:#000000;stroke-width:0.8;\" x=\"496.195455\" xlink:href=\"#m4818ff28e7\" y=\"333.36\"/>\n      </g>\n     </g>\n     <g id=\"text_3\">\n      <!-- 4 -->\n      <g transform=\"translate(493.014205 347.958438)scale(0.1 -0.1)\">\n       <defs>\n        <path d=\"M 2419 4116 \nL 825 1625 \nL 2419 1625 \nL 2419 4116 \nz\nM 2253 4666 \nL 3047 4666 \nL 3047 1625 \nL 3713 1625 \nL 3713 1100 \nL 3047 1100 \nL 3047 0 \nL 2419 0 \nL 2419 1100 \nL 313 1100 \nL 313 1709 \nL 2253 4666 \nz\n\" id=\"DejaVuSans-34\" transform=\"scale(0.015625)\"/>\n       </defs>\n       <use xlink:href=\"#DejaVuSans-34\"/>\n      </g>\n     </g>\n    </g>\n    <g id=\"xtick_4\">\n     <g id=\"line2d_7\">\n      <path clip-path=\"url(#p6c8f8446af)\" d=\"M 699.104545 333.36 \nL 699.104545 7.2 \n\" style=\"fill:none;stroke:#b0b0b0;stroke-linecap:square;stroke-width:0.8;\"/>\n     </g>\n     <g id=\"line2d_8\">\n      <g>\n       <use style=\"stroke:#000000;stroke-width:0.8;\" x=\"699.104545\" xlink:href=\"#m4818ff28e7\" y=\"333.36\"/>\n      </g>\n     </g>\n     <g id=\"text_4\">\n      <!-- 6 -->\n      <g transform=\"translate(695.923295 347.958438)scale(0.1 -0.1)\">\n       <defs>\n        <path d=\"M 2113 2584 \nQ 1688 2584 1439 2293 \nQ 1191 2003 1191 1497 \nQ 1191 994 1439 701 \nQ 1688 409 2113 409 \nQ 2538 409 2786 701 \nQ 3034 994 3034 1497 \nQ 3034 2003 2786 2293 \nQ 2538 2584 2113 2584 \nz\nM 3366 4563 \nL 3366 3988 \nQ 3128 4100 2886 4159 \nQ 2644 4219 2406 4219 \nQ 1781 4219 1451 3797 \nQ 1122 3375 1075 2522 \nQ 1259 2794 1537 2939 \nQ 1816 3084 2150 3084 \nQ 2853 3084 3261 2657 \nQ 3669 2231 3669 1497 \nQ 3669 778 3244 343 \nQ 2819 -91 2113 -91 \nQ 1303 -91 875 529 \nQ 447 1150 447 2328 \nQ 447 3434 972 4092 \nQ 1497 4750 2381 4750 \nQ 2619 4750 2861 4703 \nQ 3103 4656 3366 4563 \nz\n\" id=\"DejaVuSans-36\" transform=\"scale(0.015625)\"/>\n       </defs>\n       <use xlink:href=\"#DejaVuSans-36\"/>\n      </g>\n     </g>\n    </g>\n    <g id=\"xtick_5\">\n     <g id=\"line2d_9\">\n      <path clip-path=\"url(#p6c8f8446af)\" d=\"M 902.013636 333.36 \nL 902.013636 7.2 \n\" style=\"fill:none;stroke:#b0b0b0;stroke-linecap:square;stroke-width:0.8;\"/>\n     </g>\n     <g id=\"line2d_10\">\n      <g>\n       <use style=\"stroke:#000000;stroke-width:0.8;\" x=\"902.013636\" xlink:href=\"#m4818ff28e7\" y=\"333.36\"/>\n      </g>\n     </g>\n     <g id=\"text_5\">\n      <!-- 8 -->\n      <g transform=\"translate(898.832386 347.958438)scale(0.1 -0.1)\">\n       <defs>\n        <path d=\"M 2034 2216 \nQ 1584 2216 1326 1975 \nQ 1069 1734 1069 1313 \nQ 1069 891 1326 650 \nQ 1584 409 2034 409 \nQ 2484 409 2743 651 \nQ 3003 894 3003 1313 \nQ 3003 1734 2745 1975 \nQ 2488 2216 2034 2216 \nz\nM 1403 2484 \nQ 997 2584 770 2862 \nQ 544 3141 544 3541 \nQ 544 4100 942 4425 \nQ 1341 4750 2034 4750 \nQ 2731 4750 3128 4425 \nQ 3525 4100 3525 3541 \nQ 3525 3141 3298 2862 \nQ 3072 2584 2669 2484 \nQ 3125 2378 3379 2068 \nQ 3634 1759 3634 1313 \nQ 3634 634 3220 271 \nQ 2806 -91 2034 -91 \nQ 1263 -91 848 271 \nQ 434 634 434 1313 \nQ 434 1759 690 2068 \nQ 947 2378 1403 2484 \nz\nM 1172 3481 \nQ 1172 3119 1398 2916 \nQ 1625 2713 2034 2713 \nQ 2441 2713 2670 2916 \nQ 2900 3119 2900 3481 \nQ 2900 3844 2670 4047 \nQ 2441 4250 2034 4250 \nQ 1625 4250 1398 4047 \nQ 1172 3844 1172 3481 \nz\n\" id=\"DejaVuSans-38\" transform=\"scale(0.015625)\"/>\n       </defs>\n       <use xlink:href=\"#DejaVuSans-38\"/>\n      </g>\n     </g>\n    </g>\n    <g id=\"xtick_6\">\n     <g id=\"line2d_11\">\n      <path clip-path=\"url(#p6c8f8446af)\" d=\"M 1104.922727 333.36 \nL 1104.922727 7.2 \n\" style=\"fill:none;stroke:#b0b0b0;stroke-linecap:square;stroke-width:0.8;\"/>\n     </g>\n     <g id=\"line2d_12\">\n      <g>\n       <use style=\"stroke:#000000;stroke-width:0.8;\" x=\"1104.922727\" xlink:href=\"#m4818ff28e7\" y=\"333.36\"/>\n      </g>\n     </g>\n     <g id=\"text_6\">\n      <!-- 10 -->\n      <g transform=\"translate(1098.560227 347.958438)scale(0.1 -0.1)\">\n       <defs>\n        <path d=\"M 794 531 \nL 1825 531 \nL 1825 4091 \nL 703 3866 \nL 703 4441 \nL 1819 4666 \nL 2450 4666 \nL 2450 531 \nL 3481 531 \nL 3481 0 \nL 794 0 \nL 794 531 \nz\n\" id=\"DejaVuSans-31\" transform=\"scale(0.015625)\"/>\n       </defs>\n       <use xlink:href=\"#DejaVuSans-31\"/>\n       <use x=\"63.623047\" xlink:href=\"#DejaVuSans-30\"/>\n      </g>\n     </g>\n    </g>\n   </g>\n   <g id=\"matplotlib.axis_2\">\n    <g id=\"ytick_1\">\n     <g id=\"line2d_13\">\n      <path clip-path=\"url(#p6c8f8446af)\" d=\"M 39.65 333.36 \nL 1155.65 333.36 \n\" style=\"fill:none;stroke:#b0b0b0;stroke-linecap:square;stroke-width:0.8;\"/>\n     </g>\n     <g id=\"line2d_14\">\n      <defs>\n       <path d=\"M 0 0 \nL -3.5 0 \n\" id=\"m513f796f3a\" style=\"stroke:#000000;stroke-width:0.8;\"/>\n      </defs>\n      <g>\n       <use style=\"stroke:#000000;stroke-width:0.8;\" x=\"39.65\" xlink:href=\"#m513f796f3a\" y=\"333.36\"/>\n      </g>\n     </g>\n     <g id=\"text_7\">\n      <!-- 0 -->\n      <g transform=\"translate(26.2875 337.159219)scale(0.1 -0.1)\">\n       <use xlink:href=\"#DejaVuSans-30\"/>\n      </g>\n     </g>\n    </g>\n    <g id=\"ytick_2\">\n     <g id=\"line2d_15\">\n      <path clip-path=\"url(#p6c8f8446af)\" d=\"M 39.65 264.423344 \nL 1155.65 264.423344 \n\" style=\"fill:none;stroke:#b0b0b0;stroke-linecap:square;stroke-width:0.8;\"/>\n     </g>\n     <g id=\"line2d_16\">\n      <g>\n       <use style=\"stroke:#000000;stroke-width:0.8;\" x=\"39.65\" xlink:href=\"#m513f796f3a\" y=\"264.423344\"/>\n      </g>\n     </g>\n     <g id=\"text_8\">\n      <!-- 1000 -->\n      <g transform=\"translate(7.2 268.222563)scale(0.1 -0.1)\">\n       <use xlink:href=\"#DejaVuSans-31\"/>\n       <use x=\"63.623047\" xlink:href=\"#DejaVuSans-30\"/>\n       <use x=\"127.246094\" xlink:href=\"#DejaVuSans-30\"/>\n       <use x=\"190.869141\" xlink:href=\"#DejaVuSans-30\"/>\n      </g>\n     </g>\n    </g>\n    <g id=\"ytick_3\">\n     <g id=\"line2d_17\">\n      <path clip-path=\"url(#p6c8f8446af)\" d=\"M 39.65 195.486688 \nL 1155.65 195.486688 \n\" style=\"fill:none;stroke:#b0b0b0;stroke-linecap:square;stroke-width:0.8;\"/>\n     </g>\n     <g id=\"line2d_18\">\n      <g>\n       <use style=\"stroke:#000000;stroke-width:0.8;\" x=\"39.65\" xlink:href=\"#m513f796f3a\" y=\"195.486688\"/>\n      </g>\n     </g>\n     <g id=\"text_9\">\n      <!-- 2000 -->\n      <g transform=\"translate(7.2 199.285907)scale(0.1 -0.1)\">\n       <use xlink:href=\"#DejaVuSans-32\"/>\n       <use x=\"63.623047\" xlink:href=\"#DejaVuSans-30\"/>\n       <use x=\"127.246094\" xlink:href=\"#DejaVuSans-30\"/>\n       <use x=\"190.869141\" xlink:href=\"#DejaVuSans-30\"/>\n      </g>\n     </g>\n    </g>\n    <g id=\"ytick_4\">\n     <g id=\"line2d_19\">\n      <path clip-path=\"url(#p6c8f8446af)\" d=\"M 39.65 126.550032 \nL 1155.65 126.550032 \n\" style=\"fill:none;stroke:#b0b0b0;stroke-linecap:square;stroke-width:0.8;\"/>\n     </g>\n     <g id=\"line2d_20\">\n      <g>\n       <use style=\"stroke:#000000;stroke-width:0.8;\" x=\"39.65\" xlink:href=\"#m513f796f3a\" y=\"126.550032\"/>\n      </g>\n     </g>\n     <g id=\"text_10\">\n      <!-- 3000 -->\n      <g transform=\"translate(7.2 130.349251)scale(0.1 -0.1)\">\n       <defs>\n        <path d=\"M 2597 2516 \nQ 3050 2419 3304 2112 \nQ 3559 1806 3559 1356 \nQ 3559 666 3084 287 \nQ 2609 -91 1734 -91 \nQ 1441 -91 1130 -33 \nQ 819 25 488 141 \nL 488 750 \nQ 750 597 1062 519 \nQ 1375 441 1716 441 \nQ 2309 441 2620 675 \nQ 2931 909 2931 1356 \nQ 2931 1769 2642 2001 \nQ 2353 2234 1838 2234 \nL 1294 2234 \nL 1294 2753 \nL 1863 2753 \nQ 2328 2753 2575 2939 \nQ 2822 3125 2822 3475 \nQ 2822 3834 2567 4026 \nQ 2313 4219 1838 4219 \nQ 1578 4219 1281 4162 \nQ 984 4106 628 3988 \nL 628 4550 \nQ 988 4650 1302 4700 \nQ 1616 4750 1894 4750 \nQ 2613 4750 3031 4423 \nQ 3450 4097 3450 3541 \nQ 3450 3153 3228 2886 \nQ 3006 2619 2597 2516 \nz\n\" id=\"DejaVuSans-33\" transform=\"scale(0.015625)\"/>\n       </defs>\n       <use xlink:href=\"#DejaVuSans-33\"/>\n       <use x=\"63.623047\" xlink:href=\"#DejaVuSans-30\"/>\n       <use x=\"127.246094\" xlink:href=\"#DejaVuSans-30\"/>\n       <use x=\"190.869141\" xlink:href=\"#DejaVuSans-30\"/>\n      </g>\n     </g>\n    </g>\n    <g id=\"ytick_5\">\n     <g id=\"line2d_21\">\n      <path clip-path=\"url(#p6c8f8446af)\" d=\"M 39.65 57.613376 \nL 1155.65 57.613376 \n\" style=\"fill:none;stroke:#b0b0b0;stroke-linecap:square;stroke-width:0.8;\"/>\n     </g>\n     <g id=\"line2d_22\">\n      <g>\n       <use style=\"stroke:#000000;stroke-width:0.8;\" x=\"39.65\" xlink:href=\"#m513f796f3a\" y=\"57.613376\"/>\n      </g>\n     </g>\n     <g id=\"text_11\">\n      <!-- 4000 -->\n      <g transform=\"translate(7.2 61.412595)scale(0.1 -0.1)\">\n       <use xlink:href=\"#DejaVuSans-34\"/>\n       <use x=\"63.623047\" xlink:href=\"#DejaVuSans-30\"/>\n       <use x=\"127.246094\" xlink:href=\"#DejaVuSans-30\"/>\n       <use x=\"190.869141\" xlink:href=\"#DejaVuSans-30\"/>\n      </g>\n     </g>\n    </g>\n   </g>\n   <g id=\"patch_11\">\n    <path d=\"M 39.65 333.36 \nL 39.65 7.2 \n\" style=\"fill:none;stroke:#000000;stroke-linecap:square;stroke-linejoin:miter;stroke-width:0.8;\"/>\n   </g>\n   <g id=\"patch_12\">\n    <path d=\"M 1155.65 333.36 \nL 1155.65 7.2 \n\" style=\"fill:none;stroke:#000000;stroke-linecap:square;stroke-linejoin:miter;stroke-width:0.8;\"/>\n   </g>\n   <g id=\"patch_13\">\n    <path d=\"M 39.65 333.36 \nL 1155.65 333.36 \n\" style=\"fill:none;stroke:#000000;stroke-linecap:square;stroke-linejoin:miter;stroke-width:0.8;\"/>\n   </g>\n   <g id=\"patch_14\">\n    <path d=\"M 39.65 7.2 \nL 1155.65 7.2 \n\" style=\"fill:none;stroke:#000000;stroke-linecap:square;stroke-linejoin:miter;stroke-width:0.8;\"/>\n   </g>\n  </g>\n </g>\n <defs>\n  <clipPath id=\"p6c8f8446af\">\n   <rect height=\"326.16\" width=\"1116\" x=\"39.65\" y=\"7.2\"/>\n  </clipPath>\n </defs>\n</svg>\n",
      "image/png": "[encoded data removed]"
     },
     "metadata": {
      "needs_background": "light"
     }
    }
   ],
   "source": [
    "dead_data.number_children.hist(bins=8)#.mean()"
   ]
  },
  {
   "cell_type": "code",
   "execution_count": 36,
   "metadata": {},
   "outputs": [
    {
     "output_type": "execute_result",
     "data": {
      "text/plain": [
       "<AxesSubplot:>"
      ]
     },
     "metadata": {},
     "execution_count": 36
    },
    {
     "output_type": "display_data",
     "data": {
      "text/plain": "<Figure size 1440x432 with 1 Axes>",
      "image/svg+xml": "<?xml version=\"1.0\" encoding=\"utf-8\" standalone=\"no\"?>\n<!DOCTYPE svg PUBLIC \"-//W3C//DTD SVG 1.1//EN\"\n  \"http://www.w3.org/Graphics/SVG/1.1/DTD/svg11.dtd\">\n<svg height=\"369.91625pt\" version=\"1.1\" viewBox=\"0 0 1162.85 369.91625\" width=\"1162.85pt\" xmlns=\"http://www.w3.org/2000/svg\" xmlns:xlink=\"http://www.w3.org/1999/xlink\">\n <metadata>\n  <rdf:RDF xmlns:cc=\"http://creativecommons.org/ns#\" xmlns:dc=\"http://purl.org/dc/elements/1.1/\" xmlns:rdf=\"http://www.w3.org/1999/02/22-rdf-syntax-ns#\">\n   <cc:Work>\n    <dc:type rdf:resource=\"http://purl.org/dc/dcmitype/StillImage\"/>\n    <dc:date>2021-07-12T16:52:05.420169</dc:date>\n    <dc:format>image/svg+xml</dc:format>\n    <dc:creator>\n     <cc:Agent>\n      <dc:title>Matplotlib v3.4.0, https://matplotlib.org/</dc:title>\n     </cc:Agent>\n    </dc:creator>\n   </cc:Work>\n  </rdf:RDF>\n </metadata>\n <defs>\n  <style type=\"text/css\">*{stroke-linecap:butt;stroke-linejoin:round;}</style>\n </defs>\n <g id=\"figure_1\">\n  <g id=\"patch_1\">\n   <path d=\"M 0 369.91625 \nL 1162.85 369.91625 \nL 1162.85 0 \nL 0 0 \nz\n\" style=\"fill:none;\"/>\n  </g>\n  <g id=\"axes_1\">\n   <g id=\"patch_2\">\n    <path d=\"M 39.65 333.36 \nL 1155.65 333.36 \nL 1155.65 7.2 \nL 39.65 7.2 \nz\n\" style=\"fill:#ffffff;\"/>\n   </g>\n   <g id=\"patch_3\">\n    <path clip-path=\"url(#p2c0e739c4c)\" d=\"M 90.377273 333.36 \nL 191.831818 333.36 \nL 191.831818 22.731429 \nL 90.377273 22.731429 \nz\n\" style=\"fill:#1f77b4;\"/>\n   </g>\n   <g id=\"patch_4\">\n    <path clip-path=\"url(#p2c0e739c4c)\" d=\"M 191.831818 333.36 \nL 293.286364 333.36 \nL 293.286364 311.312932 \nL 191.831818 311.312932 \nz\n\" style=\"fill:#1f77b4;\"/>\n   </g>\n   <g id=\"patch_5\">\n    <path clip-path=\"url(#p2c0e739c4c)\" d=\"M 293.286364 333.36 \nL 394.740909 333.36 \nL 394.740909 279.798968 \nL 293.286364 279.798968 \nz\n\" style=\"fill:#1f77b4;\"/>\n   </g>\n   <g id=\"patch_6\">\n    <path clip-path=\"url(#p2c0e739c4c)\" d=\"M 394.740909 333.36 \nL 496.195455 333.36 \nL 496.195455 331.00916 \nL 394.740909 331.00916 \nz\n\" style=\"fill:#1f77b4;\"/>\n   </g>\n   <g id=\"patch_7\">\n    <path clip-path=\"url(#p2c0e739c4c)\" d=\"M 496.195455 333.36 \nL 597.65 333.36 \nL 597.65 333.36 \nL 496.195455 333.36 \nz\n\" style=\"fill:#1f77b4;\"/>\n   </g>\n   <g id=\"patch_8\">\n    <path clip-path=\"url(#p2c0e739c4c)\" d=\"M 597.65 333.36 \nL 699.104545 333.36 \nL 699.104545 333.36 \nL 597.65 333.36 \nz\n\" style=\"fill:#1f77b4;\"/>\n   </g>\n   <g id=\"patch_9\">\n    <path clip-path=\"url(#p2c0e739c4c)\" d=\"M 699.104545 333.36 \nL 800.559091 333.36 \nL 800.559091 333.36 \nL 699.104545 333.36 \nz\n\" style=\"fill:#1f77b4;\"/>\n   </g>\n   <g id=\"patch_10\">\n    <path clip-path=\"url(#p2c0e739c4c)\" d=\"M 800.559091 333.36 \nL 902.013636 333.36 \nL 902.013636 333.36 \nL 800.559091 333.36 \nz\n\" style=\"fill:#1f77b4;\"/>\n   </g>\n   <g id=\"patch_11\">\n    <path clip-path=\"url(#p2c0e739c4c)\" d=\"M 902.013636 333.36 \nL 1003.468182 333.36 \nL 1003.468182 333.36 \nL 902.013636 333.36 \nz\n\" style=\"fill:#1f77b4;\"/>\n   </g>\n   <g id=\"patch_12\">\n    <path clip-path=\"url(#p2c0e739c4c)\" d=\"M 1003.468182 333.36 \nL 1104.922727 333.36 \nL 1104.922727 333.296464 \nL 1003.468182 333.296464 \nz\n\" style=\"fill:#1f77b4;\"/>\n   </g>\n   <g id=\"matplotlib.axis_1\">\n    <g id=\"xtick_1\">\n     <g id=\"line2d_1\">\n      <path clip-path=\"url(#p2c0e739c4c)\" d=\"M 90.377273 333.36 \nL 90.377273 7.2 \n\" style=\"fill:none;stroke:#b0b0b0;stroke-linecap:square;stroke-width:0.8;\"/>\n     </g>\n     <g id=\"line2d_2\">\n      <defs>\n       <path d=\"M 0 0 \nL 0 3.5 \n\" id=\"m8f5272ad5c\" style=\"stroke:#000000;stroke-width:0.8;\"/>\n      </defs>\n      <g>\n       <use style=\"stroke:#000000;stroke-width:0.8;\" x=\"90.377273\" xlink:href=\"#m8f5272ad5c\" y=\"333.36\"/>\n      </g>\n     </g>\n     <g id=\"text_1\">\n      <!-- 0 -->\n      <g transform=\"translate(87.196023 347.958438)scale(0.1 -0.1)\">\n       <defs>\n        <path d=\"M 2034 4250 \nQ 1547 4250 1301 3770 \nQ 1056 3291 1056 2328 \nQ 1056 1369 1301 889 \nQ 1547 409 2034 409 \nQ 2525 409 2770 889 \nQ 3016 1369 3016 2328 \nQ 3016 3291 2770 3770 \nQ 2525 4250 2034 4250 \nz\nM 2034 4750 \nQ 2819 4750 3233 4129 \nQ 3647 3509 3647 2328 \nQ 3647 1150 3233 529 \nQ 2819 -91 2034 -91 \nQ 1250 -91 836 529 \nQ 422 1150 422 2328 \nQ 422 3509 836 4129 \nQ 1250 4750 2034 4750 \nz\n\" id=\"DejaVuSans-30\" transform=\"scale(0.015625)\"/>\n       </defs>\n       <use xlink:href=\"#DejaVuSans-30\"/>\n      </g>\n     </g>\n    </g>\n    <g id=\"xtick_2\">\n     <g id=\"line2d_3\">\n      <path clip-path=\"url(#p2c0e739c4c)\" d=\"M 309.800788 333.36 \nL 309.800788 7.2 \n\" style=\"fill:none;stroke:#b0b0b0;stroke-linecap:square;stroke-width:0.8;\"/>\n     </g>\n     <g id=\"line2d_4\">\n      <g>\n       <use style=\"stroke:#000000;stroke-width:0.8;\" x=\"309.800788\" xlink:href=\"#m8f5272ad5c\" y=\"333.36\"/>\n      </g>\n     </g>\n     <g id=\"text_2\">\n      <!-- 1 -->\n      <g transform=\"translate(306.619538 347.958438)scale(0.1 -0.1)\">\n       <defs>\n        <path d=\"M 794 531 \nL 1825 531 \nL 1825 4091 \nL 703 3866 \nL 703 4441 \nL 1819 4666 \nL 2450 4666 \nL 2450 531 \nL 3481 531 \nL 3481 0 \nL 794 0 \nL 794 531 \nz\n\" id=\"DejaVuSans-31\" transform=\"scale(0.015625)\"/>\n       </defs>\n       <use xlink:href=\"#DejaVuSans-31\"/>\n      </g>\n     </g>\n    </g>\n    <g id=\"xtick_3\">\n     <g id=\"line2d_5\">\n      <path clip-path=\"url(#p2c0e739c4c)\" d=\"M 529.224304 333.36 \nL 529.224304 7.2 \n\" style=\"fill:none;stroke:#b0b0b0;stroke-linecap:square;stroke-width:0.8;\"/>\n     </g>\n     <g id=\"line2d_6\">\n      <g>\n       <use style=\"stroke:#000000;stroke-width:0.8;\" x=\"529.224304\" xlink:href=\"#m8f5272ad5c\" y=\"333.36\"/>\n      </g>\n     </g>\n     <g id=\"text_3\">\n      <!-- 2 -->\n      <g transform=\"translate(526.043054 347.958438)scale(0.1 -0.1)\">\n       <defs>\n        <path d=\"M 1228 531 \nL 3431 531 \nL 3431 0 \nL 469 0 \nL 469 531 \nQ 828 903 1448 1529 \nQ 2069 2156 2228 2338 \nQ 2531 2678 2651 2914 \nQ 2772 3150 2772 3378 \nQ 2772 3750 2511 3984 \nQ 2250 4219 1831 4219 \nQ 1534 4219 1204 4116 \nQ 875 4013 500 3803 \nL 500 4441 \nQ 881 4594 1212 4672 \nQ 1544 4750 1819 4750 \nQ 2544 4750 2975 4387 \nQ 3406 4025 3406 3419 \nQ 3406 3131 3298 2873 \nQ 3191 2616 2906 2266 \nQ 2828 2175 2409 1742 \nQ 1991 1309 1228 531 \nz\n\" id=\"DejaVuSans-32\" transform=\"scale(0.015625)\"/>\n       </defs>\n       <use xlink:href=\"#DejaVuSans-32\"/>\n      </g>\n     </g>\n    </g>\n    <g id=\"xtick_4\">\n     <g id=\"line2d_7\">\n      <path clip-path=\"url(#p2c0e739c4c)\" d=\"M 748.64782 333.36 \nL 748.64782 7.2 \n\" style=\"fill:none;stroke:#b0b0b0;stroke-linecap:square;stroke-width:0.8;\"/>\n     </g>\n     <g id=\"line2d_8\">\n      <g>\n       <use style=\"stroke:#000000;stroke-width:0.8;\" x=\"748.64782\" xlink:href=\"#m8f5272ad5c\" y=\"333.36\"/>\n      </g>\n     </g>\n     <g id=\"text_4\">\n      <!-- 3 -->\n      <g transform=\"translate(745.46657 347.958438)scale(0.1 -0.1)\">\n       <defs>\n        <path d=\"M 2597 2516 \nQ 3050 2419 3304 2112 \nQ 3559 1806 3559 1356 \nQ 3559 666 3084 287 \nQ 2609 -91 1734 -91 \nQ 1441 -91 1130 -33 \nQ 819 25 488 141 \nL 488 750 \nQ 750 597 1062 519 \nQ 1375 441 1716 441 \nQ 2309 441 2620 675 \nQ 2931 909 2931 1356 \nQ 2931 1769 2642 2001 \nQ 2353 2234 1838 2234 \nL 1294 2234 \nL 1294 2753 \nL 1863 2753 \nQ 2328 2753 2575 2939 \nQ 2822 3125 2822 3475 \nQ 2822 3834 2567 4026 \nQ 2313 4219 1838 4219 \nQ 1578 4219 1281 4162 \nQ 984 4106 628 3988 \nL 628 4550 \nQ 988 4650 1302 4700 \nQ 1616 4750 1894 4750 \nQ 2613 4750 3031 4423 \nQ 3450 4097 3450 3541 \nQ 3450 3153 3228 2886 \nQ 3006 2619 2597 2516 \nz\n\" id=\"DejaVuSans-33\" transform=\"scale(0.015625)\"/>\n       </defs>\n       <use xlink:href=\"#DejaVuSans-33\"/>\n      </g>\n     </g>\n    </g>\n    <g id=\"xtick_5\">\n     <g id=\"line2d_9\">\n      <path clip-path=\"url(#p2c0e739c4c)\" d=\"M 968.071335 333.36 \nL 968.071335 7.2 \n\" style=\"fill:none;stroke:#b0b0b0;stroke-linecap:square;stroke-width:0.8;\"/>\n     </g>\n     <g id=\"line2d_10\">\n      <g>\n       <use style=\"stroke:#000000;stroke-width:0.8;\" x=\"968.071335\" xlink:href=\"#m8f5272ad5c\" y=\"333.36\"/>\n      </g>\n     </g>\n     <g id=\"text_5\">\n      <!-- 4 -->\n      <g transform=\"translate(964.890085 347.958438)scale(0.1 -0.1)\">\n       <defs>\n        <path d=\"M 2419 4116 \nL 825 1625 \nL 2419 1625 \nL 2419 4116 \nz\nM 2253 4666 \nL 3047 4666 \nL 3047 1625 \nL 3713 1625 \nL 3713 1100 \nL 3047 1100 \nL 3047 0 \nL 2419 0 \nL 2419 1100 \nL 313 1100 \nL 313 1709 \nL 2253 4666 \nz\n\" id=\"DejaVuSans-34\" transform=\"scale(0.015625)\"/>\n       </defs>\n       <use xlink:href=\"#DejaVuSans-34\"/>\n      </g>\n     </g>\n    </g>\n    <g id=\"text_6\">\n     <!-- 1e6 -->\n     <g transform=\"translate(1136.771875 360.636562)scale(0.1 -0.1)\">\n      <defs>\n       <path d=\"M 3597 1894 \nL 3597 1613 \nL 953 1613 \nQ 991 1019 1311 708 \nQ 1631 397 2203 397 \nQ 2534 397 2845 478 \nQ 3156 559 3463 722 \nL 3463 178 \nQ 3153 47 2828 -22 \nQ 2503 -91 2169 -91 \nQ 1331 -91 842 396 \nQ 353 884 353 1716 \nQ 353 2575 817 3079 \nQ 1281 3584 2069 3584 \nQ 2775 3584 3186 3129 \nQ 3597 2675 3597 1894 \nz\nM 3022 2063 \nQ 3016 2534 2758 2815 \nQ 2500 3097 2075 3097 \nQ 1594 3097 1305 2825 \nQ 1016 2553 972 2059 \nL 3022 2063 \nz\n\" id=\"DejaVuSans-65\" transform=\"scale(0.015625)\"/>\n       <path d=\"M 2113 2584 \nQ 1688 2584 1439 2293 \nQ 1191 2003 1191 1497 \nQ 1191 994 1439 701 \nQ 1688 409 2113 409 \nQ 2538 409 2786 701 \nQ 3034 994 3034 1497 \nQ 3034 2003 2786 2293 \nQ 2538 2584 2113 2584 \nz\nM 3366 4563 \nL 3366 3988 \nQ 3128 4100 2886 4159 \nQ 2644 4219 2406 4219 \nQ 1781 4219 1451 3797 \nQ 1122 3375 1075 2522 \nQ 1259 2794 1537 2939 \nQ 1816 3084 2150 3084 \nQ 2853 3084 3261 2657 \nQ 3669 2231 3669 1497 \nQ 3669 778 3244 343 \nQ 2819 -91 2113 -91 \nQ 1303 -91 875 529 \nQ 447 1150 447 2328 \nQ 447 3434 972 4092 \nQ 1497 4750 2381 4750 \nQ 2619 4750 2861 4703 \nQ 3103 4656 3366 4563 \nz\n\" id=\"DejaVuSans-36\" transform=\"scale(0.015625)\"/>\n      </defs>\n      <use xlink:href=\"#DejaVuSans-31\"/>\n      <use x=\"63.623047\" xlink:href=\"#DejaVuSans-65\"/>\n      <use x=\"125.146484\" xlink:href=\"#DejaVuSans-36\"/>\n     </g>\n    </g>\n   </g>\n   <g id=\"matplotlib.axis_2\">\n    <g id=\"ytick_1\">\n     <g id=\"line2d_11\">\n      <path clip-path=\"url(#p2c0e739c4c)\" d=\"M 39.65 333.36 \nL 1155.65 333.36 \n\" style=\"fill:none;stroke:#b0b0b0;stroke-linecap:square;stroke-width:0.8;\"/>\n     </g>\n     <g id=\"line2d_12\">\n      <defs>\n       <path d=\"M 0 0 \nL -3.5 0 \n\" id=\"mec0226311b\" style=\"stroke:#000000;stroke-width:0.8;\"/>\n      </defs>\n      <g>\n       <use style=\"stroke:#000000;stroke-width:0.8;\" x=\"39.65\" xlink:href=\"#mec0226311b\" y=\"333.36\"/>\n      </g>\n     </g>\n     <g id=\"text_7\">\n      <!-- 0 -->\n      <g transform=\"translate(26.2875 337.159219)scale(0.1 -0.1)\">\n       <use xlink:href=\"#DejaVuSans-30\"/>\n      </g>\n     </g>\n    </g>\n    <g id=\"ytick_2\">\n     <g id=\"line2d_13\">\n      <path clip-path=\"url(#p2c0e739c4c)\" d=\"M 39.65 269.823782 \nL 1155.65 269.823782 \n\" style=\"fill:none;stroke:#b0b0b0;stroke-linecap:square;stroke-width:0.8;\"/>\n     </g>\n     <g id=\"line2d_14\">\n      <g>\n       <use style=\"stroke:#000000;stroke-width:0.8;\" x=\"39.65\" xlink:href=\"#mec0226311b\" y=\"269.823782\"/>\n      </g>\n     </g>\n     <g id=\"text_8\">\n      <!-- 1000 -->\n      <g transform=\"translate(7.2 273.623)scale(0.1 -0.1)\">\n       <use xlink:href=\"#DejaVuSans-31\"/>\n       <use x=\"63.623047\" xlink:href=\"#DejaVuSans-30\"/>\n       <use x=\"127.246094\" xlink:href=\"#DejaVuSans-30\"/>\n       <use x=\"190.869141\" xlink:href=\"#DejaVuSans-30\"/>\n      </g>\n     </g>\n    </g>\n    <g id=\"ytick_3\">\n     <g id=\"line2d_15\">\n      <path clip-path=\"url(#p2c0e739c4c)\" d=\"M 39.65 206.287563 \nL 1155.65 206.287563 \n\" style=\"fill:none;stroke:#b0b0b0;stroke-linecap:square;stroke-width:0.8;\"/>\n     </g>\n     <g id=\"line2d_16\">\n      <g>\n       <use style=\"stroke:#000000;stroke-width:0.8;\" x=\"39.65\" xlink:href=\"#mec0226311b\" y=\"206.287563\"/>\n      </g>\n     </g>\n     <g id=\"text_9\">\n      <!-- 2000 -->\n      <g transform=\"translate(7.2 210.086782)scale(0.1 -0.1)\">\n       <use xlink:href=\"#DejaVuSans-32\"/>\n       <use x=\"63.623047\" xlink:href=\"#DejaVuSans-30\"/>\n       <use x=\"127.246094\" xlink:href=\"#DejaVuSans-30\"/>\n       <use x=\"190.869141\" xlink:href=\"#DejaVuSans-30\"/>\n      </g>\n     </g>\n    </g>\n    <g id=\"ytick_4\">\n     <g id=\"line2d_17\">\n      <path clip-path=\"url(#p2c0e739c4c)\" d=\"M 39.65 142.751345 \nL 1155.65 142.751345 \n\" style=\"fill:none;stroke:#b0b0b0;stroke-linecap:square;stroke-width:0.8;\"/>\n     </g>\n     <g id=\"line2d_18\">\n      <g>\n       <use style=\"stroke:#000000;stroke-width:0.8;\" x=\"39.65\" xlink:href=\"#mec0226311b\" y=\"142.751345\"/>\n      </g>\n     </g>\n     <g id=\"text_10\">\n      <!-- 3000 -->\n      <g transform=\"translate(7.2 146.550564)scale(0.1 -0.1)\">\n       <use xlink:href=\"#DejaVuSans-33\"/>\n       <use x=\"63.623047\" xlink:href=\"#DejaVuSans-30\"/>\n       <use x=\"127.246094\" xlink:href=\"#DejaVuSans-30\"/>\n       <use x=\"190.869141\" xlink:href=\"#DejaVuSans-30\"/>\n      </g>\n     </g>\n    </g>\n    <g id=\"ytick_5\">\n     <g id=\"line2d_19\">\n      <path clip-path=\"url(#p2c0e739c4c)\" d=\"M 39.65 79.215127 \nL 1155.65 79.215127 \n\" style=\"fill:none;stroke:#b0b0b0;stroke-linecap:square;stroke-width:0.8;\"/>\n     </g>\n     <g id=\"line2d_20\">\n      <g>\n       <use style=\"stroke:#000000;stroke-width:0.8;\" x=\"39.65\" xlink:href=\"#mec0226311b\" y=\"79.215127\"/>\n      </g>\n     </g>\n     <g id=\"text_11\">\n      <!-- 4000 -->\n      <g transform=\"translate(7.2 83.014345)scale(0.1 -0.1)\">\n       <use xlink:href=\"#DejaVuSans-34\"/>\n       <use x=\"63.623047\" xlink:href=\"#DejaVuSans-30\"/>\n       <use x=\"127.246094\" xlink:href=\"#DejaVuSans-30\"/>\n       <use x=\"190.869141\" xlink:href=\"#DejaVuSans-30\"/>\n      </g>\n     </g>\n    </g>\n    <g id=\"ytick_6\">\n     <g id=\"line2d_21\">\n      <path clip-path=\"url(#p2c0e739c4c)\" d=\"M 39.65 15.678908 \nL 1155.65 15.678908 \n\" style=\"fill:none;stroke:#b0b0b0;stroke-linecap:square;stroke-width:0.8;\"/>\n     </g>\n     <g id=\"line2d_22\">\n      <g>\n       <use style=\"stroke:#000000;stroke-width:0.8;\" x=\"39.65\" xlink:href=\"#mec0226311b\" y=\"15.678908\"/>\n      </g>\n     </g>\n     <g id=\"text_12\">\n      <!-- 5000 -->\n      <g transform=\"translate(7.2 19.478127)scale(0.1 -0.1)\">\n       <defs>\n        <path d=\"M 691 4666 \nL 3169 4666 \nL 3169 4134 \nL 1269 4134 \nL 1269 2991 \nQ 1406 3038 1543 3061 \nQ 1681 3084 1819 3084 \nQ 2600 3084 3056 2656 \nQ 3513 2228 3513 1497 \nQ 3513 744 3044 326 \nQ 2575 -91 1722 -91 \nQ 1428 -91 1123 -41 \nQ 819 9 494 109 \nL 494 744 \nQ 775 591 1075 516 \nQ 1375 441 1709 441 \nQ 2250 441 2565 725 \nQ 2881 1009 2881 1497 \nQ 2881 1984 2565 2268 \nQ 2250 2553 1709 2553 \nQ 1456 2553 1204 2497 \nQ 953 2441 691 2322 \nL 691 4666 \nz\n\" id=\"DejaVuSans-35\" transform=\"scale(0.015625)\"/>\n       </defs>\n       <use xlink:href=\"#DejaVuSans-35\"/>\n       <use x=\"63.623047\" xlink:href=\"#DejaVuSans-30\"/>\n       <use x=\"127.246094\" xlink:href=\"#DejaVuSans-30\"/>\n       <use x=\"190.869141\" xlink:href=\"#DejaVuSans-30\"/>\n      </g>\n     </g>\n    </g>\n   </g>\n   <g id=\"patch_13\">\n    <path d=\"M 39.65 333.36 \nL 39.65 7.2 \n\" style=\"fill:none;stroke:#000000;stroke-linecap:square;stroke-linejoin:miter;stroke-width:0.8;\"/>\n   </g>\n   <g id=\"patch_14\">\n    <path d=\"M 1155.65 333.36 \nL 1155.65 7.2 \n\" style=\"fill:none;stroke:#000000;stroke-linecap:square;stroke-linejoin:miter;stroke-width:0.8;\"/>\n   </g>\n   <g id=\"patch_15\">\n    <path d=\"M 39.65 333.36 \nL 1155.65 333.36 \n\" style=\"fill:none;stroke:#000000;stroke-linecap:square;stroke-linejoin:miter;stroke-width:0.8;\"/>\n   </g>\n   <g id=\"patch_16\">\n    <path d=\"M 39.65 7.2 \nL 1155.65 7.2 \n\" style=\"fill:none;stroke:#000000;stroke-linecap:square;stroke-linejoin:miter;stroke-width:0.8;\"/>\n   </g>\n  </g>\n </g>\n <defs>\n  <clipPath id=\"p2c0e739c4c\">\n   <rect height=\"326.16\" width=\"1116\" x=\"39.65\" y=\"7.2\"/>\n  </clipPath>\n </defs>\n</svg>\n",
      "image/png": "[encoded data removed]"
     },
     "metadata": {
      "needs_background": "light"
     }
    }
   ],
   "source": [
    "dead_data.money.hist()"
   ]
  },
  {
   "cell_type": "code",
   "execution_count": 37,
   "metadata": {},
   "outputs": [
    {
     "output_type": "execute_result",
     "data": {
      "text/plain": [
       "                                      id           age  money  children  Year\n",
       "9e3e9834-2768-410c-9da3-061ef428ad1d  36  26177.197295      0         1     0\n",
       "edad9ff2-4891-42de-a948-74c1308ecd3e  36  30145.558379      0         1     0\n",
       "9ebf3673-0444-4582-96fb-2483a3c4b26c  36  30149.060475      0         1     0\n",
       "a3974d41-47b5-4396-82c9-69e9d9694b23  36  39263.021889      0         1     0\n",
       "5d4abeac-80ff-4e99-bc53-334fd8a90caf  36  30260.006578      0         1     0"
      ],
      "text/html": "<div>\n<style scoped>\n    .dataframe tbody tr th:only-of-type {\n        vertical-align: middle;\n    }\n\n    .dataframe tbody tr th {\n        vertical-align: top;\n    }\n\n    .dataframe thead th {\n        text-align: right;\n    }\n</style>\n<table border=\"1\" class=\"dataframe\">\n  <thead>\n    <tr style=\"text-align: right;\">\n      <th></th>\n      <th>id</th>\n      <th>age</th>\n      <th>money</th>\n      <th>children</th>\n      <th>Year</th>\n    </tr>\n  </thead>\n  <tbody>\n    <tr>\n      <th>9e3e9834-2768-410c-9da3-061ef428ad1d</th>\n      <td>36</td>\n      <td>26177.197295</td>\n      <td>0</td>\n      <td>1</td>\n      <td>0</td>\n    </tr>\n    <tr>\n      <th>edad9ff2-4891-42de-a948-74c1308ecd3e</th>\n      <td>36</td>\n      <td>30145.558379</td>\n      <td>0</td>\n      <td>1</td>\n      <td>0</td>\n    </tr>\n    <tr>\n      <th>9ebf3673-0444-4582-96fb-2483a3c4b26c</th>\n      <td>36</td>\n      <td>30149.060475</td>\n      <td>0</td>\n      <td>1</td>\n      <td>0</td>\n    </tr>\n    <tr>\n      <th>a3974d41-47b5-4396-82c9-69e9d9694b23</th>\n      <td>36</td>\n      <td>39263.021889</td>\n      <td>0</td>\n      <td>1</td>\n      <td>0</td>\n    </tr>\n    <tr>\n      <th>5d4abeac-80ff-4e99-bc53-334fd8a90caf</th>\n      <td>36</td>\n      <td>30260.006578</td>\n      <td>0</td>\n      <td>1</td>\n      <td>0</td>\n    </tr>\n  </tbody>\n</table>\n</div>"
     },
     "metadata": {},
     "execution_count": 37
    }
   ],
   "source": [
    "data = pd.read_csv('people.csv', names= \"id,age,money,children,Year\".split(','))\n",
    "data.head()"
   ]
  },
  {
   "cell_type": "code",
   "execution_count": 38,
   "metadata": {},
   "outputs": [
    {
     "output_type": "execute_result",
     "data": {
      "text/plain": [
       "children    2.94\n",
       "dtype: float64"
      ]
     },
     "metadata": {},
     "execution_count": 38
    }
   ],
   "source": [
    "data[['id', 'children']].groupby('id').max().mean()"
   ]
  },
  {
   "cell_type": "code",
   "execution_count": 39,
   "metadata": {},
   "outputs": [],
   "source": [
    "state = pd.read_csv('state.csv', names= \"money,Year\".split(','))\n",
    "company = pd.read_csv('company.csv', names= \"money,goods,employees,Year\".split(','))"
   ]
  },
  {
   "cell_type": "code",
   "execution_count": 40,
   "metadata": {},
   "outputs": [
    {
     "output_type": "execute_result",
     "data": {
      "text/plain": [
       "(1200, 2)"
      ]
     },
     "metadata": {},
     "execution_count": 40
    }
   ],
   "source": [
    "state.shape"
   ]
  },
  {
   "cell_type": "code",
   "execution_count": 41,
   "metadata": {},
   "outputs": [
    {
     "output_type": "execute_result",
     "data": {
      "text/plain": [
       "Year\n",
       "0      24\n",
       "1      26\n",
       "2      29\n",
       "3      31\n",
       "4      31\n",
       "       ..\n",
       "828     1\n",
       "829     1\n",
       "830     1\n",
       "831     1\n",
       "832     1\n",
       "Name: age, Length: 833, dtype: int64"
      ]
     },
     "metadata": {},
     "execution_count": 41
    }
   ],
   "source": [
    "years = state.Year\n",
    "state_money = state.money\n",
    "company_money = company.money\n",
    "pop = data.groupby('Year').count().age\n",
    "pop"
   ]
  },
  {
   "cell_type": "code",
   "execution_count": 42,
   "metadata": {},
   "outputs": [
    {
     "output_type": "display_data",
     "data": {
      "text/plain": "<Figure size 1440x432 with 2 Axes>",
      "image/svg+xml": "<?xml version=\"1.0\" encoding=\"utf-8\" standalone=\"no\"?>\n<!DOCTYPE svg PUBLIC \"-//W3C//DTD SVG 1.1//EN\"\n  \"http://www.w3.org/Graphics/SVG/1.1/DTD/svg11.dtd\">\n<svg height=\"385.385937pt\" version=\"1.1\" viewBox=\"0 0 1220.851875 385.385937\" width=\"1220.851875pt\" xmlns=\"http://www.w3.org/2000/svg\" xmlns:xlink=\"http://www.w3.org/1999/xlink\">\n <metadata>\n  <rdf:RDF xmlns:cc=\"http://creativecommons.org/ns#\" xmlns:dc=\"http://purl.org/dc/elements/1.1/\" xmlns:rdf=\"http://www.w3.org/1999/02/22-rdf-syntax-ns#\">\n   <cc:Work>\n    <dc:type rdf:resource=\"http://purl.org/dc/dcmitype/StillImage\"/>\n    <dc:date>2021-07-12T16:52:06.209828</dc:date>\n    <dc:format>image/svg+xml</dc:format>\n    <dc:creator>\n     <cc:Agent>\n      <dc:title>Matplotlib v3.4.0, https://matplotlib.org/</dc:title>\n     </cc:Agent>\n    </dc:creator>\n   </cc:Work>\n  </rdf:RDF>\n </metadata>\n <defs>\n  <style type=\"text/css\">*{stroke-linecap:butt;stroke-linejoin:round;}</style>\n </defs>\n <g id=\"figure_1\">\n  <g id=\"patch_1\">\n   <path d=\"M 0 385.385937 \nL 1220.851875 385.385937 \nL 1220.851875 0 \nL 0 0 \nz\n\" style=\"fill:none;\"/>\n  </g>\n  <g id=\"axes_1\">\n   <g id=\"patch_2\">\n    <path d=\"M 57.199375 343.958437 \nL 1173.199375 343.958437 \nL 1173.199375 17.798437 \nL 57.199375 17.798437 \nz\n\" style=\"fill:#ffffff;\"/>\n   </g>\n   <g id=\"matplotlib.axis_1\">\n    <g id=\"xtick_1\">\n     <g id=\"line2d_1\">\n      <defs>\n       <path d=\"M 0 0 \nL 0 3.5 \n\" id=\"m0fef4bd34e\" style=\"stroke:#000000;stroke-width:0.8;\"/>\n      </defs>\n      <g>\n       <use style=\"stroke:#000000;stroke-width:0.8;\" x=\"107.926648\" xlink:href=\"#m0fef4bd34e\" y=\"343.958437\"/>\n      </g>\n     </g>\n     <g id=\"text_1\">\n      <!-- 0 -->\n      <g transform=\"translate(104.745398 358.556875)scale(0.1 -0.1)\">\n       <defs>\n        <path d=\"M 2034 4250 \nQ 1547 4250 1301 3770 \nQ 1056 3291 1056 2328 \nQ 1056 1369 1301 889 \nQ 1547 409 2034 409 \nQ 2525 409 2770 889 \nQ 3016 1369 3016 2328 \nQ 3016 3291 2770 3770 \nQ 2525 4250 2034 4250 \nz\nM 2034 4750 \nQ 2819 4750 3233 4129 \nQ 3647 3509 3647 2328 \nQ 3647 1150 3233 529 \nQ 2819 -91 2034 -91 \nQ 1250 -91 836 529 \nQ 422 1150 422 2328 \nQ 422 3509 836 4129 \nQ 1250 4750 2034 4750 \nz\n\" id=\"DejaVuSans-30\" transform=\"scale(0.015625)\"/>\n       </defs>\n       <use xlink:href=\"#DejaVuSans-30\"/>\n      </g>\n     </g>\n    </g>\n    <g id=\"xtick_2\">\n     <g id=\"line2d_2\">\n      <g>\n       <use style=\"stroke:#000000;stroke-width:0.8;\" x=\"277.158583\" xlink:href=\"#m0fef4bd34e\" y=\"343.958437\"/>\n      </g>\n     </g>\n     <g id=\"text_2\">\n      <!-- 200 -->\n      <g transform=\"translate(267.614833 358.556875)scale(0.1 -0.1)\">\n       <defs>\n        <path d=\"M 1228 531 \nL 3431 531 \nL 3431 0 \nL 469 0 \nL 469 531 \nQ 828 903 1448 1529 \nQ 2069 2156 2228 2338 \nQ 2531 2678 2651 2914 \nQ 2772 3150 2772 3378 \nQ 2772 3750 2511 3984 \nQ 2250 4219 1831 4219 \nQ 1534 4219 1204 4116 \nQ 875 4013 500 3803 \nL 500 4441 \nQ 881 4594 1212 4672 \nQ 1544 4750 1819 4750 \nQ 2544 4750 2975 4387 \nQ 3406 4025 3406 3419 \nQ 3406 3131 3298 2873 \nQ 3191 2616 2906 2266 \nQ 2828 2175 2409 1742 \nQ 1991 1309 1228 531 \nz\n\" id=\"DejaVuSans-32\" transform=\"scale(0.015625)\"/>\n       </defs>\n       <use xlink:href=\"#DejaVuSans-32\"/>\n       <use x=\"63.623047\" xlink:href=\"#DejaVuSans-30\"/>\n       <use x=\"127.246094\" xlink:href=\"#DejaVuSans-30\"/>\n      </g>\n     </g>\n    </g>\n    <g id=\"xtick_3\">\n     <g id=\"line2d_3\">\n      <g>\n       <use style=\"stroke:#000000;stroke-width:0.8;\" x=\"446.390519\" xlink:href=\"#m0fef4bd34e\" y=\"343.958437\"/>\n      </g>\n     </g>\n     <g id=\"text_3\">\n      <!-- 400 -->\n      <g transform=\"translate(436.846769 358.556875)scale(0.1 -0.1)\">\n       <defs>\n        <path d=\"M 2419 4116 \nL 825 1625 \nL 2419 1625 \nL 2419 4116 \nz\nM 2253 4666 \nL 3047 4666 \nL 3047 1625 \nL 3713 1625 \nL 3713 1100 \nL 3047 1100 \nL 3047 0 \nL 2419 0 \nL 2419 1100 \nL 313 1100 \nL 313 1709 \nL 2253 4666 \nz\n\" id=\"DejaVuSans-34\" transform=\"scale(0.015625)\"/>\n       </defs>\n       <use xlink:href=\"#DejaVuSans-34\"/>\n       <use x=\"63.623047\" xlink:href=\"#DejaVuSans-30\"/>\n       <use x=\"127.246094\" xlink:href=\"#DejaVuSans-30\"/>\n      </g>\n     </g>\n    </g>\n    <g id=\"xtick_4\">\n     <g id=\"line2d_4\">\n      <g>\n       <use style=\"stroke:#000000;stroke-width:0.8;\" x=\"615.622455\" xlink:href=\"#m0fef4bd34e\" y=\"343.958437\"/>\n      </g>\n     </g>\n     <g id=\"text_4\">\n      <!-- 600 -->\n      <g transform=\"translate(606.078705 358.556875)scale(0.1 -0.1)\">\n       <defs>\n        <path d=\"M 2113 2584 \nQ 1688 2584 1439 2293 \nQ 1191 2003 1191 1497 \nQ 1191 994 1439 701 \nQ 1688 409 2113 409 \nQ 2538 409 2786 701 \nQ 3034 994 3034 1497 \nQ 3034 2003 2786 2293 \nQ 2538 2584 2113 2584 \nz\nM 3366 4563 \nL 3366 3988 \nQ 3128 4100 2886 4159 \nQ 2644 4219 2406 4219 \nQ 1781 4219 1451 3797 \nQ 1122 3375 1075 2522 \nQ 1259 2794 1537 2939 \nQ 1816 3084 2150 3084 \nQ 2853 3084 3261 2657 \nQ 3669 2231 3669 1497 \nQ 3669 778 3244 343 \nQ 2819 -91 2113 -91 \nQ 1303 -91 875 529 \nQ 447 1150 447 2328 \nQ 447 3434 972 4092 \nQ 1497 4750 2381 4750 \nQ 2619 4750 2861 4703 \nQ 3103 4656 3366 4563 \nz\n\" id=\"DejaVuSans-36\" transform=\"scale(0.015625)\"/>\n       </defs>\n       <use xlink:href=\"#DejaVuSans-36\"/>\n       <use x=\"63.623047\" xlink:href=\"#DejaVuSans-30\"/>\n       <use x=\"127.246094\" xlink:href=\"#DejaVuSans-30\"/>\n      </g>\n     </g>\n    </g>\n    <g id=\"xtick_5\">\n     <g id=\"line2d_5\">\n      <g>\n       <use style=\"stroke:#000000;stroke-width:0.8;\" x=\"784.854391\" xlink:href=\"#m0fef4bd34e\" y=\"343.958437\"/>\n      </g>\n     </g>\n     <g id=\"text_5\">\n      <!-- 800 -->\n      <g transform=\"translate(775.310641 358.556875)scale(0.1 -0.1)\">\n       <defs>\n        <path d=\"M 2034 2216 \nQ 1584 2216 1326 1975 \nQ 1069 1734 1069 1313 \nQ 1069 891 1326 650 \nQ 1584 409 2034 409 \nQ 2484 409 2743 651 \nQ 3003 894 3003 1313 \nQ 3003 1734 2745 1975 \nQ 2488 2216 2034 2216 \nz\nM 1403 2484 \nQ 997 2584 770 2862 \nQ 544 3141 544 3541 \nQ 544 4100 942 4425 \nQ 1341 4750 2034 4750 \nQ 2731 4750 3128 4425 \nQ 3525 4100 3525 3541 \nQ 3525 3141 3298 2862 \nQ 3072 2584 2669 2484 \nQ 3125 2378 3379 2068 \nQ 3634 1759 3634 1313 \nQ 3634 634 3220 271 \nQ 2806 -91 2034 -91 \nQ 1263 -91 848 271 \nQ 434 634 434 1313 \nQ 434 1759 690 2068 \nQ 947 2378 1403 2484 \nz\nM 1172 3481 \nQ 1172 3119 1398 2916 \nQ 1625 2713 2034 2713 \nQ 2441 2713 2670 2916 \nQ 2900 3119 2900 3481 \nQ 2900 3844 2670 4047 \nQ 2441 4250 2034 4250 \nQ 1625 4250 1398 4047 \nQ 1172 3844 1172 3481 \nz\n\" id=\"DejaVuSans-38\" transform=\"scale(0.015625)\"/>\n       </defs>\n       <use xlink:href=\"#DejaVuSans-38\"/>\n       <use x=\"63.623047\" xlink:href=\"#DejaVuSans-30\"/>\n       <use x=\"127.246094\" xlink:href=\"#DejaVuSans-30\"/>\n      </g>\n     </g>\n    </g>\n    <g id=\"xtick_6\">\n     <g id=\"line2d_6\">\n      <g>\n       <use style=\"stroke:#000000;stroke-width:0.8;\" x=\"954.086326\" xlink:href=\"#m0fef4bd34e\" y=\"343.958437\"/>\n      </g>\n     </g>\n     <g id=\"text_6\">\n      <!-- 1000 -->\n      <g transform=\"translate(941.361326 358.556875)scale(0.1 -0.1)\">\n       <defs>\n        <path d=\"M 794 531 \nL 1825 531 \nL 1825 4091 \nL 703 3866 \nL 703 4441 \nL 1819 4666 \nL 2450 4666 \nL 2450 531 \nL 3481 531 \nL 3481 0 \nL 794 0 \nL 794 531 \nz\n\" id=\"DejaVuSans-31\" transform=\"scale(0.015625)\"/>\n       </defs>\n       <use xlink:href=\"#DejaVuSans-31\"/>\n       <use x=\"63.623047\" xlink:href=\"#DejaVuSans-30\"/>\n       <use x=\"127.246094\" xlink:href=\"#DejaVuSans-30\"/>\n       <use x=\"190.869141\" xlink:href=\"#DejaVuSans-30\"/>\n      </g>\n     </g>\n    </g>\n    <g id=\"xtick_7\">\n     <g id=\"line2d_7\">\n      <g>\n       <use style=\"stroke:#000000;stroke-width:0.8;\" x=\"1123.318262\" xlink:href=\"#m0fef4bd34e\" y=\"343.958437\"/>\n      </g>\n     </g>\n     <g id=\"text_7\">\n      <!-- 1200 -->\n      <g transform=\"translate(1110.593262 358.556875)scale(0.1 -0.1)\">\n       <use xlink:href=\"#DejaVuSans-31\"/>\n       <use x=\"63.623047\" xlink:href=\"#DejaVuSans-32\"/>\n       <use x=\"127.246094\" xlink:href=\"#DejaVuSans-30\"/>\n       <use x=\"190.869141\" xlink:href=\"#DejaVuSans-30\"/>\n      </g>\n     </g>\n    </g>\n    <g id=\"text_8\">\n     <!-- year -->\n     <g transform=\"translate(599.581719 375.274375)scale(0.14 -0.14)\">\n      <defs>\n       <path d=\"M 2059 -325 \nQ 1816 -950 1584 -1140 \nQ 1353 -1331 966 -1331 \nL 506 -1331 \nL 506 -850 \nL 844 -850 \nQ 1081 -850 1212 -737 \nQ 1344 -625 1503 -206 \nL 1606 56 \nL 191 3500 \nL 800 3500 \nL 1894 763 \nL 2988 3500 \nL 3597 3500 \nL 2059 -325 \nz\n\" id=\"DejaVuSans-79\" transform=\"scale(0.015625)\"/>\n       <path d=\"M 3597 1894 \nL 3597 1613 \nL 953 1613 \nQ 991 1019 1311 708 \nQ 1631 397 2203 397 \nQ 2534 397 2845 478 \nQ 3156 559 3463 722 \nL 3463 178 \nQ 3153 47 2828 -22 \nQ 2503 -91 2169 -91 \nQ 1331 -91 842 396 \nQ 353 884 353 1716 \nQ 353 2575 817 3079 \nQ 1281 3584 2069 3584 \nQ 2775 3584 3186 3129 \nQ 3597 2675 3597 1894 \nz\nM 3022 2063 \nQ 3016 2534 2758 2815 \nQ 2500 3097 2075 3097 \nQ 1594 3097 1305 2825 \nQ 1016 2553 972 2059 \nL 3022 2063 \nz\n\" id=\"DejaVuSans-65\" transform=\"scale(0.015625)\"/>\n       <path d=\"M 2194 1759 \nQ 1497 1759 1228 1600 \nQ 959 1441 959 1056 \nQ 959 750 1161 570 \nQ 1363 391 1709 391 \nQ 2188 391 2477 730 \nQ 2766 1069 2766 1631 \nL 2766 1759 \nL 2194 1759 \nz\nM 3341 1997 \nL 3341 0 \nL 2766 0 \nL 2766 531 \nQ 2569 213 2275 61 \nQ 1981 -91 1556 -91 \nQ 1019 -91 701 211 \nQ 384 513 384 1019 \nQ 384 1609 779 1909 \nQ 1175 2209 1959 2209 \nL 2766 2209 \nL 2766 2266 \nQ 2766 2663 2505 2880 \nQ 2244 3097 1772 3097 \nQ 1472 3097 1187 3025 \nQ 903 2953 641 2809 \nL 641 3341 \nQ 956 3463 1253 3523 \nQ 1550 3584 1831 3584 \nQ 2591 3584 2966 3190 \nQ 3341 2797 3341 1997 \nz\n\" id=\"DejaVuSans-61\" transform=\"scale(0.015625)\"/>\n       <path d=\"M 2631 2963 \nQ 2534 3019 2420 3045 \nQ 2306 3072 2169 3072 \nQ 1681 3072 1420 2755 \nQ 1159 2438 1159 1844 \nL 1159 0 \nL 581 0 \nL 581 3500 \nL 1159 3500 \nL 1159 2956 \nQ 1341 3275 1631 3429 \nQ 1922 3584 2338 3584 \nQ 2397 3584 2469 3576 \nQ 2541 3569 2628 3553 \nL 2631 2963 \nz\n\" id=\"DejaVuSans-72\" transform=\"scale(0.015625)\"/>\n      </defs>\n      <use xlink:href=\"#DejaVuSans-79\"/>\n      <use x=\"59.179688\" xlink:href=\"#DejaVuSans-65\"/>\n      <use x=\"120.703125\" xlink:href=\"#DejaVuSans-61\"/>\n      <use x=\"181.982422\" xlink:href=\"#DejaVuSans-72\"/>\n     </g>\n    </g>\n   </g>\n   <g id=\"matplotlib.axis_2\">\n    <g id=\"ytick_1\">\n     <g id=\"line2d_8\">\n      <defs>\n       <path d=\"M 0 0 \nL -3.5 0 \n\" id=\"m77ae1c8382\" style=\"stroke:#000000;stroke-width:0.8;\"/>\n      </defs>\n      <g>\n       <use style=\"stroke:#000000;stroke-width:0.8;\" x=\"57.199375\" xlink:href=\"#m77ae1c8382\" y=\"329.329607\"/>\n      </g>\n     </g>\n     <g id=\"text_9\">\n      <!-- 0 -->\n      <g transform=\"translate(43.836875 333.128826)scale(0.1 -0.1)\">\n       <use xlink:href=\"#DejaVuSans-30\"/>\n      </g>\n     </g>\n    </g>\n    <g id=\"ytick_2\">\n     <g id=\"line2d_9\">\n      <g>\n       <use style=\"stroke:#000000;stroke-width:0.8;\" x=\"57.199375\" xlink:href=\"#m77ae1c8382\" y=\"290.004794\"/>\n      </g>\n     </g>\n     <g id=\"text_10\">\n      <!-- 200 -->\n      <g transform=\"translate(31.111875 293.804013)scale(0.1 -0.1)\">\n       <use xlink:href=\"#DejaVuSans-32\"/>\n       <use x=\"63.623047\" xlink:href=\"#DejaVuSans-30\"/>\n       <use x=\"127.246094\" xlink:href=\"#DejaVuSans-30\"/>\n      </g>\n     </g>\n    </g>\n    <g id=\"ytick_3\">\n     <g id=\"line2d_10\">\n      <g>\n       <use style=\"stroke:#000000;stroke-width:0.8;\" x=\"57.199375\" xlink:href=\"#m77ae1c8382\" y=\"250.679981\"/>\n      </g>\n     </g>\n     <g id=\"text_11\">\n      <!-- 400 -->\n      <g transform=\"translate(31.111875 254.4792)scale(0.1 -0.1)\">\n       <use xlink:href=\"#DejaVuSans-34\"/>\n       <use x=\"63.623047\" xlink:href=\"#DejaVuSans-30\"/>\n       <use x=\"127.246094\" xlink:href=\"#DejaVuSans-30\"/>\n      </g>\n     </g>\n    </g>\n    <g id=\"ytick_4\">\n     <g id=\"line2d_11\">\n      <g>\n       <use style=\"stroke:#000000;stroke-width:0.8;\" x=\"57.199375\" xlink:href=\"#m77ae1c8382\" y=\"211.355168\"/>\n      </g>\n     </g>\n     <g id=\"text_12\">\n      <!-- 600 -->\n      <g transform=\"translate(31.111875 215.154386)scale(0.1 -0.1)\">\n       <use xlink:href=\"#DejaVuSans-36\"/>\n       <use x=\"63.623047\" xlink:href=\"#DejaVuSans-30\"/>\n       <use x=\"127.246094\" xlink:href=\"#DejaVuSans-30\"/>\n      </g>\n     </g>\n    </g>\n    <g id=\"ytick_5\">\n     <g id=\"line2d_12\">\n      <g>\n       <use style=\"stroke:#000000;stroke-width:0.8;\" x=\"57.199375\" xlink:href=\"#m77ae1c8382\" y=\"172.030355\"/>\n      </g>\n     </g>\n     <g id=\"text_13\">\n      <!-- 800 -->\n      <g transform=\"translate(31.111875 175.829573)scale(0.1 -0.1)\">\n       <use xlink:href=\"#DejaVuSans-38\"/>\n       <use x=\"63.623047\" xlink:href=\"#DejaVuSans-30\"/>\n       <use x=\"127.246094\" xlink:href=\"#DejaVuSans-30\"/>\n      </g>\n     </g>\n    </g>\n    <g id=\"ytick_6\">\n     <g id=\"line2d_13\">\n      <g>\n       <use style=\"stroke:#000000;stroke-width:0.8;\" x=\"57.199375\" xlink:href=\"#m77ae1c8382\" y=\"132.705541\"/>\n      </g>\n     </g>\n     <g id=\"text_14\">\n      <!-- 1000 -->\n      <g transform=\"translate(24.749375 136.50476)scale(0.1 -0.1)\">\n       <use xlink:href=\"#DejaVuSans-31\"/>\n       <use x=\"63.623047\" xlink:href=\"#DejaVuSans-30\"/>\n       <use x=\"127.246094\" xlink:href=\"#DejaVuSans-30\"/>\n       <use x=\"190.869141\" xlink:href=\"#DejaVuSans-30\"/>\n      </g>\n     </g>\n    </g>\n    <g id=\"ytick_7\">\n     <g id=\"line2d_14\">\n      <g>\n       <use style=\"stroke:#000000;stroke-width:0.8;\" x=\"57.199375\" xlink:href=\"#m77ae1c8382\" y=\"93.380728\"/>\n      </g>\n     </g>\n     <g id=\"text_15\">\n      <!-- 1200 -->\n      <g transform=\"translate(24.749375 97.179947)scale(0.1 -0.1)\">\n       <use xlink:href=\"#DejaVuSans-31\"/>\n       <use x=\"63.623047\" xlink:href=\"#DejaVuSans-32\"/>\n       <use x=\"127.246094\" xlink:href=\"#DejaVuSans-30\"/>\n       <use x=\"190.869141\" xlink:href=\"#DejaVuSans-30\"/>\n      </g>\n     </g>\n    </g>\n    <g id=\"ytick_8\">\n     <g id=\"line2d_15\">\n      <g>\n       <use style=\"stroke:#000000;stroke-width:0.8;\" x=\"57.199375\" xlink:href=\"#m77ae1c8382\" y=\"54.055915\"/>\n      </g>\n     </g>\n     <g id=\"text_16\">\n      <!-- 1400 -->\n      <g transform=\"translate(24.749375 57.855134)scale(0.1 -0.1)\">\n       <use xlink:href=\"#DejaVuSans-31\"/>\n       <use x=\"63.623047\" xlink:href=\"#DejaVuSans-34\"/>\n       <use x=\"127.246094\" xlink:href=\"#DejaVuSans-30\"/>\n       <use x=\"190.869141\" xlink:href=\"#DejaVuSans-30\"/>\n      </g>\n     </g>\n    </g>\n    <g id=\"text_17\">\n     <!-- Population -->\n     <g transform=\"translate(17.837812 217.651406)rotate(-90)scale(0.14 -0.14)\">\n      <defs>\n       <path d=\"M 1259 4147 \nL 1259 2394 \nL 2053 2394 \nQ 2494 2394 2734 2622 \nQ 2975 2850 2975 3272 \nQ 2975 3691 2734 3919 \nQ 2494 4147 2053 4147 \nL 1259 4147 \nz\nM 628 4666 \nL 2053 4666 \nQ 2838 4666 3239 4311 \nQ 3641 3956 3641 3272 \nQ 3641 2581 3239 2228 \nQ 2838 1875 2053 1875 \nL 1259 1875 \nL 1259 0 \nL 628 0 \nL 628 4666 \nz\n\" id=\"DejaVuSans-50\" transform=\"scale(0.015625)\"/>\n       <path d=\"M 1959 3097 \nQ 1497 3097 1228 2736 \nQ 959 2375 959 1747 \nQ 959 1119 1226 758 \nQ 1494 397 1959 397 \nQ 2419 397 2687 759 \nQ 2956 1122 2956 1747 \nQ 2956 2369 2687 2733 \nQ 2419 3097 1959 3097 \nz\nM 1959 3584 \nQ 2709 3584 3137 3096 \nQ 3566 2609 3566 1747 \nQ 3566 888 3137 398 \nQ 2709 -91 1959 -91 \nQ 1206 -91 779 398 \nQ 353 888 353 1747 \nQ 353 2609 779 3096 \nQ 1206 3584 1959 3584 \nz\n\" id=\"DejaVuSans-6f\" transform=\"scale(0.015625)\"/>\n       <path d=\"M 1159 525 \nL 1159 -1331 \nL 581 -1331 \nL 581 3500 \nL 1159 3500 \nL 1159 2969 \nQ 1341 3281 1617 3432 \nQ 1894 3584 2278 3584 \nQ 2916 3584 3314 3078 \nQ 3713 2572 3713 1747 \nQ 3713 922 3314 415 \nQ 2916 -91 2278 -91 \nQ 1894 -91 1617 61 \nQ 1341 213 1159 525 \nz\nM 3116 1747 \nQ 3116 2381 2855 2742 \nQ 2594 3103 2138 3103 \nQ 1681 3103 1420 2742 \nQ 1159 2381 1159 1747 \nQ 1159 1113 1420 752 \nQ 1681 391 2138 391 \nQ 2594 391 2855 752 \nQ 3116 1113 3116 1747 \nz\n\" id=\"DejaVuSans-70\" transform=\"scale(0.015625)\"/>\n       <path d=\"M 544 1381 \nL 544 3500 \nL 1119 3500 \nL 1119 1403 \nQ 1119 906 1312 657 \nQ 1506 409 1894 409 \nQ 2359 409 2629 706 \nQ 2900 1003 2900 1516 \nL 2900 3500 \nL 3475 3500 \nL 3475 0 \nL 2900 0 \nL 2900 538 \nQ 2691 219 2414 64 \nQ 2138 -91 1772 -91 \nQ 1169 -91 856 284 \nQ 544 659 544 1381 \nz\nM 1991 3584 \nL 1991 3584 \nz\n\" id=\"DejaVuSans-75\" transform=\"scale(0.015625)\"/>\n       <path d=\"M 603 4863 \nL 1178 4863 \nL 1178 0 \nL 603 0 \nL 603 4863 \nz\n\" id=\"DejaVuSans-6c\" transform=\"scale(0.015625)\"/>\n       <path d=\"M 1172 4494 \nL 1172 3500 \nL 2356 3500 \nL 2356 3053 \nL 1172 3053 \nL 1172 1153 \nQ 1172 725 1289 603 \nQ 1406 481 1766 481 \nL 2356 481 \nL 2356 0 \nL 1766 0 \nQ 1100 0 847 248 \nQ 594 497 594 1153 \nL 594 3053 \nL 172 3053 \nL 172 3500 \nL 594 3500 \nL 594 4494 \nL 1172 4494 \nz\n\" id=\"DejaVuSans-74\" transform=\"scale(0.015625)\"/>\n       <path d=\"M 603 3500 \nL 1178 3500 \nL 1178 0 \nL 603 0 \nL 603 3500 \nz\nM 603 4863 \nL 1178 4863 \nL 1178 4134 \nL 603 4134 \nL 603 4863 \nz\n\" id=\"DejaVuSans-69\" transform=\"scale(0.015625)\"/>\n       <path d=\"M 3513 2113 \nL 3513 0 \nL 2938 0 \nL 2938 2094 \nQ 2938 2591 2744 2837 \nQ 2550 3084 2163 3084 \nQ 1697 3084 1428 2787 \nQ 1159 2491 1159 1978 \nL 1159 0 \nL 581 0 \nL 581 3500 \nL 1159 3500 \nL 1159 2956 \nQ 1366 3272 1645 3428 \nQ 1925 3584 2291 3584 \nQ 2894 3584 3203 3211 \nQ 3513 2838 3513 2113 \nz\n\" id=\"DejaVuSans-6e\" transform=\"scale(0.015625)\"/>\n      </defs>\n      <use xlink:href=\"#DejaVuSans-50\"/>\n      <use x=\"56.677734\" xlink:href=\"#DejaVuSans-6f\"/>\n      <use x=\"117.859375\" xlink:href=\"#DejaVuSans-70\"/>\n      <use x=\"181.335938\" xlink:href=\"#DejaVuSans-75\"/>\n      <use x=\"244.714844\" xlink:href=\"#DejaVuSans-6c\"/>\n      <use x=\"272.498047\" xlink:href=\"#DejaVuSans-61\"/>\n      <use x=\"333.777344\" xlink:href=\"#DejaVuSans-74\"/>\n      <use x=\"372.986328\" xlink:href=\"#DejaVuSans-69\"/>\n      <use x=\"400.769531\" xlink:href=\"#DejaVuSans-6f\"/>\n      <use x=\"461.951172\" xlink:href=\"#DejaVuSans-6e\"/>\n     </g>\n    </g>\n   </g>\n   <g id=\"line2d_16\">\n    <path clip-path=\"url(#p6ed69d09ac)\" d=\"M 107.926648 324.610629 \nL 108.772807 324.217381 \nL 109.618967 323.627509 \nL 110.465127 323.234261 \nL 112.157446 323.234261 \nL 113.003606 322.447765 \nL 114.695925 322.447765 \nL 115.542085 322.251141 \nL 129.08064 322.251141 \nL 129.926799 322.054517 \nL 130.772959 321.661268 \nL 131.619119 321.464644 \nL 132.465278 321.661268 \nL 134.157598 321.26802 \nL 135.003757 320.2849 \nL 137.542236 320.2849 \nL 139.234556 319.498404 \nL 140.080716 318.908532 \nL 141.773035 318.908532 \nL 142.619195 318.515283 \nL 143.465354 318.711907 \nL 144.311514 319.30178 \nL 145.157674 318.908532 \nL 146.003833 318.711907 \nL 146.849993 318.711907 \nL 151.080791 319.695028 \nL 155.31159 319.695028 \nL 156.157749 319.30178 \nL 157.850069 318.908532 \nL 158.696228 318.515283 \nL 159.542388 318.318659 \nL 160.388548 317.532163 \nL 161.234707 317.138915 \nL 162.080867 316.352419 \nL 163.773187 316.352419 \nL 165.465506 314.779426 \nL 166.311666 313.403058 \nL 167.157825 313.206434 \nL 168.003985 312.616561 \nL 168.850145 312.223313 \nL 169.696304 312.026689 \nL 170.542464 311.436817 \nL 171.388624 311.240193 \nL 172.234783 310.846945 \nL 173.080943 310.650321 \nL 173.927103 310.257073 \nL 174.773262 310.257073 \nL 175.619422 310.060449 \nL 176.465582 310.257073 \nL 177.311741 310.060449 \nL 178.157901 310.257073 \nL 179.004061 310.060449 \nL 179.85022 310.060449 \nL 180.69638 310.257073 \nL 181.54254 309.863825 \nL 182.388699 309.273952 \nL 184.081019 309.273952 \nL 184.927178 308.487456 \nL 186.619498 307.70096 \nL 187.465658 307.111088 \nL 188.311817 306.717839 \nL 189.157977 306.521215 \nL 190.004137 305.734719 \nL 191.696456 304.948223 \nL 192.542616 305.144847 \nL 193.388775 304.161727 \nL 194.234935 303.768478 \nL 195.081095 303.178606 \nL 195.927254 303.178606 \nL 196.773414 302.39211 \nL 197.619574 301.802238 \nL 198.465733 300.622493 \nL 199.311893 299.835997 \nL 200.158053 299.639373 \nL 201.850372 298.459629 \nL 202.696532 298.066381 \nL 203.542691 298.066381 \nL 204.388851 297.673132 \nL 205.235011 297.476508 \nL 206.92733 296.690012 \nL 207.77349 296.10014 \nL 208.619649 295.903516 \nL 209.465809 296.10014 \nL 211.158129 296.10014 \nL 212.004288 296.493388 \nL 212.850448 296.10014 \nL 213.696608 295.11702 \nL 214.542767 295.510268 \nL 215.388927 294.527147 \nL 216.235087 293.937275 \nL 217.081246 292.954155 \nL 217.927406 293.150779 \nL 219.619725 292.757531 \nL 220.465885 292.954155 \nL 221.312045 292.560907 \nL 222.158204 292.757531 \nL 223.850524 292.364283 \nL 224.696683 291.77441 \nL 225.542843 291.381162 \nL 226.389003 290.594666 \nL 227.235162 290.004794 \nL 228.927482 288.431801 \nL 229.773641 287.448681 \nL 230.619801 286.858809 \nL 231.465961 286.858809 \nL 232.31212 287.055433 \nL 233.15828 286.268937 \nL 234.00444 285.875689 \nL 234.8506 285.285816 \nL 235.696759 285.48244 \nL 236.542919 286.268937 \nL 237.389079 286.268937 \nL 239.081398 284.302696 \nL 239.927558 283.712824 \nL 240.773717 283.5162 \nL 242.466037 281.549959 \nL 243.312196 279.976967 \nL 244.158356 279.387094 \nL 245.004516 278.010726 \nL 245.850675 277.027606 \nL 246.696835 275.651237 \nL 247.542995 274.668117 \nL 248.389154 274.078245 \nL 249.235314 272.505252 \nL 250.081474 272.701876 \nL 250.927633 271.91538 \nL 251.773793 271.522132 \nL 252.619953 270.735635 \nL 254.312272 268.769395 \nL 255.158432 267.58965 \nL 256.004591 266.60653 \nL 256.850751 264.836914 \nL 257.696911 264.247041 \nL 258.543071 262.477425 \nL 259.38923 261.690928 \nL 260.23539 259.921312 \nL 261.08155 259.724688 \nL 261.927709 259.134816 \nL 262.773869 258.348319 \nL 263.620029 258.151695 \nL 264.466188 258.151695 \nL 265.312348 258.348319 \nL 267.004667 256.775327 \nL 268.696987 253.432718 \nL 269.543146 250.679981 \nL 270.389306 250.483357 \nL 271.235466 248.517116 \nL 272.081625 247.140748 \nL 272.927785 246.747499 \nL 273.773945 245.174507 \nL 274.620104 243.994763 \nL 275.466264 242.42177 \nL 276.312424 240.258905 \nL 277.158583 239.865657 \nL 278.004743 237.506168 \nL 278.850903 236.523048 \nL 279.697062 234.950056 \nL 280.543222 232.787191 \nL 281.389382 229.83783 \nL 282.235542 229.247958 \nL 283.081701 227.281717 \nL 283.927861 226.298597 \nL 284.774021 223.54586 \nL 285.62018 221.186371 \nL 286.46634 219.22013 \nL 287.3125 216.664017 \nL 288.158659 215.680897 \nL 289.004819 214.501153 \nL 289.850979 212.731536 \nL 290.697138 212.338288 \nL 291.543298 210.175423 \nL 292.389458 209.388927 \nL 293.235617 207.226062 \nL 294.081777 206.242942 \nL 294.927937 203.293581 \nL 295.774096 202.310461 \nL 296.620256 201.130716 \nL 297.466416 198.377979 \nL 298.312575 196.215115 \nL 299.158735 194.642122 \nL 300.004895 192.675881 \nL 300.851054 191.299513 \nL 301.697214 189.136648 \nL 302.543374 186.383911 \nL 303.389533 184.221047 \nL 305.081853 180.485189 \nL 305.928013 179.698693 \nL 306.774172 177.929077 \nL 307.620332 173.996595 \nL 308.466492 171.83373 \nL 309.312651 168.097873 \nL 310.158811 166.328257 \nL 311.004971 163.57552 \nL 311.85113 161.412655 \nL 312.69729 157.28355 \nL 314.389609 154.334189 \nL 315.235769 151.778076 \nL 316.928088 145.68273 \nL 318.620408 139.194136 \nL 319.466567 138.407639 \nL 320.312727 135.654902 \nL 321.158887 134.868406 \nL 322.005046 131.919045 \nL 322.851206 127.986564 \nL 323.697366 126.413571 \nL 324.543525 122.874338 \nL 325.389685 118.351985 \nL 326.235845 116.18912 \nL 327.082004 114.812751 \nL 327.928164 109.89715 \nL 328.774324 106.161293 \nL 329.620483 104.784924 \nL 330.466643 100.655819 \nL 331.312803 97.116586 \nL 332.158963 94.363849 \nL 333.005122 93.380728 \nL 333.851282 91.611112 \nL 335.543601 82.173157 \nL 336.389761 79.42042 \nL 338.08208 72.538577 \nL 338.92824 68.212848 \nL 339.7744 66.443231 \nL 340.620559 61.920878 \nL 341.466719 59.168141 \nL 342.312879 59.364765 \nL 343.159038 63.887118 \nL 344.005198 168.687745 \nL 344.851358 244.781259 \nL 345.697517 246.550875 \nL 346.543677 246.157627 \nL 349.082156 246.157627 \nL 349.928316 251.859725 \nL 350.774475 252.842846 \nL 351.620635 253.03947 \nL 352.466795 252.646221 \nL 353.312954 254.219214 \nL 354.159114 254.219214 \nL 355.005274 254.02259 \nL 355.851434 252.842846 \nL 356.697593 252.252973 \nL 357.543753 252.449597 \nL 358.389913 251.859725 \nL 359.236072 252.449597 \nL 360.082232 251.269853 \nL 360.928392 252.056349 \nL 361.774551 253.236094 \nL 362.620711 252.842846 \nL 363.466871 253.03947 \nL 364.31303 252.842846 \nL 365.15919 253.236094 \nL 366.851509 254.415838 \nL 367.697669 254.02259 \nL 368.543829 253.432718 \nL 369.389988 251.859725 \nL 370.236148 252.646221 \nL 371.082308 252.252973 \nL 372.774627 249.303612 \nL 373.620787 247.140748 \nL 374.466946 245.764379 \nL 377.005425 240.652153 \nL 377.851585 242.618394 \nL 378.697745 243.011642 \nL 379.543905 244.977883 \nL 380.390064 242.42177 \nL 382.082384 239.865657 \nL 382.928543 237.899417 \nL 383.774703 235.14668 \nL 384.620863 233.966935 \nL 385.467022 232.393943 \nL 386.313182 232.197319 \nL 387.159342 233.180439 \nL 388.005501 234.950056 \nL 388.851661 264.443665 \nL 389.697821 264.050417 \nL 390.54398 264.640289 \nL 391.39014 264.050417 \nL 392.2363 263.853793 \nL 393.082459 265.033538 \nL 393.928619 268.179523 \nL 395.620938 267.393026 \nL 396.467098 266.60653 \nL 397.313258 266.999778 \nL 398.159417 267.58965 \nL 399.005577 267.393026 \nL 399.851737 267.393026 \nL 400.697896 267.786274 \nL 401.544056 268.769395 \nL 402.390216 267.786274 \nL 403.236376 267.786274 \nL 404.082535 268.966019 \nL 405.774855 269.752515 \nL 406.621014 268.966019 \nL 407.467174 267.786274 \nL 408.313334 266.999778 \nL 410.005653 264.640289 \nL 410.851813 264.247041 \nL 411.697972 264.247041 \nL 412.544132 262.084177 \nL 413.390292 262.084177 \nL 414.236451 261.101056 \nL 415.082611 260.707808 \nL 415.928771 260.511184 \nL 417.62109 259.724688 \nL 418.46725 259.134816 \nL 419.313409 258.151695 \nL 420.159569 258.938192 \nL 421.005729 257.955071 \nL 421.851888 256.578703 \nL 422.698048 256.382079 \nL 423.544208 255.202334 \nL 424.390367 253.432718 \nL 425.236527 252.646221 \nL 426.082687 253.03947 \nL 426.928847 251.663101 \nL 427.775006 251.269853 \nL 429.467326 251.663101 \nL 430.313485 251.466477 \nL 431.159645 250.090109 \nL 432.005805 247.73062 \nL 433.698124 244.191387 \nL 435.390443 241.831898 \nL 436.236603 240.848778 \nL 438.775082 235.343304 \nL 440.467401 235.736552 \nL 441.313561 234.753431 \nL 442.159721 233.573687 \nL 443.00588 232.197319 \nL 443.85204 229.83783 \nL 444.6982 229.051334 \nL 445.544359 228.658085 \nL 446.390519 226.888469 \nL 447.236679 226.691845 \nL 448.082838 224.52898 \nL 448.928998 224.332356 \nL 449.775158 226.298597 \nL 450.621318 267.58965 \nL 451.467477 297.08326 \nL 452.313637 312.419937 \nL 453.159797 313.599682 \nL 454.005956 313.99293 \nL 454.852116 314.189554 \nL 455.698276 314.582802 \nL 456.544435 315.172674 \nL 457.390595 316.745667 \nL 458.236755 316.942291 \nL 461.621393 316.942291 \nL 462.467553 316.745667 \nL 463.313713 317.138915 \nL 465.006032 317.138915 \nL 465.852192 317.335539 \nL 466.698351 317.138915 \nL 467.544511 317.138915 \nL 468.390671 317.335539 \nL 469.23683 316.942291 \nL 470.08299 317.138915 \nL 470.92915 316.942291 \nL 471.775309 317.138915 \nL 472.621469 316.942291 \nL 475.159948 316.942291 \nL 476.006108 317.532163 \nL 476.852268 317.728787 \nL 478.544587 317.728787 \nL 479.390747 317.925411 \nL 480.236906 317.728787 \nL 481.083066 317.925411 \nL 481.929226 317.925411 \nL 482.775385 318.318659 \nL 483.621545 318.515283 \nL 484.467705 318.318659 \nL 485.313864 318.318659 \nL 487.006184 318.711907 \nL 487.852343 318.711907 \nL 488.698503 318.515283 \nL 489.544663 318.515283 \nL 490.390822 318.318659 \nL 491.236982 317.925411 \nL 492.083142 318.122035 \nL 492.929301 318.122035 \nL 494.621621 317.728787 \nL 495.46778 317.728787 \nL 496.31394 318.122035 \nL 497.1601 318.318659 \nL 498.00626 318.122035 \nL 498.852419 318.318659 \nL 499.698579 318.318659 \nL 500.544739 317.925411 \nL 501.390898 318.122035 \nL 502.237058 318.122035 \nL 503.083218 318.318659 \nL 505.621697 318.318659 \nL 506.467856 318.515283 \nL 507.314016 318.908532 \nL 508.160176 318.908532 \nL 509.006335 318.515283 \nL 509.852495 318.318659 \nL 512.390974 318.318659 \nL 514.083293 317.925411 \nL 514.929453 318.122035 \nL 515.775613 317.728787 \nL 516.621772 317.728787 \nL 517.467932 317.925411 \nL 518.314092 318.318659 \nL 521.698731 318.318659 \nL 522.54489 318.122035 \nL 523.39105 317.728787 \nL 524.23721 317.925411 \nL 525.929529 317.532163 \nL 526.775689 317.532163 \nL 527.621848 317.728787 \nL 528.468008 317.728787 \nL 529.314168 317.532163 \nL 530.160327 317.532163 \nL 531.006487 316.942291 \nL 531.852647 316.942291 \nL 532.698806 316.745667 \nL 533.544966 316.745667 \nL 535.237285 315.959171 \nL 536.083445 315.762546 \nL 536.929605 315.959171 \nL 538.621924 314.386178 \nL 539.468084 313.99293 \nL 540.314243 313.99293 \nL 543.698882 312.419937 \nL 544.545042 312.419937 \nL 545.391202 312.223313 \nL 546.237361 311.436817 \nL 547.083521 311.043569 \nL 547.929681 310.846945 \nL 549.622 310.060449 \nL 551.314319 309.6672 \nL 552.160479 308.880704 \nL 553.006639 309.470576 \nL 553.852798 309.470576 \nL 554.698958 308.880704 \nL 555.545118 309.273952 \nL 556.391277 309.077328 \nL 557.237437 309.077328 \nL 558.083597 309.470576 \nL 558.929756 308.880704 \nL 559.775916 308.487456 \nL 560.622076 308.290832 \nL 561.468235 307.307712 \nL 563.160555 306.521215 \nL 564.006714 305.931343 \nL 564.852874 304.948223 \nL 565.699034 303.768478 \nL 566.545193 303.178606 \nL 568.237513 301.605614 \nL 569.083673 300.425869 \nL 569.929832 299.049501 \nL 570.775992 298.656253 \nL 571.622152 298.852877 \nL 572.468311 297.673132 \nL 574.160631 296.10014 \nL 575.85295 295.706892 \nL 576.69911 295.11702 \nL 579.237589 294.527147 \nL 580.083748 294.527147 \nL 580.929908 293.937275 \nL 581.776068 293.937275 \nL 582.622227 293.740651 \nL 583.468387 293.740651 \nL 584.314547 293.544027 \nL 585.160706 293.150779 \nL 586.006866 292.167659 \nL 586.853026 291.77441 \nL 587.699185 291.77441 \nL 588.545345 291.971035 \nL 591.083824 290.201418 \nL 592.776144 289.80817 \nL 593.622303 289.021674 \nL 594.468463 288.628425 \nL 595.314623 288.628425 \nL 596.160782 287.841929 \nL 597.006942 286.858809 \nL 597.853102 285.679064 \nL 598.699261 285.285816 \nL 599.545421 284.106072 \nL 600.391581 283.909448 \nL 601.23774 284.106072 \nL 602.0839 283.122952 \nL 602.93006 283.122952 \nL 603.776219 282.729703 \nL 604.622379 282.139831 \nL 605.468539 281.746583 \nL 606.314698 281.549959 \nL 607.160858 281.549959 \nL 608.007018 281.353335 \nL 608.853177 281.549959 \nL 609.699337 281.156711 \nL 610.545497 281.549959 \nL 612.237816 281.549959 \nL 613.083976 281.746583 \nL 613.930135 282.139831 \nL 614.776295 281.746583 \nL 615.622455 281.156711 \nL 617.314774 280.370215 \nL 619.007094 278.797222 \nL 620.699413 277.617478 \nL 621.545573 276.830982 \nL 622.391732 276.830982 \nL 623.237892 276.044485 \nL 624.084052 275.847861 \nL 624.930211 274.471493 \nL 625.776371 273.488372 \nL 626.622531 272.8985 \nL 627.46869 271.91538 \nL 628.31485 271.522132 \nL 629.16101 271.718756 \nL 630.853329 270.539011 \nL 631.699489 270.735635 \nL 632.545648 271.91538 \nL 633.391808 272.701876 \nL 634.237968 273.095124 \nL 635.084127 273.291748 \nL 635.930287 272.701876 \nL 636.776447 272.8985 \nL 637.622606 272.505252 \nL 638.468766 272.505252 \nL 639.314926 271.522132 \nL 640.161086 271.718756 \nL 641.007245 271.522132 \nL 641.853405 271.128884 \nL 642.699565 269.949139 \nL 643.545724 269.555891 \nL 644.391884 268.376147 \nL 645.238044 266.803154 \nL 646.084203 266.016658 \nL 646.930363 265.426786 \nL 647.776523 264.247041 \nL 648.622682 263.460545 \nL 649.468842 264.050417 \nL 650.315002 263.067297 \nL 652.007321 261.887553 \nL 652.853481 260.117936 \nL 653.69964 259.134816 \nL 654.5458 257.758447 \nL 655.39196 257.365199 \nL 656.238119 256.382079 \nL 657.084279 256.185455 \nL 657.930439 254.219214 \nL 658.776598 252.842846 \nL 659.622758 252.056349 \nL 660.468918 250.876605 \nL 661.315077 250.090109 \nL 662.161237 249.106988 \nL 663.007397 247.533996 \nL 663.853557 247.140748 \nL 664.699716 245.961003 \nL 665.545876 244.584635 \nL 666.392036 244.191387 \nL 667.238195 244.191387 \nL 668.084355 243.40489 \nL 668.930515 241.831898 \nL 669.776674 240.848778 \nL 670.622834 238.292665 \nL 672.315153 234.360183 \nL 673.161313 233.573687 \nL 674.007473 233.573687 \nL 679.084431 222.955988 \nL 680.77675 220.989747 \nL 682.469069 218.040386 \nL 683.315229 215.484273 \nL 684.161389 214.107905 \nL 685.007548 212.141664 \nL 685.853708 211.551792 \nL 687.546028 208.995679 \nL 688.392187 206.832814 \nL 689.238347 205.65307 \nL 691.776826 198.967852 \nL 692.622986 197.788107 \nL 693.469145 195.625242 \nL 694.315305 193.855626 \nL 695.161465 192.872506 \nL 696.007624 190.906265 \nL 696.853784 190.316393 \nL 697.699944 187.563656 \nL 698.546103 185.400791 \nL 699.392263 184.614295 \nL 700.238423 181.271686 \nL 701.930742 177.535828 \nL 702.776902 176.356084 \nL 703.623061 176.749332 \nL 706.16154 167.114753 \nL 707.85386 162.199151 \nL 708.700019 159.643038 \nL 709.546179 156.103805 \nL 710.392339 153.744316 \nL 711.238499 151.9747 \nL 712.084658 149.418587 \nL 712.930818 149.025339 \nL 714.623137 142.340121 \nL 715.469297 139.587384 \nL 716.315457 138.604263 \nL 718.007776 134.08191 \nL 718.853936 131.132549 \nL 719.700095 130.542677 \nL 720.546255 129.166308 \nL 721.392415 128.183188 \nL 722.238574 128.379812 \nL 723.084734 127.396692 \nL 723.930894 124.447331 \nL 724.777053 118.941857 \nL 725.623213 115.402624 \nL 726.469373 110.88027 \nL 727.315532 108.520781 \nL 728.161692 105.374796 \nL 729.007852 102.818683 \nL 729.854011 99.869322 \nL 730.700171 97.903082 \nL 731.546331 92.790856 \nL 732.39249 88.661751 \nL 733.23865 82.369781 \nL 734.08481 78.240675 \nL 734.93097 75.291314 \nL 735.777129 69.195968 \nL 736.623289 65.853359 \nL 737.469449 64.870239 \nL 738.315608 59.954637 \nL 739.161768 56.21878 \nL 740.007928 54.055915 \nL 741.700247 45.60108 \nL 742.546407 44.224712 \nL 743.392566 42.258471 \nL 745.084886 32.623892 \nL 745.931045 33.01714 \nL 746.777205 36.163125 \nL 747.623365 55.23566 \nL 748.469524 183.827798 \nL 749.315684 252.646221 \nL 750.161844 289.218298 \nL 751.008003 308.487456 \nL 751.854163 318.515283 \nL 752.700323 323.824133 \nL 753.546482 326.380246 \nL 754.392642 327.756614 \nL 755.238802 328.346487 \nL 756.084961 328.739735 \nL 756.931121 328.936359 \nL 757.777281 328.936359 \nL 758.623441 329.132983 \nL 811.9315 329.132983 \nL 811.9315 329.132983 \n\" style=\"fill:none;stroke:#ff0000;stroke-linecap:square;stroke-width:1.5;\"/>\n   </g>\n   <g id=\"patch_3\">\n    <path d=\"M 57.199375 343.958437 \nL 57.199375 17.798437 \n\" style=\"fill:none;stroke:#000000;stroke-linecap:square;stroke-linejoin:miter;stroke-width:0.8;\"/>\n   </g>\n   <g id=\"patch_4\">\n    <path d=\"M 1173.199375 343.958437 \nL 1173.199375 17.798437 \n\" style=\"fill:none;stroke:#000000;stroke-linecap:square;stroke-linejoin:miter;stroke-width:0.8;\"/>\n   </g>\n   <g id=\"patch_5\">\n    <path d=\"M 57.199375 343.958437 \nL 1173.199375 343.958437 \n\" style=\"fill:none;stroke:#000000;stroke-linecap:square;stroke-linejoin:miter;stroke-width:0.8;\"/>\n   </g>\n   <g id=\"patch_6\">\n    <path d=\"M 57.199375 17.798437 \nL 1173.199375 17.798437 \n\" style=\"fill:none;stroke:#000000;stroke-linecap:square;stroke-linejoin:miter;stroke-width:0.8;\"/>\n   </g>\n   <g id=\"legend_1\">\n    <g id=\"patch_7\">\n     <path d=\"M 1081.666563 40.476562 \nL 1166.199375 40.476562 \nQ 1168.199375 40.476562 1168.199375 38.476562 \nL 1168.199375 24.798437 \nQ 1168.199375 22.798437 1166.199375 22.798437 \nL 1081.666563 22.798437 \nQ 1079.666563 22.798437 1079.666563 24.798437 \nL 1079.666563 38.476562 \nQ 1079.666563 40.476562 1081.666563 40.476562 \nz\n\" style=\"fill:#ffffff;opacity:0.8;stroke:#cccccc;stroke-linejoin:miter;\"/>\n    </g>\n    <g id=\"line2d_17\">\n     <path d=\"M 1083.666563 30.896875 \nL 1103.666563 30.896875 \n\" style=\"fill:none;stroke:#ff0000;stroke-linecap:square;stroke-width:1.5;\"/>\n    </g>\n    <g id=\"line2d_18\"/>\n    <g id=\"text_18\">\n     <!-- Population -->\n     <g transform=\"translate(1111.666563 34.396875)scale(0.1 -0.1)\">\n      <use xlink:href=\"#DejaVuSans-50\"/>\n      <use x=\"56.677734\" xlink:href=\"#DejaVuSans-6f\"/>\n      <use x=\"117.859375\" xlink:href=\"#DejaVuSans-70\"/>\n      <use x=\"181.335938\" xlink:href=\"#DejaVuSans-75\"/>\n      <use x=\"244.714844\" xlink:href=\"#DejaVuSans-6c\"/>\n      <use x=\"272.498047\" xlink:href=\"#DejaVuSans-61\"/>\n      <use x=\"333.777344\" xlink:href=\"#DejaVuSans-74\"/>\n      <use x=\"372.986328\" xlink:href=\"#DejaVuSans-69\"/>\n      <use x=\"400.769531\" xlink:href=\"#DejaVuSans-6f\"/>\n      <use x=\"461.951172\" xlink:href=\"#DejaVuSans-6e\"/>\n     </g>\n    </g>\n   </g>\n  </g>\n  <g id=\"axes_2\">\n   <g id=\"matplotlib.axis_3\">\n    <g id=\"ytick_9\">\n     <g id=\"line2d_19\">\n      <defs>\n       <path d=\"M 0 0 \nL 3.5 0 \n\" id=\"m6303009bf7\" style=\"stroke:#000000;stroke-width:0.8;\"/>\n      </defs>\n      <g>\n       <use style=\"stroke:#000000;stroke-width:0.8;\" x=\"1173.199375\" xlink:href=\"#m6303009bf7\" y=\"329.132983\"/>\n      </g>\n     </g>\n     <g id=\"text_19\">\n      <!-- 0.0 -->\n      <g transform=\"translate(1180.199375 332.932202)scale(0.1 -0.1)\">\n       <defs>\n        <path d=\"M 684 794 \nL 1344 794 \nL 1344 0 \nL 684 0 \nL 684 794 \nz\n\" id=\"DejaVuSans-2e\" transform=\"scale(0.015625)\"/>\n       </defs>\n       <use xlink:href=\"#DejaVuSans-30\"/>\n       <use x=\"63.623047\" xlink:href=\"#DejaVuSans-2e\"/>\n       <use x=\"95.410156\" xlink:href=\"#DejaVuSans-30\"/>\n      </g>\n     </g>\n    </g>\n    <g id=\"ytick_10\">\n     <g id=\"line2d_20\">\n      <g>\n       <use style=\"stroke:#000000;stroke-width:0.8;\" x=\"1173.199375\" xlink:href=\"#m6303009bf7\" y=\"289.512576\"/>\n      </g>\n     </g>\n     <g id=\"text_20\">\n      <!-- 0.5 -->\n      <g transform=\"translate(1180.199375 293.311795)scale(0.1 -0.1)\">\n       <defs>\n        <path d=\"M 691 4666 \nL 3169 4666 \nL 3169 4134 \nL 1269 4134 \nL 1269 2991 \nQ 1406 3038 1543 3061 \nQ 1681 3084 1819 3084 \nQ 2600 3084 3056 2656 \nQ 3513 2228 3513 1497 \nQ 3513 744 3044 326 \nQ 2575 -91 1722 -91 \nQ 1428 -91 1123 -41 \nQ 819 9 494 109 \nL 494 744 \nQ 775 591 1075 516 \nQ 1375 441 1709 441 \nQ 2250 441 2565 725 \nQ 2881 1009 2881 1497 \nQ 2881 1984 2565 2268 \nQ 2250 2553 1709 2553 \nQ 1456 2553 1204 2497 \nQ 953 2441 691 2322 \nL 691 4666 \nz\n\" id=\"DejaVuSans-35\" transform=\"scale(0.015625)\"/>\n       </defs>\n       <use xlink:href=\"#DejaVuSans-30\"/>\n       <use x=\"63.623047\" xlink:href=\"#DejaVuSans-2e\"/>\n       <use x=\"95.410156\" xlink:href=\"#DejaVuSans-35\"/>\n      </g>\n     </g>\n    </g>\n    <g id=\"ytick_11\">\n     <g id=\"line2d_21\">\n      <g>\n       <use style=\"stroke:#000000;stroke-width:0.8;\" x=\"1173.199375\" xlink:href=\"#m6303009bf7\" y=\"249.892169\"/>\n      </g>\n     </g>\n     <g id=\"text_21\">\n      <!-- 1.0 -->\n      <g transform=\"translate(1180.199375 253.691388)scale(0.1 -0.1)\">\n       <use xlink:href=\"#DejaVuSans-31\"/>\n       <use x=\"63.623047\" xlink:href=\"#DejaVuSans-2e\"/>\n       <use x=\"95.410156\" xlink:href=\"#DejaVuSans-30\"/>\n      </g>\n     </g>\n    </g>\n    <g id=\"ytick_12\">\n     <g id=\"line2d_22\">\n      <g>\n       <use style=\"stroke:#000000;stroke-width:0.8;\" x=\"1173.199375\" xlink:href=\"#m6303009bf7\" y=\"210.271762\"/>\n      </g>\n     </g>\n     <g id=\"text_22\">\n      <!-- 1.5 -->\n      <g transform=\"translate(1180.199375 214.070981)scale(0.1 -0.1)\">\n       <use xlink:href=\"#DejaVuSans-31\"/>\n       <use x=\"63.623047\" xlink:href=\"#DejaVuSans-2e\"/>\n       <use x=\"95.410156\" xlink:href=\"#DejaVuSans-35\"/>\n      </g>\n     </g>\n    </g>\n    <g id=\"ytick_13\">\n     <g id=\"line2d_23\">\n      <g>\n       <use style=\"stroke:#000000;stroke-width:0.8;\" x=\"1173.199375\" xlink:href=\"#m6303009bf7\" y=\"170.651355\"/>\n      </g>\n     </g>\n     <g id=\"text_23\">\n      <!-- 2.0 -->\n      <g transform=\"translate(1180.199375 174.450573)scale(0.1 -0.1)\">\n       <use xlink:href=\"#DejaVuSans-32\"/>\n       <use x=\"63.623047\" xlink:href=\"#DejaVuSans-2e\"/>\n       <use x=\"95.410156\" xlink:href=\"#DejaVuSans-30\"/>\n      </g>\n     </g>\n    </g>\n    <g id=\"ytick_14\">\n     <g id=\"line2d_24\">\n      <g>\n       <use style=\"stroke:#000000;stroke-width:0.8;\" x=\"1173.199375\" xlink:href=\"#m6303009bf7\" y=\"131.030948\"/>\n      </g>\n     </g>\n     <g id=\"text_24\">\n      <!-- 2.5 -->\n      <g transform=\"translate(1180.199375 134.830166)scale(0.1 -0.1)\">\n       <use xlink:href=\"#DejaVuSans-32\"/>\n       <use x=\"63.623047\" xlink:href=\"#DejaVuSans-2e\"/>\n       <use x=\"95.410156\" xlink:href=\"#DejaVuSans-35\"/>\n      </g>\n     </g>\n    </g>\n    <g id=\"ytick_15\">\n     <g id=\"line2d_25\">\n      <g>\n       <use style=\"stroke:#000000;stroke-width:0.8;\" x=\"1173.199375\" xlink:href=\"#m6303009bf7\" y=\"91.410541\"/>\n      </g>\n     </g>\n     <g id=\"text_25\">\n      <!-- 3.0 -->\n      <g transform=\"translate(1180.199375 95.209759)scale(0.1 -0.1)\">\n       <defs>\n        <path d=\"M 2597 2516 \nQ 3050 2419 3304 2112 \nQ 3559 1806 3559 1356 \nQ 3559 666 3084 287 \nQ 2609 -91 1734 -91 \nQ 1441 -91 1130 -33 \nQ 819 25 488 141 \nL 488 750 \nQ 750 597 1062 519 \nQ 1375 441 1716 441 \nQ 2309 441 2620 675 \nQ 2931 909 2931 1356 \nQ 2931 1769 2642 2001 \nQ 2353 2234 1838 2234 \nL 1294 2234 \nL 1294 2753 \nL 1863 2753 \nQ 2328 2753 2575 2939 \nQ 2822 3125 2822 3475 \nQ 2822 3834 2567 4026 \nQ 2313 4219 1838 4219 \nQ 1578 4219 1281 4162 \nQ 984 4106 628 3988 \nL 628 4550 \nQ 988 4650 1302 4700 \nQ 1616 4750 1894 4750 \nQ 2613 4750 3031 4423 \nQ 3450 4097 3450 3541 \nQ 3450 3153 3228 2886 \nQ 3006 2619 2597 2516 \nz\n\" id=\"DejaVuSans-33\" transform=\"scale(0.015625)\"/>\n       </defs>\n       <use xlink:href=\"#DejaVuSans-33\"/>\n       <use x=\"63.623047\" xlink:href=\"#DejaVuSans-2e\"/>\n       <use x=\"95.410156\" xlink:href=\"#DejaVuSans-30\"/>\n      </g>\n     </g>\n    </g>\n    <g id=\"ytick_16\">\n     <g id=\"line2d_26\">\n      <g>\n       <use style=\"stroke:#000000;stroke-width:0.8;\" x=\"1173.199375\" xlink:href=\"#m6303009bf7\" y=\"51.790134\"/>\n      </g>\n     </g>\n     <g id=\"text_26\">\n      <!-- 3.5 -->\n      <g transform=\"translate(1180.199375 55.589352)scale(0.1 -0.1)\">\n       <use xlink:href=\"#DejaVuSans-33\"/>\n       <use x=\"63.623047\" xlink:href=\"#DejaVuSans-2e\"/>\n       <use x=\"95.410156\" xlink:href=\"#DejaVuSans-35\"/>\n      </g>\n     </g>\n    </g>\n    <g id=\"text_27\">\n     <!-- Money -->\n     <g transform=\"translate(1210.740313 204.087812)rotate(-90)scale(0.14 -0.14)\">\n      <defs>\n       <path d=\"M 628 4666 \nL 1569 4666 \nL 2759 1491 \nL 3956 4666 \nL 4897 4666 \nL 4897 0 \nL 4281 0 \nL 4281 4097 \nL 3078 897 \nL 2444 897 \nL 1241 4097 \nL 1241 0 \nL 628 0 \nL 628 4666 \nz\n\" id=\"DejaVuSans-4d\" transform=\"scale(0.015625)\"/>\n      </defs>\n      <use xlink:href=\"#DejaVuSans-4d\"/>\n      <use x=\"86.279297\" xlink:href=\"#DejaVuSans-6f\"/>\n      <use x=\"147.460938\" xlink:href=\"#DejaVuSans-6e\"/>\n      <use x=\"210.839844\" xlink:href=\"#DejaVuSans-65\"/>\n      <use x=\"272.363281\" xlink:href=\"#DejaVuSans-79\"/>\n     </g>\n    </g>\n    <g id=\"text_28\">\n     <!-- 1e7 -->\n     <g transform=\"translate(1154.32125 14.798437)scale(0.1 -0.1)\">\n      <defs>\n       <path d=\"M 525 4666 \nL 3525 4666 \nL 3525 4397 \nL 1831 0 \nL 1172 0 \nL 2766 4134 \nL 525 4134 \nL 525 4666 \nz\n\" id=\"DejaVuSans-37\" transform=\"scale(0.015625)\"/>\n      </defs>\n      <use xlink:href=\"#DejaVuSans-31\"/>\n      <use x=\"63.623047\" xlink:href=\"#DejaVuSans-65\"/>\n      <use x=\"125.146484\" xlink:href=\"#DejaVuSans-37\"/>\n     </g>\n    </g>\n   </g>\n   <g id=\"line2d_27\">\n    <path clip-path=\"url(#p6ed69d09ac)\" d=\"M 107.926648 329.132983 \nL 108.772807 326.924684 \nL 109.618967 327.101133 \nL 110.465127 326.925904 \nL 111.311286 326.085113 \nL 112.157446 325.78015 \nL 113.849765 325.371394 \nL 114.695925 325.150879 \nL 115.542085 324.489248 \nL 116.388245 324.676482 \nL 117.234404 324.215347 \nL 118.080564 324.014371 \nL 118.926724 323.665496 \nL 119.772883 323.840002 \nL 120.619043 323.609205 \nL 121.465203 323.179781 \nL 123.157522 323.085974 \nL 124.003682 323.102344 \nL 124.849841 323.258861 \nL 125.696001 323.585697 \nL 127.38832 324.52442 \nL 128.23448 324.753132 \nL 129.08064 325.110533 \nL 129.926799 325.167989 \nL 130.772959 325.387515 \nL 132.465278 325.268523 \nL 133.311438 324.960963 \nL 134.157598 325.003864 \nL 135.003757 325.328289 \nL 135.849917 324.500881 \nL 136.696077 323.204922 \nL 138.388396 321.710661 \nL 139.234556 321.066858 \nL 140.080716 319.918975 \nL 142.619195 317.460307 \nL 144.311514 316.175446 \nL 145.157674 315.525946 \nL 147.696153 315.489718 \nL 149.388472 315.716203 \nL 151.080791 316.863347 \nL 153.61927 319.456468 \nL 155.31159 320.680011 \nL 156.157749 320.921609 \nL 157.003909 321.635253 \nL 158.696228 321.962507 \nL 159.542388 321.876855 \nL 160.388548 321.451904 \nL 161.234707 321.648754 \nL 162.080867 321.48725 \nL 162.927027 321.504066 \nL 163.773187 321.128969 \nL 166.311666 320.90685 \nL 173.080943 314.753622 \nL 174.773262 313.524918 \nL 175.619422 313.135398 \nL 176.465582 312.90603 \nL 177.311741 313.11063 \nL 178.157901 312.896137 \nL 179.004061 313.124216 \nL 179.85022 313.068337 \nL 180.69638 313.411341 \nL 181.54254 313.623016 \nL 183.234859 315.170083 \nL 184.081019 315.555687 \nL 184.927178 316.288364 \nL 185.773338 316.711444 \nL 186.619498 316.68362 \nL 187.465658 316.898067 \nL 190.004137 316.720375 \nL 190.850296 316.863384 \nL 191.696456 316.295222 \nL 192.542616 316.134027 \nL 193.388775 315.852632 \nL 194.234935 314.988654 \nL 195.081095 314.439981 \nL 195.927254 313.361681 \nL 196.773414 312.010937 \nL 197.619574 311.542315 \nL 201.004212 308.494434 \nL 201.850372 308.634499 \nL 203.542691 307.769122 \nL 204.388851 307.682349 \nL 205.235011 307.093104 \nL 206.08117 306.836888 \nL 208.619649 306.404602 \nL 209.465809 305.940097 \nL 210.311969 306.226022 \nL 211.158129 306.676087 \nL 212.004288 306.733107 \nL 212.850448 307.488515 \nL 213.696608 307.729769 \nL 215.388927 307.478434 \nL 216.235087 306.950257 \nL 217.081246 306.843214 \nL 217.927406 306.473987 \nL 218.773566 305.826415 \nL 219.619725 305.353198 \nL 220.465885 305.154023 \nL 221.312045 305.349199 \nL 222.158204 305.239084 \nL 223.004364 305.274222 \nL 224.696683 304.972414 \nL 225.542843 304.596182 \nL 227.235162 302.466057 \nL 228.081322 301.464685 \nL 228.927482 300.050035 \nL 229.773641 299.252097 \nL 230.619801 298.758437 \nL 232.31212 296.344808 \nL 233.15828 296.025576 \nL 234.00444 296.129963 \nL 234.8506 295.241654 \nL 235.696759 294.675251 \nL 236.542919 294.613918 \nL 237.389079 294.251787 \nL 238.235238 294.323838 \nL 239.081398 293.53447 \nL 240.773717 293.062974 \nL 241.619877 292.484243 \nL 242.466037 292.600791 \nL 244.158356 291.720167 \nL 245.004516 290.941646 \nL 245.850675 289.958665 \nL 246.696835 288.277355 \nL 247.542995 286.166056 \nL 248.389154 283.576377 \nL 249.235314 281.502779 \nL 250.081474 280.744193 \nL 250.927633 279.350527 \nL 253.466112 276.324986 \nL 254.312272 275.52548 \nL 255.158432 274.897916 \nL 256.004591 274.754276 \nL 258.543071 270.886009 \nL 259.38923 269.198916 \nL 260.23539 267.923093 \nL 261.927709 265.9339 \nL 262.773869 264.509522 \nL 263.620029 263.625342 \nL 264.466188 263.068624 \nL 266.158508 261.255265 \nL 267.004667 260.617785 \nL 267.850827 260.778547 \nL 268.696987 260.24117 \nL 269.543146 258.649983 \nL 270.389306 256.631645 \nL 271.235466 254.184524 \nL 272.081625 253.363952 \nL 272.927785 251.431628 \nL 273.773945 249.008694 \nL 274.620104 247.101412 \nL 275.466264 245.986603 \nL 276.312424 244.285579 \nL 278.004743 239.975154 \nL 279.697062 237.062395 \nL 280.543222 235.055448 \nL 281.389382 234.63295 \nL 282.235542 232.072222 \nL 283.081701 229.037974 \nL 283.927861 227.976131 \nL 284.774021 227.29862 \nL 285.62018 226.765457 \nL 286.46634 224.127298 \nL 287.3125 223.69964 \nL 288.158659 222.006136 \nL 289.004819 217.754246 \nL 291.543298 212.129956 \nL 292.389458 209.474925 \nL 293.235617 208.382692 \nL 294.927937 204.3277 \nL 295.774096 204.557891 \nL 296.620256 201.084172 \nL 297.466416 200.241341 \nL 299.158735 197.134029 \nL 300.004895 195.247003 \nL 301.697214 194.229554 \nL 302.543374 194.269463 \nL 303.389533 196.271998 \nL 304.235693 195.015589 \nL 305.081853 194.609995 \nL 305.928013 195.082728 \nL 306.774172 193.144794 \nL 307.620332 192.63581 \nL 308.466492 191.823498 \nL 309.312651 188.528286 \nL 310.158811 186.636686 \nL 311.004971 183.425633 \nL 311.85113 183.305082 \nL 312.69729 180.159622 \nL 313.54345 176.437267 \nL 314.389609 173.775341 \nL 315.235769 170.259961 \nL 316.081929 168.282888 \nL 316.928088 166.822787 \nL 317.774248 162.091234 \nL 318.620408 158.638845 \nL 319.466567 158.148804 \nL 320.312727 154.878306 \nL 321.158887 152.872778 \nL 322.005046 152.981528 \nL 322.851206 151.709086 \nL 323.697366 150.233231 \nL 324.543525 149.339349 \nL 325.389685 147.846795 \nL 326.235845 145.071332 \nL 327.082004 145.173213 \nL 327.928164 142.712761 \nL 328.774324 139.717393 \nL 329.620483 139.708345 \nL 330.466643 138.920297 \nL 331.312803 135.157815 \nL 332.158963 133.866907 \nL 333.005122 133.480198 \nL 333.851282 130.468718 \nL 334.697442 130.170209 \nL 335.543601 130.20561 \nL 336.389761 126.914934 \nL 338.08208 123.416331 \nL 338.92824 120.955514 \nL 339.7744 119.646315 \nL 340.620559 117.347845 \nL 341.466719 115.795693 \nL 342.312879 116.085006 \nL 344.005198 130.70236 \nL 344.851358 131.987369 \nL 345.697517 151.834737 \nL 346.543677 190.506499 \nL 347.389837 213.710644 \nL 348.235996 224.942197 \nL 349.082156 233.42518 \nL 349.928316 238.503902 \nL 350.774475 241.123627 \nL 351.620635 245.454918 \nL 353.312954 251.446311 \nL 354.159114 257.555145 \nL 355.005274 258.707415 \nL 355.851434 258.052056 \nL 356.697593 256.822783 \nL 357.543753 254.213728 \nL 358.389913 251.089583 \nL 359.236072 249.348834 \nL 360.928392 243.076467 \nL 361.774551 241.316057 \nL 362.620711 248.437351 \nL 363.466871 253.970231 \nL 364.31303 254.778233 \nL 365.15919 254.736196 \nL 366.00535 257.043268 \nL 366.851509 257.747835 \nL 367.697669 256.01497 \nL 368.543829 256.532875 \nL 369.389988 256.600072 \nL 370.236148 257.152852 \nL 371.082308 264.776614 \nL 371.928467 268.172232 \nL 372.774627 269.050516 \nL 373.620787 267.637736 \nL 374.466946 265.600823 \nL 376.159266 258.954819 \nL 377.005425 256.220759 \nL 377.851585 252.870218 \nL 378.697745 251.659581 \nL 379.543905 258.394923 \nL 380.390064 263.609515 \nL 381.236224 267.033743 \nL 382.082384 265.507914 \nL 382.928543 264.244555 \nL 384.620863 259.365954 \nL 385.467022 257.754288 \nL 386.313182 254.799105 \nL 387.159342 254.055108 \nL 388.005501 254.043472 \nL 388.851661 257.098573 \nL 389.697821 259.340795 \nL 390.54398 269.213285 \nL 391.39014 274.402492 \nL 392.2363 276.46773 \nL 393.082459 277.253247 \nL 393.928619 277.785332 \nL 395.620938 279.551855 \nL 396.467098 280.529525 \nL 397.313258 279.972121 \nL 398.159417 281.09336 \nL 399.005577 281.887678 \nL 399.851737 282.365096 \nL 400.697896 282.450802 \nL 401.544056 283.385958 \nL 402.390216 284.094765 \nL 403.236376 284.569662 \nL 404.082535 283.478633 \nL 404.928695 282.758692 \nL 405.774855 282.367274 \nL 406.621014 281.354856 \nL 407.467174 280.960747 \nL 408.313334 280.317858 \nL 409.159493 278.993956 \nL 410.005653 278.376333 \nL 410.851813 276.408184 \nL 411.697972 275.301214 \nL 412.544132 274.674967 \nL 413.390292 273.705566 \nL 414.236451 272.916711 \nL 415.082611 272.569657 \nL 415.928771 271.901941 \nL 416.77493 271.523073 \nL 417.62109 270.645324 \nL 419.313409 270.137683 \nL 420.159569 269.365117 \nL 421.005729 270.03697 \nL 421.851888 269.989785 \nL 422.698048 269.478116 \nL 423.544208 268.199667 \nL 424.390367 267.386762 \nL 425.236527 267.099031 \nL 426.082687 266.416563 \nL 426.928847 267.178354 \nL 427.775006 267.541577 \nL 428.621166 266.410682 \nL 429.467326 266.692653 \nL 430.313485 266.801171 \nL 431.159645 267.765955 \nL 432.005805 267.960148 \nL 432.851964 266.145782 \nL 433.698124 264.884733 \nL 437.082763 257.325338 \nL 437.928922 256.141107 \nL 438.775082 253.708451 \nL 439.621242 249.726168 \nL 441.313561 256.099294 \nL 442.159721 256.876409 \nL 443.00588 255.493344 \nL 443.85204 252.408198 \nL 444.6982 250.205365 \nL 445.544359 246.728426 \nL 447.236679 241.433675 \nL 448.082838 240.197893 \nL 448.928998 238.654336 \nL 449.775158 245.130255 \nL 450.621318 250.489442 \nL 451.467477 252.302652 \nL 453.159797 270.004249 \nL 454.005956 285.610109 \nL 454.852116 296.147515 \nL 455.698276 302.36703 \nL 456.544435 306.262228 \nL 459.082914 314.143359 \nL 459.929074 315.400166 \nL 461.621393 316.122719 \nL 462.467553 316.222906 \nL 463.313713 316.450013 \nL 464.159872 316.435375 \nL 465.006032 316.770426 \nL 465.852192 316.638164 \nL 466.698351 316.66386 \nL 467.544511 316.556489 \nL 468.390671 316.059837 \nL 469.23683 315.922003 \nL 470.08299 315.575011 \nL 470.92915 315.427004 \nL 471.775309 314.867732 \nL 472.621469 314.452304 \nL 473.467629 314.35026 \nL 474.313789 314.057185 \nL 475.159948 313.959437 \nL 476.006108 314.1611 \nL 476.852268 313.394868 \nL 477.698427 313.672946 \nL 480.236906 314.058885 \nL 481.083066 313.933116 \nL 481.929226 314.144192 \nL 482.775385 314.023353 \nL 483.621545 314.410138 \nL 484.467705 314.670806 \nL 485.313864 314.321038 \nL 486.160024 314.216275 \nL 487.006184 314.438469 \nL 487.852343 315.055904 \nL 488.698503 315.510229 \nL 489.544663 315.603472 \nL 490.390822 315.533083 \nL 491.236982 314.949607 \nL 492.083142 315.276874 \nL 492.929301 314.969985 \nL 493.775461 314.363527 \nL 495.46778 312.676528 \nL 496.31394 313.108229 \nL 497.1601 312.404398 \nL 498.00626 310.968041 \nL 498.852419 310.901124 \nL 499.698579 310.080291 \nL 501.390898 309.839824 \nL 502.237058 309.186471 \nL 503.083218 308.679011 \nL 503.929377 308.316239 \nL 504.775537 308.281638 \nL 505.621697 308.387865 \nL 506.467856 308.240277 \nL 507.314016 308.859103 \nL 508.160176 309.265415 \nL 509.006335 310.078761 \nL 509.852495 310.394464 \nL 510.698655 310.909031 \nL 512.390974 310.867397 \nL 513.237134 310.448958 \nL 514.083293 310.41557 \nL 514.929453 310.091868 \nL 515.775613 310.0797 \nL 517.467932 309.59196 \nL 518.314092 309.44345 \nL 519.160251 309.817974 \nL 520.006411 309.836187 \nL 521.698731 309.511575 \nL 523.39105 309.218599 \nL 524.23721 308.281838 \nL 525.083369 308.000155 \nL 525.929529 308.166721 \nL 526.775689 307.942581 \nL 527.621848 307.27778 \nL 528.468008 306.832513 \nL 529.314168 307.375413 \nL 530.160327 307.335284 \nL 531.006487 306.657312 \nL 533.544966 305.521473 \nL 534.391126 305.275024 \nL 536.083445 304.485761 \nL 536.929605 304.260876 \nL 537.775764 304.473207 \nL 539.468084 306.446999 \nL 540.314243 306.372868 \nL 541.160403 305.6999 \nL 542.852722 303.080973 \nL 544.545042 300.488957 \nL 545.391202 298.8395 \nL 546.237361 298.544088 \nL 547.083521 297.956325 \nL 548.77584 297.300944 \nL 549.622 297.081681 \nL 550.46816 295.308343 \nL 552.160479 293.089114 \nL 553.006639 292.657981 \nL 553.852798 291.782932 \nL 554.698958 292.937025 \nL 556.391277 293.695298 \nL 557.237437 294.41397 \nL 558.929756 295.086645 \nL 560.622076 294.702384 \nL 562.314395 294.603915 \nL 563.160555 294.106417 \nL 564.006714 294.251456 \nL 564.852874 294.16673 \nL 565.699034 293.649309 \nL 567.391353 292.252402 \nL 568.237513 291.975457 \nL 569.083673 290.988386 \nL 569.929832 290.858141 \nL 570.775992 289.589215 \nL 571.622152 288.961552 \nL 572.468311 287.684485 \nL 573.314471 287.3606 \nL 574.160631 286.486919 \nL 575.00679 285.276845 \nL 575.85295 284.383427 \nL 576.69911 284.65842 \nL 578.391429 286.212469 \nL 580.083748 285.587563 \nL 581.776068 285.560214 \nL 582.622227 285.710199 \nL 585.160706 288.200038 \nL 586.006866 289.816962 \nL 586.853026 291.008362 \nL 587.699185 291.415682 \nL 588.545345 292.825847 \nL 591.083824 295.003053 \nL 591.929984 295.172623 \nL 592.776144 295.0921 \nL 593.622303 294.821222 \nL 594.468463 294.896523 \nL 595.314623 294.162419 \nL 596.160782 293.925468 \nL 597.006942 293.348175 \nL 597.853102 291.81802 \nL 598.699261 291.319884 \nL 599.545421 289.963079 \nL 600.391581 289.094601 \nL 601.23774 288.558281 \nL 602.0839 287.429505 \nL 602.93006 286.923935 \nL 603.776219 285.664124 \nL 604.622379 286.001328 \nL 605.468539 286.15818 \nL 607.160858 285.643802 \nL 608.007018 285.876015 \nL 608.853177 285.734834 \nL 610.545497 285.702347 \nL 611.391656 287.104859 \nL 612.237816 287.178863 \nL 613.083976 287.419505 \nL 613.930135 288.478271 \nL 614.776295 288.955288 \nL 615.622455 290.448681 \nL 616.468615 290.439989 \nL 617.314774 288.941882 \nL 618.160934 288.297731 \nL 619.007094 288.444116 \nL 620.699413 287.090051 \nL 621.545573 286.134687 \nL 622.391732 285.787324 \nL 624.084052 284.01761 \nL 624.930211 282.544795 \nL 625.776371 282.691105 \nL 626.622531 282.036925 \nL 627.46869 278.534536 \nL 628.31485 277.480494 \nL 629.16101 275.257214 \nL 630.007169 272.61647 \nL 630.853329 271.512295 \nL 631.699489 269.812999 \nL 632.545648 268.777586 \nL 633.391808 268.038621 \nL 635.084127 270.378586 \nL 635.930287 270.247176 \nL 636.776447 270.989614 \nL 637.622606 271.581929 \nL 638.468766 273.286678 \nL 639.314926 272.281442 \nL 640.161086 272.742515 \nL 641.007245 274.209856 \nL 641.853405 273.509211 \nL 642.699565 275.037491 \nL 643.545724 276.983102 \nL 644.391884 278.197639 \nL 645.238044 278.242468 \nL 646.084203 278.798568 \nL 647.776523 278.186419 \nL 648.622682 276.998197 \nL 649.468842 275.225574 \nL 650.315002 274.124196 \nL 651.161161 273.856783 \nL 652.007321 272.824491 \nL 653.69964 270.25805 \nL 654.5458 268.251794 \nL 655.39196 265.902935 \nL 656.238119 264.52584 \nL 657.084279 262.682199 \nL 657.930439 259.296806 \nL 658.776598 257.246213 \nL 659.622758 255.911202 \nL 660.468918 254.277848 \nL 661.315077 252.200053 \nL 662.161237 250.818814 \nL 663.007397 249.876073 \nL 663.853557 248.581711 \nL 664.699716 248.147158 \nL 665.545876 248.283388 \nL 666.392036 247.600322 \nL 668.084355 247.367795 \nL 668.930515 246.881769 \nL 669.776674 248.543169 \nL 670.622834 249.603051 \nL 671.468994 249.222438 \nL 673.161313 250.075093 \nL 674.853632 248.702222 \nL 675.699792 249.225415 \nL 676.545952 248.642248 \nL 677.392111 246.631764 \nL 678.238271 245.52282 \nL 679.93059 241.441975 \nL 681.62291 236.911455 \nL 682.469069 236.752092 \nL 683.315229 235.119692 \nL 684.161389 232.918304 \nL 685.007548 229.856036 \nL 685.853708 228.877635 \nL 686.699868 227.407111 \nL 688.392187 225.87407 \nL 689.238347 225.411467 \nL 690.084507 224.731123 \nL 690.930666 224.328631 \nL 691.776826 222.855865 \nL 692.622986 221.799104 \nL 693.469145 221.749445 \nL 694.315305 219.747302 \nL 695.161465 218.925666 \nL 696.007624 218.468793 \nL 696.853784 216.633868 \nL 697.699944 214.187589 \nL 698.546103 213.628494 \nL 699.392263 211.867708 \nL 700.238423 209.523486 \nL 701.084582 209.863066 \nL 701.930742 208.231303 \nL 703.623061 203.619729 \nL 704.469221 202.105843 \nL 705.315381 200.877245 \nL 708.700019 182.465789 \nL 709.546179 177.197126 \nL 710.392339 174.218101 \nL 711.238499 170.72811 \nL 712.084658 166.155209 \nL 712.930818 165.43426 \nL 713.776978 162.091392 \nL 714.623137 160.278459 \nL 715.469297 157.689555 \nL 716.315457 153.759812 \nL 717.161616 150.719817 \nL 718.007776 148.381417 \nL 718.853936 147.106627 \nL 719.700095 143.101894 \nL 720.546255 137.294072 \nL 721.392415 135.55893 \nL 722.238574 135.21658 \nL 723.084734 132.807212 \nL 723.930894 130.781795 \nL 724.777053 131.755163 \nL 725.623213 128.076501 \nL 727.315532 124.803332 \nL 728.161692 120.421644 \nL 729.007852 115.129885 \nL 729.854011 112.54249 \nL 730.700171 108.932025 \nL 731.546331 103.715398 \nL 733.23865 96.761841 \nL 734.08481 86.79634 \nL 734.93097 80.691414 \nL 735.777129 76.41838 \nL 739.161768 55.331274 \nL 740.007928 53.433853 \nL 740.854087 50.20724 \nL 741.700247 48.43549 \nL 742.546407 46.93547 \nL 743.392566 41.918823 \nL 744.238726 40.937041 \nL 745.084886 39.282969 \nL 745.931045 36.740561 \nL 746.777205 32.623892 \nL 747.623365 65.901854 \nL 748.469524 91.893973 \nL 749.315684 103.631981 \nL 751.008003 172.149763 \nL 751.854163 206.71654 \nL 753.546482 256.573234 \nL 754.392642 274.262767 \nL 756.084961 294.966849 \nL 756.931121 301.4392 \nL 759.4696 328.116736 \nL 764.546558 328.111596 \nL 766.238878 328.064138 \nL 768.777357 328.088827 \nL 770.469676 328.035994 \nL 775.546634 328.027976 \nL 777.238953 327.979564 \nL 779.777432 328.002807 \nL 781.469752 327.948997 \nL 786.54671 327.937983 \nL 788.239029 327.88855 \nL 790.777508 327.910238 \nL 792.469828 327.855378 \nL 793.315987 327.867681 \nL 794.162147 328.98615 \nL 797.546786 328.586628 \nL 810.239181 327.497548 \nL 813.62382 327.269272 \nL 824.623895 327.240675 \nL 1122.472102 327.240569 \nL 1122.472102 327.240569 \n\" style=\"fill:none;stroke:#0000ff;stroke-linecap:square;stroke-width:1.5;\"/>\n   </g>\n   <g id=\"line2d_28\">\n    <path clip-path=\"url(#p6ed69d09ac)\" d=\"M 107.926648 327.258145 \nL 108.772807 329.042331 \nL 109.618967 328.926146 \nL 110.465127 328.000304 \nL 111.311286 328.234921 \nL 113.003606 328.366022 \nL 113.849765 328.54449 \nL 114.695925 327.580942 \nL 115.542085 328.73702 \nL 116.388245 327.898077 \nL 117.234404 328.128608 \nL 118.080564 327.670727 \nL 118.926724 328.476606 \nL 120.619043 327.312227 \nL 121.465203 327.667841 \nL 123.157522 327.969652 \nL 124.003682 327.837931 \nL 124.849841 327.891727 \nL 126.542161 328.272304 \nL 127.38832 328.380431 \nL 128.23448 328.975539 \nL 129.08064 328.316107 \nL 129.926799 328.825101 \nL 131.619119 328.828719 \nL 132.465278 328.422168 \nL 133.311438 328.70939 \nL 134.157598 328.654918 \nL 135.003757 328.776039 \nL 135.849917 328.357061 \nL 136.696077 328.503897 \nL 137.542236 328.008149 \nL 140.926875 327.900187 \nL 141.773035 327.45581 \nL 142.619195 327.367686 \nL 143.465354 327.753413 \nL 144.311514 327.584306 \nL 145.157674 327.872622 \nL 146.849993 328.098863 \nL 147.696153 327.935207 \nL 150.234632 327.923591 \nL 151.080791 328.440633 \nL 151.926951 328.385698 \nL 152.773111 328.494544 \nL 154.46543 328.969226 \nL 155.31159 327.911875 \nL 156.157749 328.441825 \nL 157.003909 328.371639 \nL 157.850069 328.980757 \nL 158.696228 328.375821 \nL 159.542388 328.137905 \nL 160.388548 328.970601 \nL 161.234707 328.896093 \nL 162.080867 328.989976 \nL 163.773187 328.541222 \nL 164.619346 328.801686 \nL 165.465506 328.803141 \nL 166.311666 328.625037 \nL 167.157825 328.85211 \nL 168.003985 328.416628 \nL 168.850145 328.681877 \nL 169.696304 328.65662 \nL 170.542464 328.515428 \nL 171.388624 328.766609 \nL 172.234783 328.580547 \nL 173.080943 328.780467 \nL 173.927103 328.780773 \nL 174.773262 328.392857 \nL 175.619422 328.708494 \nL 176.465582 328.699378 \nL 177.311741 328.209961 \nL 178.157901 328.663819 \nL 179.004061 328.11882 \nL 179.85022 328.816965 \nL 183.234859 328.81364 \nL 184.081019 328.899798 \nL 185.773338 328.84022 \nL 189.157977 328.835197 \nL 190.004137 328.83798 \nL 190.850296 328.534033 \nL 191.696456 328.747529 \nL 193.388775 328.860356 \nL 195.081095 328.71369 \nL 195.927254 328.378419 \nL 196.773414 328.750718 \nL 198.465733 328.627492 \nL 200.158053 328.690297 \nL 201.850372 328.397753 \nL 202.696532 328.573343 \nL 203.542691 328.59658 \nL 204.388851 328.371445 \nL 205.235011 328.618089 \nL 207.77349 328.371597 \nL 208.619649 328.613089 \nL 209.465809 328.538897 \nL 210.311969 328.629778 \nL 211.158129 327.953068 \nL 212.004288 328.710346 \nL 212.850448 327.552154 \nL 213.696608 328.149328 \nL 214.542767 328.321627 \nL 215.388927 327.327608 \nL 216.235087 328.709798 \nL 217.081246 328.788031 \nL 217.927406 327.94348 \nL 218.773566 328.594328 \nL 219.619725 328.210053 \nL 220.465885 328.679911 \nL 221.312045 328.015476 \nL 222.158204 328.087791 \nL 223.004364 327.786624 \nL 223.850524 328.211069 \nL 224.696683 328.336108 \nL 225.542843 328.334021 \nL 226.389003 328.200588 \nL 227.235162 328.627789 \nL 228.081322 327.816454 \nL 228.927482 328.405915 \nL 230.619801 327.61107 \nL 231.465961 327.643405 \nL 232.31212 327.191825 \nL 233.15828 327.690867 \nL 234.00444 326.973396 \nL 234.8506 327.509139 \nL 235.696759 327.878308 \nL 236.542919 326.543791 \nL 237.389079 326.804657 \nL 238.235238 326.319096 \nL 239.927558 327.175898 \nL 240.773717 326.001003 \nL 241.619877 327.245264 \nL 242.466037 326.951653 \nL 243.312196 327.135477 \nL 244.158356 327.675256 \nL 245.004516 326.403656 \nL 245.850675 326.837687 \nL 246.696835 325.381462 \nL 247.542995 324.149673 \nL 249.235314 325.080114 \nL 250.081474 325.064831 \nL 250.927633 324.739252 \nL 251.773793 323.836653 \nL 254.312272 325.804853 \nL 255.158432 324.438745 \nL 256.004591 324.526952 \nL 256.850751 324.77365 \nL 257.696911 324.569802 \nL 258.543071 323.275236 \nL 259.38923 322.927226 \nL 260.23539 323.649152 \nL 261.08155 322.42541 \nL 261.927709 321.412143 \nL 262.773869 320.941493 \nL 263.620029 321.052697 \nL 264.466188 319.811678 \nL 265.312348 318.84505 \nL 266.158508 318.231729 \nL 267.004667 319.663317 \nL 267.850827 319.257603 \nL 268.696987 318.013307 \nL 269.543146 318.333203 \nL 270.389306 317.412447 \nL 271.235466 319.053949 \nL 272.081625 317.847517 \nL 272.927785 315.46402 \nL 273.773945 316.886236 \nL 274.620104 317.152229 \nL 275.466264 315.806623 \nL 276.312424 313.222798 \nL 277.158583 314.148745 \nL 278.004743 314.437939 \nL 278.850903 313.499352 \nL 279.697062 313.547988 \nL 280.543222 314.974913 \nL 281.389382 312.387943 \nL 282.235542 314.362694 \nL 283.081701 314.083548 \nL 283.927861 314.568199 \nL 284.774021 314.486995 \nL 285.62018 311.370784 \nL 286.46634 313.799738 \nL 287.3125 311.798918 \nL 288.158659 309.408636 \nL 289.004819 310.726081 \nL 289.850979 310.815694 \nL 290.697138 307.385702 \nL 291.543298 306.680543 \nL 292.389458 306.789701 \nL 293.235617 304.625412 \nL 294.081777 304.000339 \nL 294.927937 306.835051 \nL 295.774096 301.908536 \nL 296.620256 305.351493 \nL 297.466416 304.494658 \nL 298.312575 304.723602 \nL 299.158735 302.697127 \nL 300.004895 305.4721 \nL 300.851054 305.076284 \nL 301.697214 305.682498 \nL 302.543374 310.174088 \nL 303.389533 306.464228 \nL 304.235693 307.271733 \nL 305.081853 309.646713 \nL 305.928013 307.135817 \nL 306.774172 310.587159 \nL 307.620332 309.409892 \nL 308.466492 309.502214 \nL 309.312651 308.516203 \nL 310.158811 310.912031 \nL 311.004971 310.467208 \nL 311.85113 306.817504 \nL 312.69729 307.086439 \nL 313.54345 309.54945 \nL 314.389609 305.779653 \nL 315.235769 306.908887 \nL 316.081929 306.548349 \nL 316.928088 304.663846 \nL 317.774248 304.783162 \nL 318.620408 307.185272 \nL 319.466567 303.974267 \nL 320.312727 305.411281 \nL 321.158887 307.473255 \nL 322.005046 305.806742 \nL 322.851206 307.032958 \nL 323.697366 309.852003 \nL 324.543525 308.104473 \nL 325.389685 305.721914 \nL 326.235845 311.073207 \nL 327.082004 307.295424 \nL 327.928164 308.063298 \nL 328.774324 313.176834 \nL 329.620483 311.567518 \nL 330.466643 307.998969 \nL 331.312803 311.836824 \nL 332.158963 313.350462 \nL 333.005122 308.112944 \nL 333.851282 311.530326 \nL 334.697442 314.053904 \nL 335.543601 311.692751 \nL 336.389761 313.541826 \nL 337.235921 317.053523 \nL 338.08208 314.824308 \nL 338.92824 316.82408 \nL 339.7744 317.419129 \nL 340.620559 316.54279 \nL 341.466719 320.02761 \nL 342.312879 329.035591 \nL 344.851358 329.106237 \nL 345.697517 323.221255 \nL 346.543677 319.965267 \nL 347.389837 317.777642 \nL 348.235996 319.380792 \nL 349.082156 319.163312 \nL 349.928316 317.552392 \nL 350.774475 316.823835 \nL 351.620635 318.168854 \nL 352.466795 321.73079 \nL 353.312954 329.034405 \nL 354.159114 324.353588 \nL 355.005274 324.388198 \nL 356.697593 320.314511 \nL 358.389913 319.123908 \nL 360.082232 316.051666 \nL 360.928392 317.826755 \nL 361.774551 328.988758 \nL 362.620711 327.998779 \nL 363.466871 320.459625 \nL 364.31303 317.187926 \nL 365.15919 319.663148 \nL 366.00535 317.910429 \nL 366.851509 313.881375 \nL 367.697669 317.508134 \nL 369.389988 316.301417 \nL 370.236148 329.059263 \nL 371.082308 326.716859 \nL 371.928467 325.393163 \nL 372.774627 322.078372 \nL 373.620787 322.165875 \nL 374.466946 318.545611 \nL 375.313106 318.619633 \nL 376.159266 319.254304 \nL 377.005425 317.385436 \nL 377.851585 318.889984 \nL 378.697745 329.011212 \nL 379.543905 329.053832 \nL 380.390064 327.359646 \nL 381.236224 323.157217 \nL 382.082384 325.320084 \nL 382.928543 323.997673 \nL 383.774703 323.855463 \nL 384.620863 326.445834 \nL 385.467022 323.049242 \nL 386.313182 325.763137 \nL 387.159342 329.016545 \nL 388.851661 329.083788 \nL 390.54398 327.592098 \nL 391.39014 325.646926 \nL 392.2363 325.761613 \nL 393.082459 326.481703 \nL 393.928619 326.872541 \nL 394.774779 328.20521 \nL 395.620938 327.096413 \nL 396.467098 327.191482 \nL 397.313258 328.053765 \nL 398.159417 327.329612 \nL 399.005577 327.124223 \nL 399.851737 327.080457 \nL 400.697896 328.462194 \nL 401.544056 327.675287 \nL 402.390216 328.331231 \nL 403.236376 327.486053 \nL 404.082535 327.603169 \nL 404.928695 328.452858 \nL 405.774855 328.199916 \nL 406.621014 327.78947 \nL 407.467174 328.481435 \nL 408.313334 325.666484 \nL 409.159493 328.356618 \nL 410.005653 326.291855 \nL 411.697972 328.109773 \nL 412.544132 326.1637 \nL 413.390292 327.26128 \nL 414.236451 328.07584 \nL 415.082611 326.813264 \nL 415.928771 326.978501 \nL 416.77493 327.359637 \nL 417.62109 328.15364 \nL 418.46725 327.712301 \nL 419.313409 326.119044 \nL 420.159569 326.390856 \nL 421.005729 325.183193 \nL 421.851888 326.476423 \nL 422.698048 325.533519 \nL 423.544208 325.433713 \nL 424.390367 326.176475 \nL 425.236527 325.98232 \nL 426.082687 327.206002 \nL 426.928847 326.669591 \nL 427.775006 325.764963 \nL 428.621166 326.386881 \nL 429.467326 326.393588 \nL 430.313485 327.295243 \nL 431.159645 326.920438 \nL 432.005805 325.580808 \nL 432.851964 326.329336 \nL 433.698124 325.295213 \nL 434.544284 325.405985 \nL 435.390443 323.753354 \nL 436.236603 322.785801 \nL 437.082763 322.519936 \nL 437.928922 321.217971 \nL 438.775082 318.85408 \nL 439.621242 329.079659 \nL 440.467401 329.098323 \nL 441.313561 326.365259 \nL 442.159721 324.019208 \nL 443.00588 320.079907 \nL 444.6982 320.972242 \nL 445.544359 319.001155 \nL 446.390519 317.89077 \nL 447.236679 320.630567 \nL 448.082838 318.794673 \nL 448.928998 329.021305 \nL 452.313637 329.113048 \nL 453.159797 327.180495 \nL 454.005956 326.613648 \nL 454.852116 325.837999 \nL 455.698276 325.522728 \nL 456.544435 325.738211 \nL 457.390595 326.265655 \nL 458.236755 326.93511 \nL 459.082914 326.622613 \nL 459.929074 326.764145 \nL 462.467553 327.675558 \nL 463.313713 327.147517 \nL 464.159872 327.787653 \nL 465.006032 327.630319 \nL 465.852192 327.741366 \nL 467.544511 326.926415 \nL 469.23683 326.908443 \nL 470.08299 327.09866 \nL 470.92915 326.819314 \nL 471.775309 326.95574 \nL 472.621469 326.90535 \nL 473.467629 327.254414 \nL 474.313789 326.72246 \nL 475.159948 327.081686 \nL 476.006108 326.618144 \nL 476.852268 325.956734 \nL 477.698427 326.03372 \nL 478.544587 325.22946 \nL 479.390747 325.699557 \nL 480.236906 325.742204 \nL 481.083066 325.484991 \nL 481.929226 324.945063 \nL 482.775385 325.684902 \nL 483.621545 325.407183 \nL 484.467705 324.893174 \nL 485.313864 324.681757 \nL 486.160024 324.805744 \nL 487.006184 325.715952 \nL 487.852343 325.986804 \nL 490.390822 324.463936 \nL 491.236982 325.436952 \nL 492.083142 324.36 \nL 492.929301 324.362583 \nL 494.621621 322.983978 \nL 495.46778 324.545981 \nL 496.31394 323.277869 \nL 497.1601 322.480174 \nL 498.00626 321.877421 \nL 498.852419 321.411848 \nL 499.698579 322.88311 \nL 500.544739 322.728203 \nL 501.390898 321.907298 \nL 502.237058 321.872885 \nL 503.929377 321.085329 \nL 504.775537 320.297684 \nL 505.621697 320.023482 \nL 507.314016 321.50123 \nL 509.006335 320.892481 \nL 509.852495 321.800969 \nL 511.544814 320.906791 \nL 512.390974 320.832857 \nL 513.237134 321.948101 \nL 514.083293 321.770846 \nL 514.929453 323.29717 \nL 515.775613 323.205712 \nL 516.621772 322.815553 \nL 517.467932 322.851057 \nL 518.314092 323.093899 \nL 519.160251 323.176496 \nL 520.006411 322.805023 \nL 520.852571 322.856148 \nL 521.698731 322.529272 \nL 522.54489 322.948788 \nL 523.39105 322.807785 \nL 524.23721 322.878379 \nL 525.083369 322.573622 \nL 525.929529 321.713876 \nL 526.775689 321.558261 \nL 527.621848 321.149114 \nL 528.468008 321.290869 \nL 529.314168 320.704901 \nL 530.160327 320.880755 \nL 531.852647 320.961143 \nL 533.544966 320.629894 \nL 535.237285 321.128106 \nL 536.083445 320.942099 \nL 536.929605 321.050773 \nL 537.775764 322.026586 \nL 538.621924 323.955777 \nL 539.468084 322.548847 \nL 540.314243 322.223217 \nL 541.160403 321.237259 \nL 542.006563 320.828012 \nL 542.852722 320.724865 \nL 543.698882 320.888169 \nL 544.545042 321.523894 \nL 545.391202 321.664157 \nL 546.237361 321.946507 \nL 547.083521 320.607591 \nL 547.929681 321.598176 \nL 548.77584 321.042829 \nL 549.622 319.978094 \nL 550.46816 319.173604 \nL 551.314319 319.150865 \nL 552.160479 318.912803 \nL 553.006639 318.818906 \nL 553.852798 318.374355 \nL 554.698958 317.301132 \nL 555.545118 318.593518 \nL 556.391277 318.617899 \nL 558.083597 316.319068 \nL 558.929756 316.090125 \nL 559.775916 316.067671 \nL 560.622076 315.90605 \nL 561.468235 316.922306 \nL 562.314395 316.729539 \nL 563.160555 316.714876 \nL 564.006714 317.044785 \nL 564.852874 316.648411 \nL 565.699034 317.320512 \nL 566.545193 318.626048 \nL 567.391353 319.148919 \nL 568.237513 318.900182 \nL 569.083673 318.977467 \nL 569.929832 318.053534 \nL 570.775992 318.328601 \nL 573.314471 317.826806 \nL 574.160631 318.595456 \nL 575.00679 317.358511 \nL 576.69911 319.890524 \nL 578.391429 317.771929 \nL 579.237589 319.147579 \nL 580.083748 318.840941 \nL 581.776068 317.480912 \nL 582.622227 318.726368 \nL 583.468387 318.632631 \nL 584.314547 319.909997 \nL 585.160706 320.339654 \nL 586.006866 320.900272 \nL 586.853026 321.240801 \nL 587.699185 323.07896 \nL 588.545345 322.812781 \nL 589.391505 323.024827 \nL 590.237664 324.482371 \nL 593.622303 326.289668 \nL 594.468463 325.263944 \nL 595.314623 326.303583 \nL 596.160782 326.779207 \nL 597.006942 325.550815 \nL 597.853102 327.507599 \nL 598.699261 326.655753 \nL 599.545421 327.026042 \nL 600.391581 327.834975 \nL 601.23774 325.572244 \nL 602.0839 325.882771 \nL 602.93006 325.513431 \nL 603.776219 326.89319 \nL 605.468539 325.173357 \nL 606.314698 325.368073 \nL 607.160858 325.143029 \nL 608.007018 324.529677 \nL 608.853177 324.788633 \nL 609.699337 322.871172 \nL 610.545497 325.281644 \nL 611.391656 323.859463 \nL 612.237816 324.137671 \nL 613.083976 325.555204 \nL 613.930135 323.942981 \nL 614.776295 325.852811 \nL 616.468615 322.624305 \nL 617.314774 322.862375 \nL 618.160934 323.534761 \nL 619.007094 322.863867 \nL 619.853253 323.504054 \nL 620.699413 322.910777 \nL 622.391732 324.671408 \nL 623.237892 323.291022 \nL 624.084052 322.610292 \nL 624.930211 323.67759 \nL 625.776371 323.44746 \nL 626.622531 322.26866 \nL 627.46869 323.622642 \nL 628.31485 320.793333 \nL 629.16101 320.227291 \nL 630.007169 322.624531 \nL 630.853329 322.200676 \nL 631.699489 322.201876 \nL 632.545648 321.83656 \nL 633.391808 323.168715 \nL 634.237968 323.182015 \nL 635.084127 322.64876 \nL 635.930287 323.942949 \nL 636.776447 322.700823 \nL 637.622606 324.775308 \nL 638.468766 322.441097 \nL 639.314926 323.058394 \nL 640.161086 325.560717 \nL 641.007245 324.029425 \nL 641.853405 325.603747 \nL 642.699565 328.294631 \nL 643.545724 327.237283 \nL 644.391884 327.953044 \nL 645.238044 328.501343 \nL 646.084203 328.444475 \nL 647.776523 327.751852 \nL 648.622682 327.83709 \nL 649.468842 325.859866 \nL 650.315002 325.127889 \nL 651.161161 325.798756 \nL 652.007321 324.541787 \nL 652.853481 324.747792 \nL 653.69964 323.663425 \nL 654.5458 323.29285 \nL 655.39196 323.474124 \nL 656.238119 322.137923 \nL 657.084279 319.764951 \nL 657.930439 320.1984 \nL 658.776598 320.975184 \nL 659.622758 320.590872 \nL 660.468918 319.331631 \nL 661.315077 318.938517 \nL 662.161237 319.207471 \nL 663.007397 317.335602 \nL 663.853557 318.05552 \nL 664.699716 318.92232 \nL 665.545876 316.604722 \nL 666.392036 318.987465 \nL 667.238195 318.090743 \nL 668.084355 318.290747 \nL 668.930515 320.777444 \nL 669.776674 320.918792 \nL 670.622834 319.22898 \nL 671.468994 323.441015 \nL 672.315153 324.556344 \nL 673.161313 323.302375 \nL 674.007473 323.354112 \nL 675.699792 323.83954 \nL 676.545952 322.285745 \nL 677.392111 322.855471 \nL 678.238271 322.287008 \nL 679.084431 323.559665 \nL 679.93059 323.223475 \nL 680.77675 322.692049 \nL 681.62291 323.370122 \nL 682.469069 323.223115 \nL 683.315229 321.008093 \nL 684.161389 320.729002 \nL 685.007548 322.110752 \nL 685.853708 321.770917 \nL 686.699868 319.495146 \nL 687.546028 321.199809 \nL 688.392187 322.458033 \nL 689.238347 321.915295 \nL 690.084507 323.097784 \nL 690.930666 322.671926 \nL 691.776826 322.541603 \nL 692.622986 323.677019 \nL 693.469145 320.409389 \nL 694.315305 322.644118 \nL 696.007624 320.066107 \nL 696.853784 318.020653 \nL 697.699944 319.563318 \nL 698.546103 320.177395 \nL 699.392263 316.33985 \nL 700.238423 319.888629 \nL 701.084582 318.47659 \nL 701.930742 318.146789 \nL 702.776902 319.660295 \nL 703.623061 317.519533 \nL 705.315381 315.446268 \nL 706.16154 315.037459 \nL 707.0077 314.251504 \nL 707.85386 310.977476 \nL 708.700019 309.759362 \nL 709.546179 312.809138 \nL 710.392339 310.176726 \nL 711.238499 309.007173 \nL 712.084658 310.982771 \nL 712.930818 308.390129 \nL 713.776978 309.16328 \nL 714.623137 307.377895 \nL 715.469297 306.671837 \nL 717.161616 305.819071 \nL 718.007776 305.635848 \nL 719.700095 298.608757 \nL 720.546255 299.49554 \nL 721.392415 298.902312 \nL 722.238574 293.012341 \nL 723.084734 293.810948 \nL 723.930894 297.595351 \nL 724.777053 290.629209 \nL 725.623213 294.386827 \nL 726.469373 294.984547 \nL 727.315532 293.722487 \nL 728.161692 288.20989 \nL 729.007852 290.501691 \nL 729.854011 292.442366 \nL 730.700171 283.589648 \nL 731.546331 284.485015 \nL 732.39249 286.523158 \nL 733.23865 280.113705 \nL 734.08481 283.025098 \nL 734.93097 281.628671 \nL 735.777129 280.790488 \nL 736.623289 278.928467 \nL 737.469449 279.739887 \nL 738.315608 277.324948 \nL 739.161768 281.426764 \nL 740.007928 278.598768 \nL 740.854087 277.203115 \nL 741.700247 279.00069 \nL 742.546407 274.435626 \nL 743.392566 275.600304 \nL 744.238726 274.536524 \nL 745.084886 274.633504 \nL 745.931045 271.931799 \nL 746.777205 329.00601 \nL 751.008003 329.11825 \nL 756.084961 329.131872 \nL 757.777281 328.769837 \nL 760.31576 328.897952 \nL 761.16192 328.760409 \nL 763.700399 328.895363 \nL 764.546558 328.758726 \nL 767.931197 328.912945 \nL 768.777357 328.770154 \nL 771.315836 328.898039 \nL 772.161995 328.760465 \nL 774.700474 328.895378 \nL 775.546634 328.758736 \nL 778.931273 328.912947 \nL 779.777432 328.770155 \nL 782.315912 328.898039 \nL 783.162071 328.760465 \nL 785.70055 328.895378 \nL 786.54671 328.758736 \nL 789.931349 328.912947 \nL 790.777508 328.770155 \nL 795.854466 329.050123 \nL 805.162223 329.088496 \nL 1122.472102 329.132983 \nL 1122.472102 329.132983 \n\" style=\"fill:none;stroke:#008000;stroke-linecap:square;stroke-width:1.5;\"/>\n   </g>\n   <g id=\"patch_8\">\n    <path d=\"M 57.199375 343.958437 \nL 57.199375 17.798437 \n\" style=\"fill:none;stroke:#000000;stroke-linecap:square;stroke-linejoin:miter;stroke-width:0.8;\"/>\n   </g>\n   <g id=\"patch_9\">\n    <path d=\"M 1173.199375 343.958437 \nL 1173.199375 17.798437 \n\" style=\"fill:none;stroke:#000000;stroke-linecap:square;stroke-linejoin:miter;stroke-width:0.8;\"/>\n   </g>\n   <g id=\"patch_10\">\n    <path d=\"M 57.199375 343.958437 \nL 1173.199375 343.958437 \n\" style=\"fill:none;stroke:#000000;stroke-linecap:square;stroke-linejoin:miter;stroke-width:0.8;\"/>\n   </g>\n   <g id=\"patch_11\">\n    <path d=\"M 57.199375 17.798437 \nL 1173.199375 17.798437 \n\" style=\"fill:none;stroke:#000000;stroke-linecap:square;stroke-linejoin:miter;stroke-width:0.8;\"/>\n   </g>\n   <g id=\"legend_2\">\n    <g id=\"patch_12\">\n     <path d=\"M 1050.29 338.958437 \nL 1166.199375 338.958437 \nQ 1168.199375 338.958437 1168.199375 336.958437 \nL 1168.199375 308.602187 \nQ 1168.199375 306.602187 1166.199375 306.602187 \nL 1050.29 306.602187 \nQ 1048.29 306.602187 1048.29 308.602187 \nL 1048.29 336.958437 \nQ 1048.29 338.958437 1050.29 338.958437 \nz\n\" style=\"fill:#ffffff;opacity:0.8;stroke:#cccccc;stroke-linejoin:miter;\"/>\n    </g>\n    <g id=\"line2d_29\">\n     <path d=\"M 1052.29 314.700625 \nL 1072.29 314.700625 \n\" style=\"fill:none;stroke:#0000ff;stroke-linecap:square;stroke-width:1.5;\"/>\n    </g>\n    <g id=\"line2d_30\"/>\n    <g id=\"text_29\">\n     <!-- State Money -->\n     <g transform=\"translate(1080.29 318.200625)scale(0.1 -0.1)\">\n      <defs>\n       <path d=\"M 3425 4513 \nL 3425 3897 \nQ 3066 4069 2747 4153 \nQ 2428 4238 2131 4238 \nQ 1616 4238 1336 4038 \nQ 1056 3838 1056 3469 \nQ 1056 3159 1242 3001 \nQ 1428 2844 1947 2747 \nL 2328 2669 \nQ 3034 2534 3370 2195 \nQ 3706 1856 3706 1288 \nQ 3706 609 3251 259 \nQ 2797 -91 1919 -91 \nQ 1588 -91 1214 -16 \nQ 841 59 441 206 \nL 441 856 \nQ 825 641 1194 531 \nQ 1563 422 1919 422 \nQ 2459 422 2753 634 \nQ 3047 847 3047 1241 \nQ 3047 1584 2836 1778 \nQ 2625 1972 2144 2069 \nL 1759 2144 \nQ 1053 2284 737 2584 \nQ 422 2884 422 3419 \nQ 422 4038 858 4394 \nQ 1294 4750 2059 4750 \nQ 2388 4750 2728 4690 \nQ 3069 4631 3425 4513 \nz\n\" id=\"DejaVuSans-53\" transform=\"scale(0.015625)\"/>\n       <path id=\"DejaVuSans-20\" transform=\"scale(0.015625)\"/>\n      </defs>\n      <use xlink:href=\"#DejaVuSans-53\"/>\n      <use x=\"63.476562\" xlink:href=\"#DejaVuSans-74\"/>\n      <use x=\"102.685547\" xlink:href=\"#DejaVuSans-61\"/>\n      <use x=\"163.964844\" xlink:href=\"#DejaVuSans-74\"/>\n      <use x=\"203.173828\" xlink:href=\"#DejaVuSans-65\"/>\n      <use x=\"264.697266\" xlink:href=\"#DejaVuSans-20\"/>\n      <use x=\"296.484375\" xlink:href=\"#DejaVuSans-4d\"/>\n      <use x=\"382.763672\" xlink:href=\"#DejaVuSans-6f\"/>\n      <use x=\"443.945312\" xlink:href=\"#DejaVuSans-6e\"/>\n      <use x=\"507.324219\" xlink:href=\"#DejaVuSans-65\"/>\n      <use x=\"568.847656\" xlink:href=\"#DejaVuSans-79\"/>\n     </g>\n    </g>\n    <g id=\"line2d_31\">\n     <path d=\"M 1052.29 329.37875 \nL 1072.29 329.37875 \n\" style=\"fill:none;stroke:#008000;stroke-linecap:square;stroke-width:1.5;\"/>\n    </g>\n    <g id=\"line2d_32\"/>\n    <g id=\"text_30\">\n     <!-- Company Money -->\n     <g transform=\"translate(1080.29 332.87875)scale(0.1 -0.1)\">\n      <defs>\n       <path d=\"M 4122 4306 \nL 4122 3641 \nQ 3803 3938 3442 4084 \nQ 3081 4231 2675 4231 \nQ 1875 4231 1450 3742 \nQ 1025 3253 1025 2328 \nQ 1025 1406 1450 917 \nQ 1875 428 2675 428 \nQ 3081 428 3442 575 \nQ 3803 722 4122 1019 \nL 4122 359 \nQ 3791 134 3420 21 \nQ 3050 -91 2638 -91 \nQ 1578 -91 968 557 \nQ 359 1206 359 2328 \nQ 359 3453 968 4101 \nQ 1578 4750 2638 4750 \nQ 3056 4750 3426 4639 \nQ 3797 4528 4122 4306 \nz\n\" id=\"DejaVuSans-43\" transform=\"scale(0.015625)\"/>\n       <path d=\"M 3328 2828 \nQ 3544 3216 3844 3400 \nQ 4144 3584 4550 3584 \nQ 5097 3584 5394 3201 \nQ 5691 2819 5691 2113 \nL 5691 0 \nL 5113 0 \nL 5113 2094 \nQ 5113 2597 4934 2840 \nQ 4756 3084 4391 3084 \nQ 3944 3084 3684 2787 \nQ 3425 2491 3425 1978 \nL 3425 0 \nL 2847 0 \nL 2847 2094 \nQ 2847 2600 2669 2842 \nQ 2491 3084 2119 3084 \nQ 1678 3084 1418 2786 \nQ 1159 2488 1159 1978 \nL 1159 0 \nL 581 0 \nL 581 3500 \nL 1159 3500 \nL 1159 2956 \nQ 1356 3278 1631 3431 \nQ 1906 3584 2284 3584 \nQ 2666 3584 2933 3390 \nQ 3200 3197 3328 2828 \nz\n\" id=\"DejaVuSans-6d\" transform=\"scale(0.015625)\"/>\n      </defs>\n      <use xlink:href=\"#DejaVuSans-43\"/>\n      <use x=\"69.824219\" xlink:href=\"#DejaVuSans-6f\"/>\n      <use x=\"131.005859\" xlink:href=\"#DejaVuSans-6d\"/>\n      <use x=\"228.417969\" xlink:href=\"#DejaVuSans-70\"/>\n      <use x=\"291.894531\" xlink:href=\"#DejaVuSans-61\"/>\n      <use x=\"353.173828\" xlink:href=\"#DejaVuSans-6e\"/>\n      <use x=\"416.552734\" xlink:href=\"#DejaVuSans-79\"/>\n      <use x=\"475.732422\" xlink:href=\"#DejaVuSans-20\"/>\n      <use x=\"507.519531\" xlink:href=\"#DejaVuSans-4d\"/>\n      <use x=\"593.798828\" xlink:href=\"#DejaVuSans-6f\"/>\n      <use x=\"654.980469\" xlink:href=\"#DejaVuSans-6e\"/>\n      <use x=\"718.359375\" xlink:href=\"#DejaVuSans-65\"/>\n      <use x=\"779.882812\" xlink:href=\"#DejaVuSans-79\"/>\n     </g>\n    </g>\n   </g>\n  </g>\n </g>\n <defs>\n  <clipPath id=\"p6ed69d09ac\">\n   <rect height=\"326.16\" width=\"1116\" x=\"57.199375\" y=\"17.798437\"/>\n  </clipPath>\n </defs>\n</svg>\n",
      "image/png": "[encoded data removed]"
     },
     "metadata": {
      "needs_background": "light"
     }
    }
   ],
   "source": [
    "# create figure and axis objects with subplots()\n",
    "fig,ax = plt.subplots()\n",
    "# make a plot\n",
    "ax.plot(pop.index, pop, color=\"red\", label='Population')\n",
    "# set x-axis label\n",
    "ax.set_xlabel(\"year\",fontsize=14)\n",
    "# set y-axis label\n",
    "ax.set_ylabel(\"Population\",color=\"black\",fontsize=14)\n",
    "\n",
    "ax2=ax.twinx()\n",
    "# make a plot with different y-axis using second axis object\n",
    "ax2.plot(years, state_money,color=\"blue\", label='State Money')\n",
    "ax2.plot(years, company_money,color=\"green\", label='Company Money')\n",
    "ax2.set_ylabel(\"Money\",color=\"black\",fontsize=14)\n",
    "ax.legend(loc=0)\n",
    "ax2.legend(loc='lower right')\n",
    "plt.show()"
   ]
  },
  {
   "cell_type": "code",
   "execution_count": 43,
   "metadata": {},
   "outputs": [
    {
     "output_type": "execute_result",
     "data": {
      "text/plain": [
       "<AxesSubplot:>"
      ]
     },
     "metadata": {},
     "execution_count": 43
    },
    {
     "output_type": "display_data",
     "data": {
      "text/plain": "<Figure size 1440x432 with 1 Axes>",
      "image/svg+xml": "<?xml version=\"1.0\" encoding=\"utf-8\" standalone=\"no\"?>\n<!DOCTYPE svg PUBLIC \"-//W3C//DTD SVG 1.1//EN\"\n  \"http://www.w3.org/Graphics/SVG/1.1/DTD/svg11.dtd\">\n<svg height=\"357.238125pt\" version=\"1.1\" viewBox=\"0 0 1175.575 357.238125\" width=\"1175.575pt\" xmlns=\"http://www.w3.org/2000/svg\" xmlns:xlink=\"http://www.w3.org/1999/xlink\">\n <metadata>\n  <rdf:RDF xmlns:cc=\"http://creativecommons.org/ns#\" xmlns:dc=\"http://purl.org/dc/elements/1.1/\" xmlns:rdf=\"http://www.w3.org/1999/02/22-rdf-syntax-ns#\">\n   <cc:Work>\n    <dc:type rdf:resource=\"http://purl.org/dc/dcmitype/StillImage\"/>\n    <dc:date>2021-07-12T16:52:06.532333</dc:date>\n    <dc:format>image/svg+xml</dc:format>\n    <dc:creator>\n     <cc:Agent>\n      <dc:title>Matplotlib v3.4.0, https://matplotlib.org/</dc:title>\n     </cc:Agent>\n    </dc:creator>\n   </cc:Work>\n  </rdf:RDF>\n </metadata>\n <defs>\n  <style type=\"text/css\">*{stroke-linecap:butt;stroke-linejoin:round;}</style>\n </defs>\n <g id=\"figure_1\">\n  <g id=\"patch_1\">\n   <path d=\"M 0 357.238125 \nL 1175.575 357.238125 \nL 1175.575 0 \nL 0 0 \nz\n\" style=\"fill:none;\"/>\n  </g>\n  <g id=\"axes_1\">\n   <g id=\"patch_2\">\n    <path d=\"M 52.375 333.36 \nL 1168.375 333.36 \nL 1168.375 7.2 \nL 52.375 7.2 \nz\n\" style=\"fill:#ffffff;\"/>\n   </g>\n   <g id=\"matplotlib.axis_1\">\n    <g id=\"xtick_1\">\n     <g id=\"line2d_1\">\n      <defs>\n       <path d=\"M 0 0 \nL 0 3.5 \n\" id=\"m50df224e9f\" style=\"stroke:#000000;stroke-width:0.8;\"/>\n      </defs>\n      <g>\n       <use style=\"stroke:#000000;stroke-width:0.8;\" x=\"103.102273\" xlink:href=\"#m50df224e9f\" y=\"333.36\"/>\n      </g>\n     </g>\n     <g id=\"text_1\">\n      <!-- 0 -->\n      <g transform=\"translate(99.921023 347.958438)scale(0.1 -0.1)\">\n       <defs>\n        <path d=\"M 2034 4250 \nQ 1547 4250 1301 3770 \nQ 1056 3291 1056 2328 \nQ 1056 1369 1301 889 \nQ 1547 409 2034 409 \nQ 2525 409 2770 889 \nQ 3016 1369 3016 2328 \nQ 3016 3291 2770 3770 \nQ 2525 4250 2034 4250 \nz\nM 2034 4750 \nQ 2819 4750 3233 4129 \nQ 3647 3509 3647 2328 \nQ 3647 1150 3233 529 \nQ 2819 -91 2034 -91 \nQ 1250 -91 836 529 \nQ 422 1150 422 2328 \nQ 422 3509 836 4129 \nQ 1250 4750 2034 4750 \nz\n\" id=\"DejaVuSans-30\" transform=\"scale(0.015625)\"/>\n       </defs>\n       <use xlink:href=\"#DejaVuSans-30\"/>\n      </g>\n     </g>\n    </g>\n    <g id=\"xtick_2\">\n     <g id=\"line2d_2\">\n      <g>\n       <use style=\"stroke:#000000;stroke-width:0.8;\" x=\"272.334208\" xlink:href=\"#m50df224e9f\" y=\"333.36\"/>\n      </g>\n     </g>\n     <g id=\"text_2\">\n      <!-- 200 -->\n      <g transform=\"translate(262.790458 347.958438)scale(0.1 -0.1)\">\n       <defs>\n        <path d=\"M 1228 531 \nL 3431 531 \nL 3431 0 \nL 469 0 \nL 469 531 \nQ 828 903 1448 1529 \nQ 2069 2156 2228 2338 \nQ 2531 2678 2651 2914 \nQ 2772 3150 2772 3378 \nQ 2772 3750 2511 3984 \nQ 2250 4219 1831 4219 \nQ 1534 4219 1204 4116 \nQ 875 4013 500 3803 \nL 500 4441 \nQ 881 4594 1212 4672 \nQ 1544 4750 1819 4750 \nQ 2544 4750 2975 4387 \nQ 3406 4025 3406 3419 \nQ 3406 3131 3298 2873 \nQ 3191 2616 2906 2266 \nQ 2828 2175 2409 1742 \nQ 1991 1309 1228 531 \nz\n\" id=\"DejaVuSans-32\" transform=\"scale(0.015625)\"/>\n       </defs>\n       <use xlink:href=\"#DejaVuSans-32\"/>\n       <use x=\"63.623047\" xlink:href=\"#DejaVuSans-30\"/>\n       <use x=\"127.246094\" xlink:href=\"#DejaVuSans-30\"/>\n      </g>\n     </g>\n    </g>\n    <g id=\"xtick_3\">\n     <g id=\"line2d_3\">\n      <g>\n       <use style=\"stroke:#000000;stroke-width:0.8;\" x=\"441.566144\" xlink:href=\"#m50df224e9f\" y=\"333.36\"/>\n      </g>\n     </g>\n     <g id=\"text_3\">\n      <!-- 400 -->\n      <g transform=\"translate(432.022394 347.958438)scale(0.1 -0.1)\">\n       <defs>\n        <path d=\"M 2419 4116 \nL 825 1625 \nL 2419 1625 \nL 2419 4116 \nz\nM 2253 4666 \nL 3047 4666 \nL 3047 1625 \nL 3713 1625 \nL 3713 1100 \nL 3047 1100 \nL 3047 0 \nL 2419 0 \nL 2419 1100 \nL 313 1100 \nL 313 1709 \nL 2253 4666 \nz\n\" id=\"DejaVuSans-34\" transform=\"scale(0.015625)\"/>\n       </defs>\n       <use xlink:href=\"#DejaVuSans-34\"/>\n       <use x=\"63.623047\" xlink:href=\"#DejaVuSans-30\"/>\n       <use x=\"127.246094\" xlink:href=\"#DejaVuSans-30\"/>\n      </g>\n     </g>\n    </g>\n    <g id=\"xtick_4\">\n     <g id=\"line2d_4\">\n      <g>\n       <use style=\"stroke:#000000;stroke-width:0.8;\" x=\"610.79808\" xlink:href=\"#m50df224e9f\" y=\"333.36\"/>\n      </g>\n     </g>\n     <g id=\"text_4\">\n      <!-- 600 -->\n      <g transform=\"translate(601.25433 347.958438)scale(0.1 -0.1)\">\n       <defs>\n        <path d=\"M 2113 2584 \nQ 1688 2584 1439 2293 \nQ 1191 2003 1191 1497 \nQ 1191 994 1439 701 \nQ 1688 409 2113 409 \nQ 2538 409 2786 701 \nQ 3034 994 3034 1497 \nQ 3034 2003 2786 2293 \nQ 2538 2584 2113 2584 \nz\nM 3366 4563 \nL 3366 3988 \nQ 3128 4100 2886 4159 \nQ 2644 4219 2406 4219 \nQ 1781 4219 1451 3797 \nQ 1122 3375 1075 2522 \nQ 1259 2794 1537 2939 \nQ 1816 3084 2150 3084 \nQ 2853 3084 3261 2657 \nQ 3669 2231 3669 1497 \nQ 3669 778 3244 343 \nQ 2819 -91 2113 -91 \nQ 1303 -91 875 529 \nQ 447 1150 447 2328 \nQ 447 3434 972 4092 \nQ 1497 4750 2381 4750 \nQ 2619 4750 2861 4703 \nQ 3103 4656 3366 4563 \nz\n\" id=\"DejaVuSans-36\" transform=\"scale(0.015625)\"/>\n       </defs>\n       <use xlink:href=\"#DejaVuSans-36\"/>\n       <use x=\"63.623047\" xlink:href=\"#DejaVuSans-30\"/>\n       <use x=\"127.246094\" xlink:href=\"#DejaVuSans-30\"/>\n      </g>\n     </g>\n    </g>\n    <g id=\"xtick_5\">\n     <g id=\"line2d_5\">\n      <g>\n       <use style=\"stroke:#000000;stroke-width:0.8;\" x=\"780.030016\" xlink:href=\"#m50df224e9f\" y=\"333.36\"/>\n      </g>\n     </g>\n     <g id=\"text_5\">\n      <!-- 800 -->\n      <g transform=\"translate(770.486266 347.958438)scale(0.1 -0.1)\">\n       <defs>\n        <path d=\"M 2034 2216 \nQ 1584 2216 1326 1975 \nQ 1069 1734 1069 1313 \nQ 1069 891 1326 650 \nQ 1584 409 2034 409 \nQ 2484 409 2743 651 \nQ 3003 894 3003 1313 \nQ 3003 1734 2745 1975 \nQ 2488 2216 2034 2216 \nz\nM 1403 2484 \nQ 997 2584 770 2862 \nQ 544 3141 544 3541 \nQ 544 4100 942 4425 \nQ 1341 4750 2034 4750 \nQ 2731 4750 3128 4425 \nQ 3525 4100 3525 3541 \nQ 3525 3141 3298 2862 \nQ 3072 2584 2669 2484 \nQ 3125 2378 3379 2068 \nQ 3634 1759 3634 1313 \nQ 3634 634 3220 271 \nQ 2806 -91 2034 -91 \nQ 1263 -91 848 271 \nQ 434 634 434 1313 \nQ 434 1759 690 2068 \nQ 947 2378 1403 2484 \nz\nM 1172 3481 \nQ 1172 3119 1398 2916 \nQ 1625 2713 2034 2713 \nQ 2441 2713 2670 2916 \nQ 2900 3119 2900 3481 \nQ 2900 3844 2670 4047 \nQ 2441 4250 2034 4250 \nQ 1625 4250 1398 4047 \nQ 1172 3844 1172 3481 \nz\n\" id=\"DejaVuSans-38\" transform=\"scale(0.015625)\"/>\n       </defs>\n       <use xlink:href=\"#DejaVuSans-38\"/>\n       <use x=\"63.623047\" xlink:href=\"#DejaVuSans-30\"/>\n       <use x=\"127.246094\" xlink:href=\"#DejaVuSans-30\"/>\n      </g>\n     </g>\n    </g>\n    <g id=\"xtick_6\">\n     <g id=\"line2d_6\">\n      <g>\n       <use style=\"stroke:#000000;stroke-width:0.8;\" x=\"949.261951\" xlink:href=\"#m50df224e9f\" y=\"333.36\"/>\n      </g>\n     </g>\n     <g id=\"text_6\">\n      <!-- 1000 -->\n      <g transform=\"translate(936.536951 347.958438)scale(0.1 -0.1)\">\n       <defs>\n        <path d=\"M 794 531 \nL 1825 531 \nL 1825 4091 \nL 703 3866 \nL 703 4441 \nL 1819 4666 \nL 2450 4666 \nL 2450 531 \nL 3481 531 \nL 3481 0 \nL 794 0 \nL 794 531 \nz\n\" id=\"DejaVuSans-31\" transform=\"scale(0.015625)\"/>\n       </defs>\n       <use xlink:href=\"#DejaVuSans-31\"/>\n       <use x=\"63.623047\" xlink:href=\"#DejaVuSans-30\"/>\n       <use x=\"127.246094\" xlink:href=\"#DejaVuSans-30\"/>\n       <use x=\"190.869141\" xlink:href=\"#DejaVuSans-30\"/>\n      </g>\n     </g>\n    </g>\n    <g id=\"xtick_7\">\n     <g id=\"line2d_7\">\n      <g>\n       <use style=\"stroke:#000000;stroke-width:0.8;\" x=\"1118.493887\" xlink:href=\"#m50df224e9f\" y=\"333.36\"/>\n      </g>\n     </g>\n     <g id=\"text_7\">\n      <!-- 1200 -->\n      <g transform=\"translate(1105.768887 347.958438)scale(0.1 -0.1)\">\n       <use xlink:href=\"#DejaVuSans-31\"/>\n       <use x=\"63.623047\" xlink:href=\"#DejaVuSans-32\"/>\n       <use x=\"127.246094\" xlink:href=\"#DejaVuSans-30\"/>\n       <use x=\"190.869141\" xlink:href=\"#DejaVuSans-30\"/>\n      </g>\n     </g>\n    </g>\n   </g>\n   <g id=\"matplotlib.axis_2\">\n    <g id=\"ytick_1\">\n     <g id=\"line2d_8\">\n      <defs>\n       <path d=\"M 0 0 \nL -3.5 0 \n\" id=\"m4ac490ffc5\" style=\"stroke:#000000;stroke-width:0.8;\"/>\n      </defs>\n      <g>\n       <use style=\"stroke:#000000;stroke-width:0.8;\" x=\"52.375\" xlink:href=\"#m4ac490ffc5\" y=\"318.534545\"/>\n      </g>\n     </g>\n     <g id=\"text_8\">\n      <!-- 0 -->\n      <g transform=\"translate(39.0125 322.333764)scale(0.1 -0.1)\">\n       <use xlink:href=\"#DejaVuSans-30\"/>\n      </g>\n     </g>\n    </g>\n    <g id=\"ytick_2\">\n     <g id=\"line2d_9\">\n      <g>\n       <use style=\"stroke:#000000;stroke-width:0.8;\" x=\"52.375\" xlink:href=\"#m4ac490ffc5\" y=\"249.988307\"/>\n      </g>\n     </g>\n     <g id=\"text_9\">\n      <!-- 50000 -->\n      <g transform=\"translate(13.5625 253.787526)scale(0.1 -0.1)\">\n       <defs>\n        <path d=\"M 691 4666 \nL 3169 4666 \nL 3169 4134 \nL 1269 4134 \nL 1269 2991 \nQ 1406 3038 1543 3061 \nQ 1681 3084 1819 3084 \nQ 2600 3084 3056 2656 \nQ 3513 2228 3513 1497 \nQ 3513 744 3044 326 \nQ 2575 -91 1722 -91 \nQ 1428 -91 1123 -41 \nQ 819 9 494 109 \nL 494 744 \nQ 775 591 1075 516 \nQ 1375 441 1709 441 \nQ 2250 441 2565 725 \nQ 2881 1009 2881 1497 \nQ 2881 1984 2565 2268 \nQ 2250 2553 1709 2553 \nQ 1456 2553 1204 2497 \nQ 953 2441 691 2322 \nL 691 4666 \nz\n\" id=\"DejaVuSans-35\" transform=\"scale(0.015625)\"/>\n       </defs>\n       <use xlink:href=\"#DejaVuSans-35\"/>\n       <use x=\"63.623047\" xlink:href=\"#DejaVuSans-30\"/>\n       <use x=\"127.246094\" xlink:href=\"#DejaVuSans-30\"/>\n       <use x=\"190.869141\" xlink:href=\"#DejaVuSans-30\"/>\n       <use x=\"254.492188\" xlink:href=\"#DejaVuSans-30\"/>\n      </g>\n     </g>\n    </g>\n    <g id=\"ytick_3\">\n     <g id=\"line2d_10\">\n      <g>\n       <use style=\"stroke:#000000;stroke-width:0.8;\" x=\"52.375\" xlink:href=\"#m4ac490ffc5\" y=\"181.442069\"/>\n      </g>\n     </g>\n     <g id=\"text_10\">\n      <!-- 100000 -->\n      <g transform=\"translate(7.2 185.241288)scale(0.1 -0.1)\">\n       <use xlink:href=\"#DejaVuSans-31\"/>\n       <use x=\"63.623047\" xlink:href=\"#DejaVuSans-30\"/>\n       <use x=\"127.246094\" xlink:href=\"#DejaVuSans-30\"/>\n       <use x=\"190.869141\" xlink:href=\"#DejaVuSans-30\"/>\n       <use x=\"254.492188\" xlink:href=\"#DejaVuSans-30\"/>\n       <use x=\"318.115234\" xlink:href=\"#DejaVuSans-30\"/>\n      </g>\n     </g>\n    </g>\n    <g id=\"ytick_4\">\n     <g id=\"line2d_11\">\n      <g>\n       <use style=\"stroke:#000000;stroke-width:0.8;\" x=\"52.375\" xlink:href=\"#m4ac490ffc5\" y=\"112.895831\"/>\n      </g>\n     </g>\n     <g id=\"text_11\">\n      <!-- 150000 -->\n      <g transform=\"translate(7.2 116.69505)scale(0.1 -0.1)\">\n       <use xlink:href=\"#DejaVuSans-31\"/>\n       <use x=\"63.623047\" xlink:href=\"#DejaVuSans-35\"/>\n       <use x=\"127.246094\" xlink:href=\"#DejaVuSans-30\"/>\n       <use x=\"190.869141\" xlink:href=\"#DejaVuSans-30\"/>\n       <use x=\"254.492188\" xlink:href=\"#DejaVuSans-30\"/>\n       <use x=\"318.115234\" xlink:href=\"#DejaVuSans-30\"/>\n      </g>\n     </g>\n    </g>\n    <g id=\"ytick_5\">\n     <g id=\"line2d_12\">\n      <g>\n       <use style=\"stroke:#000000;stroke-width:0.8;\" x=\"52.375\" xlink:href=\"#m4ac490ffc5\" y=\"44.349593\"/>\n      </g>\n     </g>\n     <g id=\"text_12\">\n      <!-- 200000 -->\n      <g transform=\"translate(7.2 48.148812)scale(0.1 -0.1)\">\n       <use xlink:href=\"#DejaVuSans-32\"/>\n       <use x=\"63.623047\" xlink:href=\"#DejaVuSans-30\"/>\n       <use x=\"127.246094\" xlink:href=\"#DejaVuSans-30\"/>\n       <use x=\"190.869141\" xlink:href=\"#DejaVuSans-30\"/>\n       <use x=\"254.492188\" xlink:href=\"#DejaVuSans-30\"/>\n       <use x=\"318.115234\" xlink:href=\"#DejaVuSans-30\"/>\n      </g>\n     </g>\n    </g>\n   </g>\n   <g id=\"line2d_13\">\n    <path clip-path=\"url(#peb5d1b3d98)\" d=\"M 103.102273 318.534545 \nL 108.179231 318.426242 \nL 117.486987 318.322052 \nL 124.256265 318.167138 \nL 132.717861 317.606429 \nL 149.641055 316.206715 \nL 154.718013 315.534962 \nL 161.487291 314.498543 \nL 169.102728 313.340112 \nL 174.179686 312.487396 \nL 179.256644 311.408479 \nL 185.179762 309.775707 \nL 189.41056 308.455507 \nL 200.410636 304.758123 \nL 204.641434 303.177446 \nL 207.179913 302.112238 \nL 211.410712 300.0394 \nL 216.48767 297.294808 \nL 221.564628 294.240388 \nL 229.180065 289.348928 \nL 235.103183 285.119625 \nL 238.487821 282.494304 \nL 243.564779 278.24718 \nL 247.795578 274.483991 \nL 251.180216 271.299333 \nL 255.411015 267.057692 \nL 258.795654 263.33426 \nL 262.180292 259.39148 \nL 268.10341 251.998083 \nL 273.180368 245.210635 \nL 275.718847 241.638005 \nL 277.411167 243.568267 \nL 278.257326 242.338547 \nL 279.949646 244.364774 \nL 280.795805 243.062396 \nL 283.334284 246.293665 \nL 284.180444 244.874758 \nL 286.718923 248.281506 \nL 287.565083 246.773489 \nL 290.103562 250.40781 \nL 290.949721 248.831247 \nL 294.33436 253.984553 \nL 295.18052 252.247591 \nL 297.718999 256.39601 \nL 298.565158 254.554858 \nL 302.795957 262.012689 \nL 303.642117 260.002913 \nL 307.026755 266.469565 \nL 307.872915 264.299391 \nL 311.257554 271.230787 \nL 312.103713 273.037665 \nL 312.949873 270.718061 \nL 316.334512 278.29242 \nL 318.026831 282.224232 \nL 318.872991 279.634555 \nL 323.103789 290.156403 \nL 323.949949 292.337544 \nL 324.796108 289.436667 \nL 329.026907 301.038804 \nL 331.565386 308.358171 \nL 332.411546 305.002147 \nL 336.642344 318.038271 \nL 337.488504 318.534545 \nL 340.026983 318.534545 \nL 340.873142 312.724566 \nL 344.257781 315.755681 \nL 347.64242 318.534545 \nL 348.488579 318.534545 \nL 349.334739 312.496993 \nL 356.104017 318.386486 \nL 356.950176 318.534545 \nL 357.796336 312.420221 \nL 364.565613 318.476967 \nL 365.411773 318.534545 \nL 366.257933 312.119988 \nL 371.334891 316.879839 \nL 373.02721 318.534545 \nL 374.71953 318.534545 \nL 375.565689 311.910237 \nL 379.796488 316.312276 \nL 381.488807 318.163025 \nL 382.334967 318.534545 \nL 384.027286 318.534545 \nL 384.873446 311.453719 \nL 394.181202 318.387857 \nL 395.027362 311.132923 \nL 399.25816 314.190085 \nL 404.335118 317.632477 \nL 405.181278 310.158195 \nL 410.258236 313.93098 \nL 414.489034 317.270553 \nL 415.335194 309.607083 \nL 419.565992 313.175601 \nL 424.642951 317.777795 \nL 425.48911 309.911429 \nL 428.873749 313.109796 \nL 432.258388 316.531624 \nL 433.950707 318.315197 \nL 434.796867 318.534545 \nL 435.643026 318.534545 \nL 436.489186 310.437864 \nL 442.412304 317.32539 \nL 443.258463 318.360438 \nL 444.104623 318.534545 \nL 447.489262 318.534545 \nL 448.335422 309.276691 \nL 454.258539 310.229483 \nL 459.335497 311.019136 \nL 460.181657 301.692735 \nL 471.181733 303.298088 \nL 472.027893 293.940155 \nL 483.027968 295.426238 \nL 483.874128 286.012097 \nL 494.874204 287.455681 \nL 495.720364 278.007268 \nL 506.720439 279.500205 \nL 507.566599 269.996954 \nL 518.566675 271.446022 \nL 519.412835 261.922207 \nL 530.41291 263.460385 \nL 531.25907 253.903669 \nL 538.874507 255.232095 \nL 542.259146 255.880542 \nL 543.105306 246.292294 \nL 552.413062 248.310296 \nL 554.951541 248.918986 \nL 555.797701 239.248483 \nL 560.028499 240.401431 \nL 565.105457 241.988961 \nL 566.797777 242.572975 \nL 567.643936 232.877795 \nL 571.874735 234.498229 \nL 579.490172 237.680145 \nL 580.336331 227.851985 \nL 586.259449 230.614399 \nL 592.182567 233.523501 \nL 593.028727 223.570587 \nL 598.951844 226.742907 \nL 605.721122 230.677461 \nL 606.567281 220.566891 \nL 616.721198 226.727827 \nL 618.413517 227.798519 \nL 619.259677 217.49602 \nL 632.798231 226.267196 \nL 633.644391 215.786477 \nL 639.567509 219.86909 \nL 643.798307 222.993428 \nL 646.336786 224.934657 \nL 647.182946 214.194833 \nL 653.106064 218.984844 \nL 657.336862 222.678115 \nL 660.721501 225.88745 \nL 661.567661 214.90223 \nL 664.952299 218.31172 \nL 670.029257 223.858481 \nL 674.260056 228.882921 \nL 675.952375 230.976323 \nL 676.798535 219.681274 \nL 680.183173 224.062749 \nL 683.567812 228.722523 \nL 686.952451 233.742849 \nL 691.183249 240.463122 \nL 692.875569 243.257067 \nL 693.721728 231.465743 \nL 699.644846 241.984849 \nL 703.029485 248.39118 \nL 706.414124 255.167661 \nL 710.644922 264.141735 \nL 711.491082 251.686883 \nL 716.56804 263.332889 \nL 720.798838 273.612083 \nL 724.183477 282.416162 \nL 727.568115 291.719257 \nL 730.106595 299.057817 \nL 730.952754 285.614529 \nL 734.337393 296.107587 \nL 738.568191 309.997797 \nL 741.10667 318.534545 \nL 751.260586 318.534545 \nL 752.106746 301.086786 \nL 773.260738 301.155332 \nL 774.106898 283.707573 \nL 794.41473 283.76241 \nL 795.26089 266.313279 \nL 816.414882 266.332472 \nL 817.261041 248.881971 \nL 837.568874 248.881971 \nL 838.415033 231.43147 \nL 859.569025 231.43147 \nL 860.415185 213.980969 \nL 880.723017 213.980969 \nL 881.569177 196.530467 \nL 902.723169 196.530467 \nL 903.569329 179.079966 \nL 923.877161 179.079966 \nL 924.723321 161.629465 \nL 945.877313 161.629465 \nL 946.723472 144.178963 \nL 967.031304 144.178963 \nL 967.877464 126.728462 \nL 989.031456 126.728462 \nL 989.877616 109.277961 \nL 1010.185448 109.277961 \nL 1011.031608 91.82746 \nL 1031.33944 91.82746 \nL 1032.1856 74.376958 \nL 1053.339592 74.376958 \nL 1054.185751 56.926457 \nL 1074.493584 56.926457 \nL 1075.339743 39.475956 \nL 1096.493735 39.475956 \nL 1097.339895 22.025455 \nL 1117.647727 22.025455 \nL 1117.647727 22.025455 \n\" style=\"fill:none;stroke:#1f77b4;stroke-linecap:square;stroke-width:1.5;\"/>\n   </g>\n   <g id=\"patch_3\">\n    <path d=\"M 52.375 333.36 \nL 52.375 7.2 \n\" style=\"fill:none;stroke:#000000;stroke-linecap:square;stroke-linejoin:miter;stroke-width:0.8;\"/>\n   </g>\n   <g id=\"patch_4\">\n    <path d=\"M 1168.375 333.36 \nL 1168.375 7.2 \n\" style=\"fill:none;stroke:#000000;stroke-linecap:square;stroke-linejoin:miter;stroke-width:0.8;\"/>\n   </g>\n   <g id=\"patch_5\">\n    <path d=\"M 52.375 333.36 \nL 1168.375 333.36 \n\" style=\"fill:none;stroke:#000000;stroke-linecap:square;stroke-linejoin:miter;stroke-width:0.8;\"/>\n   </g>\n   <g id=\"patch_6\">\n    <path d=\"M 52.375 7.2 \nL 1168.375 7.2 \n\" style=\"fill:none;stroke:#000000;stroke-linecap:square;stroke-linejoin:miter;stroke-width:0.8;\"/>\n   </g>\n  </g>\n </g>\n <defs>\n  <clipPath id=\"peb5d1b3d98\">\n   <rect height=\"326.16\" width=\"1116\" x=\"52.375\" y=\"7.2\"/>\n  </clipPath>\n </defs>\n</svg>\n",
      "image/png": "[encoded data removed]"
     },
     "metadata": {
      "needs_background": "light"
     }
    }
   ],
   "source": [
    "company.goods.plot()"
   ]
  },
  {
   "cell_type": "code",
   "execution_count": 44,
   "metadata": {},
   "outputs": [
    {
     "output_type": "execute_result",
     "data": {
      "text/plain": [
       "12353"
      ]
     },
     "metadata": {},
     "execution_count": 44
    }
   ],
   "source": [
    "world.resources.available_resources"
   ]
  },
  {
   "cell_type": "code",
   "execution_count": 36,
   "metadata": {},
   "outputs": [
    {
     "data": {
      "image/png": "[encoded data removed]",
      "text/plain": [
       "<Figure size 432x288 with 1 Axes>"
      ]
     },
     "metadata": {
      "needs_background": "light"
     },
     "output_type": "display_data"
    }
   ],
   "source": [
    "pop = data.groupby('Year').count().age#.plot()\n",
    "money = state.money\n",
    "years = state.Year\n",
    "plt.figure()\n",
    "plt.plot(years, pop)\n",
    "plt.plot(years, money)\n",
    "plt.show()"
   ]
  },
  {
   "cell_type": "code",
   "execution_count": 17,
   "metadata": {},
   "outputs": [],
   "source": [
    "# population when dead\n",
    "last_year_alive = data[['id', 'age']].groupby('id').max()#.plot.hist()"
   ]
  },
  {
   "cell_type": "code",
   "execution_count": 18,
   "metadata": {},
   "outputs": [
    {
     "data": {
      "text/plain": [
       "32.90625"
      ]
     },
     "execution_count": 18,
     "metadata": {},
     "output_type": "execute_result"
    }
   ],
   "source": [
    "last_year_alive.age.mean()"
   ]
  },
  {
   "cell_type": "code",
   "execution_count": 19,
   "metadata": {},
   "outputs": [
    {
     "data": {
      "text/plain": [
       "46.0"
      ]
     },
     "execution_count": 19,
     "metadata": {},
     "output_type": "execute_result"
    }
   ],
   "source": [
    "last_year_alive.age.median()"
   ]
  },
  {
   "cell_type": "code",
   "execution_count": 20,
   "metadata": {},
   "outputs": [
    {
     "data": {
      "text/plain": [
       "<AxesSubplot:xlabel='Year'>"
      ]
     },
     "execution_count": 20,
     "metadata": {},
     "output_type": "execute_result"
    },
    {
     "data": {
      "image/png": "[encoded data removed]",
      "text/plain": [
       "<Figure size 432x288 with 1 Axes>"
      ]
     },
     "metadata": {
      "needs_background": "light"
     },
     "output_type": "display_data"
    }
   ],
   "source": [
    "data.groupby('Year').count().age.plot()"
   ]
  },
  {
   "cell_type": "code",
   "execution_count": 60,
   "metadata": {},
   "outputs": [
    {
     "data": {
      "text/plain": [
       "id          a57967ee-94a4-4a71-920a-9ba446ec0c18\n",
       "age                                           44\n",
       "money                                        inf\n",
       "children                                       0\n",
       "Year                                           8\n",
       "Name: 224, dtype: object"
      ]
     },
     "execution_count": 60,
     "metadata": {},
     "output_type": "execute_result"
    }
   ],
   "source": [
    "data.iloc[data.money.idxmax()]#['age']"
   ]
  },
  {
   "cell_type": "code",
   "execution_count": 14,
   "metadata": {},
   "outputs": [
    {
     "data": {
      "text/plain": [
       "<AxesSubplot:>"
      ]
     },
     "execution_count": 14,
     "metadata": {},
     "output_type": "execute_result"
    },
    {
     "data": {
      "image/png": "[encoded data removed]",
      "text/plain": [
       "<Figure size 432x288 with 1 Axes>"
      ]
     },
     "metadata": {
      "needs_background": "light"
     },
     "output_type": "display_data"
    }
   ],
   "source": [
    "data[data.id == data.iloc[data.money.idxmax()].id].money.plot()"
   ]
  },
  {
   "cell_type": "code",
   "execution_count": 16,
   "metadata": {},
   "outputs": [
    {
     "name": "stdout",
     "output_type": "stream",
     "text": [
      "{'STUDY': True, 'BABY': False, 'P_DEATH': False, 'INVEST': True, 'S_MONEY': 0.05}\n",
      "0.19987450551616515\n"
     ]
    }
   ],
   "source": [
    "for person in world.population:\n",
    "    if person.id == data.iloc[data.money.idxmax()].id:\n",
    "        print(person.DNA)\n",
    "        print(person.percentage_money_invest)\n",
    "for person in world.dead_population:\n",
    "    if person.id == data.iloc[data.money.idxmax()].id:\n",
    "        print(person.DNA)\n",
    "        print(person.percentage_money_invest)"
   ]
  },
  {
   "cell_type": "code",
   "execution_count": 7,
   "metadata": {},
   "outputs": [],
   "source": [
    "\n",
    "def gini(array):\n",
    "    \"\"\"Calculate the Gini coefficient of a numpy array.\"\"\"\n",
    "    # based on bottom eq:\n",
    "    # http://www.statsdirect.com/help/generatedimages/equations/equation154.svg\n",
    "    # from:\n",
    "    # http://www.statsdirect.com/help/default.htm#nonparametric_methods/gini.htm\n",
    "    # All values are treated equally, arrays must be 1d:\n",
    "    array = array.flatten()\n",
    "    if np.amin(array) < 0:\n",
    "        # Values cannot be negative:\n",
    "        array -= np.amin(array)\n",
    "    # Values cannot be 0:\n",
    "    array += 0.0000001\n",
    "    # Values must be sorted:\n",
    "    array = np.sort(array)\n",
    "    # Index per array element:\n",
    "    index = np.arange(1,array.shape[0]+1)\n",
    "    # Number of array elements:\n",
    "    n = array.shape[0]\n",
    "    # Gini coefficient:\n",
    "    return ((np.sum((2 * index - n  - 1) * array)) / (n * np.sum(array)))"
   ]
  },
  {
   "cell_type": "code",
   "execution_count": 18,
   "metadata": {},
   "outputs": [],
   "source": [
    "last_year = data[data.Year == 499].copy()"
   ]
  },
  {
   "cell_type": "code",
   "execution_count": 19,
   "metadata": {},
   "outputs": [
    {
     "data": {
      "text/plain": [
       "0.6796892644519581"
      ]
     },
     "execution_count": 19,
     "metadata": {},
     "output_type": "execute_result"
    }
   ],
   "source": [
    "last_year = data[data.Year == 499].copy()\n",
    "gini(last_year.money.values)"
   ]
  },
  {
   "cell_type": "code",
   "execution_count": 20,
   "metadata": {},
   "outputs": [
    {
     "data": {
      "text/plain": [
       "<AxesSubplot:ylabel='Frequency'>"
      ]
     },
     "execution_count": 20,
     "metadata": {},
     "output_type": "execute_result"
    },
    {
     "data": {
      "image/png": "[encoded data removed]",
      "text/plain": [
       "<Figure size 432x288 with 1 Axes>"
      ]
     },
     "metadata": {
      "needs_background": "light"
     },
     "output_type": "display_data"
    }
   ],
   "source": [
    "money = last_year.sort_values(by='money').money#\n",
    "money.plot.hist()"
   ]
  },
  {
   "cell_type": "code",
   "execution_count": 21,
   "metadata": {},
   "outputs": [
    {
     "data": {
      "text/plain": [
       "109605    0.006257\n",
       "109635    0.005865\n",
       "109533    0.005854\n",
       "109522    0.005782\n",
       "109530    0.005767\n",
       "            ...   \n",
       "110408    0.000000\n",
       "110409    0.000000\n",
       "110410    0.000000\n",
       "110411    0.000000\n",
       "110413    0.000000\n",
       "Name: money, Length: 899, dtype: float64"
      ]
     },
     "execution_count": 21,
     "metadata": {},
     "output_type": "execute_result"
    }
   ],
   "source": [
    "percentage_total_money = money /(money.sum())\n",
    "percentage_total_money = percentage_total_money[::-1]#[:100]\n",
    "percentage_total_money"
   ]
  },
  {
   "cell_type": "code",
   "execution_count": 25,
   "metadata": {},
   "outputs": [
    {
     "data": {
      "text/plain": [
       "8"
      ]
     },
     "execution_count": 25,
     "metadata": {},
     "output_type": "execute_result"
    }
   ],
   "source": [
    "ten_percente_population = int(len(money)*0.01)\n",
    "money_10_percente = percentage_total_money[:ten_percente_population]\n",
    "ten_percente_population"
   ]
  },
  {
   "cell_type": "code",
   "execution_count": 26,
   "metadata": {},
   "outputs": [],
   "source": [
    "rich_person_index = money_10_percente.index"
   ]
  },
  {
   "cell_type": "code",
   "execution_count": 28,
   "metadata": {},
   "outputs": [
    {
     "data": {
      "text/html": [
       "<div>\n",
       "<style scoped>\n",
       "    .dataframe tbody tr th:only-of-type {\n",
       "        vertical-align: middle;\n",
       "    }\n",
       "\n",
       "    .dataframe tbody tr th {\n",
       "        vertical-align: top;\n",
       "    }\n",
       "\n",
       "    .dataframe thead th {\n",
       "        text-align: right;\n",
       "    }\n",
       "</style>\n",
       "<table border=\"1\" class=\"dataframe\">\n",
       "  <thead>\n",
       "    <tr style=\"text-align: right;\">\n",
       "      <th></th>\n",
       "      <th>id</th>\n",
       "      <th>age</th>\n",
       "      <th>money</th>\n",
       "      <th>children</th>\n",
       "      <th>Year</th>\n",
       "    </tr>\n",
       "  </thead>\n",
       "  <tbody>\n",
       "    <tr>\n",
       "      <th>109605</th>\n",
       "      <td>932e1e2d-fabe-4bdb-a2d4-3fb586fcdcb1</td>\n",
       "      <td>69</td>\n",
       "      <td>534731.779969</td>\n",
       "      <td>0</td>\n",
       "      <td>499</td>\n",
       "    </tr>\n",
       "    <tr>\n",
       "      <th>109635</th>\n",
       "      <td>db4010ba-7295-4252-9d10-1bc3c9e1215e</td>\n",
       "      <td>66</td>\n",
       "      <td>501239.752137</td>\n",
       "      <td>1</td>\n",
       "      <td>499</td>\n",
       "    </tr>\n",
       "    <tr>\n",
       "      <th>109533</th>\n",
       "      <td>ce516d99-653d-4de0-9dac-1da226d52ad1</td>\n",
       "      <td>86</td>\n",
       "      <td>500315.034381</td>\n",
       "      <td>0</td>\n",
       "      <td>499</td>\n",
       "    </tr>\n",
       "    <tr>\n",
       "      <th>109522</th>\n",
       "      <td>a5a5f8b0-9f66-43ac-8aeb-e3d25f27c192</td>\n",
       "      <td>90</td>\n",
       "      <td>494102.951872</td>\n",
       "      <td>2</td>\n",
       "      <td>499</td>\n",
       "    </tr>\n",
       "    <tr>\n",
       "      <th>109530</th>\n",
       "      <td>b522f51f-8e40-4b27-9fff-f017425e4747</td>\n",
       "      <td>89</td>\n",
       "      <td>492847.370754</td>\n",
       "      <td>0</td>\n",
       "      <td>499</td>\n",
       "    </tr>\n",
       "    <tr>\n",
       "      <th>109523</th>\n",
       "      <td>d87d9467-dbc8-4f48-80d1-f576eb0ed8fb</td>\n",
       "      <td>89</td>\n",
       "      <td>491042.480130</td>\n",
       "      <td>0</td>\n",
       "      <td>499</td>\n",
       "    </tr>\n",
       "    <tr>\n",
       "      <th>109567</th>\n",
       "      <td>1452a117-2266-44e2-8fad-c9a9b8bdc971</td>\n",
       "      <td>78</td>\n",
       "      <td>489246.045689</td>\n",
       "      <td>0</td>\n",
       "      <td>499</td>\n",
       "    </tr>\n",
       "    <tr>\n",
       "      <th>109582</th>\n",
       "      <td>28333538-ef4a-4e98-b63d-f3f6d6c6659d</td>\n",
       "      <td>74</td>\n",
       "      <td>478461.391620</td>\n",
       "      <td>0</td>\n",
       "      <td>499</td>\n",
       "    </tr>\n",
       "  </tbody>\n",
       "</table>\n",
       "</div>"
      ],
      "text/plain": [
       "                                          id  age          money  children  \\\n",
       "109605  932e1e2d-fabe-4bdb-a2d4-3fb586fcdcb1   69  534731.779969         0   \n",
       "109635  db4010ba-7295-4252-9d10-1bc3c9e1215e   66  501239.752137         1   \n",
       "109533  ce516d99-653d-4de0-9dac-1da226d52ad1   86  500315.034381         0   \n",
       "109522  a5a5f8b0-9f66-43ac-8aeb-e3d25f27c192   90  494102.951872         2   \n",
       "109530  b522f51f-8e40-4b27-9fff-f017425e4747   89  492847.370754         0   \n",
       "109523  d87d9467-dbc8-4f48-80d1-f576eb0ed8fb   89  491042.480130         0   \n",
       "109567  1452a117-2266-44e2-8fad-c9a9b8bdc971   78  489246.045689         0   \n",
       "109582  28333538-ef4a-4e98-b63d-f3f6d6c6659d   74  478461.391620         0   \n",
       "\n",
       "        Year  \n",
       "109605   499  \n",
       "109635   499  \n",
       "109533   499  \n",
       "109522   499  \n",
       "109530   499  \n",
       "109523   499  \n",
       "109567   499  \n",
       "109582   499  "
      ]
     },
     "execution_count": 28,
     "metadata": {},
     "output_type": "execute_result"
    }
   ],
   "source": [
    "rich_people = data.iloc[rich_person_index]\n",
    "rich_people"
   ]
  },
  {
   "cell_type": "code",
   "execution_count": 30,
   "metadata": {},
   "outputs": [
    {
     "data": {
      "text/plain": [
       "['932e1e2d-fabe-4bdb-a2d4-3fb586fcdcb1',\n",
       " 'db4010ba-7295-4252-9d10-1bc3c9e1215e',\n",
       " 'ce516d99-653d-4de0-9dac-1da226d52ad1',\n",
       " 'a5a5f8b0-9f66-43ac-8aeb-e3d25f27c192',\n",
       " 'b522f51f-8e40-4b27-9fff-f017425e4747',\n",
       " 'd87d9467-dbc8-4f48-80d1-f576eb0ed8fb',\n",
       " '1452a117-2266-44e2-8fad-c9a9b8bdc971',\n",
       " '28333538-ef4a-4e98-b63d-f3f6d6c6659d']"
      ]
     },
     "execution_count": 30,
     "metadata": {},
     "output_type": "execute_result"
    }
   ],
   "source": [
    "ids_rich = rich_people.sort_values(by='money', ascending= False).id.to_list()\n",
    "ids_rich"
   ]
  },
  {
   "cell_type": "code",
   "execution_count": 31,
   "metadata": {},
   "outputs": [
    {
     "name": "stdout",
     "output_type": "stream",
     "text": [
      "{'STUDY': True, 'BABY': True, 'P_DEATH': False, 'INVEST': True, 'S_MONEY': 0.05}\n",
      "0.2\n",
      "{'STUDY': False, 'BABY': False, 'P_DEATH': False, 'INVEST': True, 'S_MONEY': 0.05}\n",
      "0.16\n",
      "{'STUDY': False, 'BABY': False, 'P_DEATH': False, 'INVEST': True, 'S_MONEY': 0.05}\n",
      "0.16\n",
      "{'STUDY': False, 'BABY': True, 'P_DEATH': False, 'INVEST': True, 'S_MONEY': 0.05}\n",
      "0.17\n",
      "{'STUDY': True, 'BABY': False, 'P_DEATH': False, 'INVEST': True, 'S_MONEY': 0.05}\n",
      "0.09\n",
      "{'STUDY': False, 'BABY': False, 'P_DEATH': False, 'INVEST': True, 'S_MONEY': 0.05}\n",
      "0.13\n",
      "{'STUDY': True, 'BABY': False, 'P_DEATH': False, 'INVEST': True, 'S_MONEY': 0.05}\n",
      "0.16\n",
      "{'STUDY': False, 'BABY': True, 'P_DEATH': False, 'INVEST': True, 'S_MONEY': 0.05}\n",
      "0.17\n"
     ]
    }
   ],
   "source": [
    "for person in world.population:\n",
    "    if person.id in ids_rich:\n",
    "        print(person.DNA)\n",
    "        print(round(person.percentage_money_invest,2))"
   ]
  },
  {
   "cell_type": "code",
   "execution_count": 32,
   "metadata": {},
   "outputs": [
    {
     "data": {
      "text/plain": [
       "0.04659389625144762"
      ]
     },
     "execution_count": 32,
     "metadata": {},
     "output_type": "execute_result"
    }
   ],
   "source": [
    "money_10_percente.sum()"
   ]
  },
  {
   "cell_type": "code",
   "execution_count": 33,
   "metadata": {},
   "outputs": [
    {
     "data": {
      "text/plain": [
       "100"
      ]
     },
     "execution_count": 33,
     "metadata": {},
     "output_type": "execute_result"
    }
   ],
   "source": [
    "data.age.max()"
   ]
  },
  {
   "cell_type": "code",
   "execution_count": null,
   "metadata": {},
   "outputs": [],
   "source": [
    "data.age"
   ]
  },
  {
   "cell_type": "code",
   "execution_count": null,
   "metadata": {},
   "outputs": [],
   "source": [
    "data.age.plot.hist()"
   ]
  },
  {
   "cell_type": "code",
   "execution_count": null,
   "metadata": {},
   "outputs": [],
   "source": [
    "data.groupby('id').max()#.children.mean()"
   ]
  },
  {
   "cell_type": "code",
   "execution_count": null,
   "metadata": {},
   "outputs": [],
   "source": [
    "last_year.money.where(last_year.money <0).dropna()"
   ]
  },
  {
   "cell_type": "code",
   "execution_count": 2,
   "metadata": {},
   "outputs": [],
   "source": []
  },
  {
   "cell_type": "code",
   "execution_count": 49,
   "metadata": {},
   "outputs": [],
   "source": [
    "# PARAMETERS"
   ]
  },
  {
   "cell_type": "code",
   "execution_count": null,
   "metadata": {},
   "outputs": [],
   "source": [
    "name= '1',\n",
    "initial_population = 20,\n",
    "years_until_extintion = 500,\n",
    "allow_heritage = False,\n",
    "wealth_distribution = False"
   ]
  },
  {
   "cell_type": "code",
   "execution_count": 54,
   "metadata": {},
   "outputs": [
    {
     "data": {
      "text/plain": [
       "20"
      ]
     },
     "execution_count": 54,
     "metadata": {},
     "output_type": "execute_result"
    }
   ],
   "source": [
    "data.tail(1).Year.values[0]"
   ]
  },
  {
   "cell_type": "code",
   "execution_count": 10,
   "metadata": {},
   "outputs": [],
   "source": [
    "def simulation():\n",
    "    aggregated_data = dict()\n",
    "    try:\n",
    "        os.remove('population.csv')\n",
    "    except:\n",
    "        pass\n",
    "    world = World(\n",
    "                     name= '1',\n",
    "                     initial_population = 20,\n",
    "                     years_until_extintion = 500,\n",
    "                     allow_heritage = True,\n",
    "                     wealth_distribution = False\n",
    "\n",
    "                     )\n",
    "    world.create_world()\n",
    "    world.run()\n",
    "    data = pd.read_csv('population.csv', names= \"id,age,money,children,Year\".split(','))\n",
    "    aggregated_data['FINAL_POPULATION'] = len(world.population)\n",
    "    aggregated_data['FINAL_YEAR'] = data.tail(1).Year.values[0]\n",
    "    \n",
    "    age_death = list() \n",
    "    for person in world.dead_population:\n",
    "        age_death.append(person.age)\n",
    "    age_death = pd.Series(age_death)\n",
    "    \n",
    "    aggregated_data['MEAN_AGE_DIE'] = age_death.mean()\n",
    "    aggregated_data['MEDIAN_AGE_DIE'] = age_death.median()\n",
    "    \n",
    "    money_death = list() \n",
    "    for person in world.dead_population:\n",
    "        money_death.append(person.money)\n",
    "    money_death = pd.Series(money_death)\n",
    "    \n",
    "    aggregated_data['MEAN_MONEY_DIE'] = money_death.mean()\n",
    "    aggregated_data['MEDIAN_MONEY_DIE'] = money_death.median()\n",
    "    \n",
    "    cause_of_death = list() \n",
    "    for person in world.dead_population:\n",
    "        cause_of_death.append(person.cause_of_death)\n",
    "    cause_of_death = pd.Series(cause_of_death).value_counts().index[0]\n",
    "    \n",
    "    aggregated_data['MOST_FREQUENT_DEAD_CAUSE'] = cause_of_death\n",
    "    \n",
    "    richest_person = data.iloc[data.money.idxmax()]\n",
    "    \n",
    "    aggregated_data['RICHEST_PERSON_AGE'] = richest_person['age']\n",
    "    aggregated_data['RICHEST_PERSON_CHILDREN'] = richest_person['children']\n",
    "    aggregated_data['RICHEST_PERSON_MONEY'] = richest_person['money']\n",
    "    \n",
    "    \n",
    "    for person in world.population:\n",
    "        if person.id == data.iloc[data.money.idxmax()].id:\n",
    "            aggregated_data['RICHEST_PERSON_STUDY'] = person.DNA['STUDY']\n",
    "            aggregated_data['RICHEST_PERSON_BABY'] = person.DNA['BABY']\n",
    "            aggregated_data['RICHEST_PERSON_P_DEATH'] = person.DNA['P_DEATH']\n",
    "            aggregated_data['RICHEST_PERSON_INVEST'] = person.DNA['INVEST']\n",
    "            aggregated_data['RICHEST_PERSON_S_MONEY'] = person.DNA['S_MONEY']\n",
    "            aggregated_data['RICHEST_PERSON_MONEY_INV'] = round(person.percentage_money_invest, 2)\n",
    "    for person in world.dead_population:\n",
    "        if person.id == data.iloc[data.money.idxmax()].id:\n",
    "            aggregated_data['RICHEST_PERSON_STUDY'] = person.DNA['STUDY']\n",
    "            aggregated_data['RICHEST_PERSON_BABY'] = person.DNA['BABY']\n",
    "            aggregated_data['RICHEST_PERSON_P_DEATH'] = person.DNA['P_DEATH']\n",
    "            aggregated_data['RICHEST_PERSON_INVEST'] = person.DNA['INVEST']\n",
    "            aggregated_data['RICHEST_PERSON_S_MONEY'] = person.DNA['S_MONEY']\n",
    "            aggregated_data['RICHEST_PERSON_MONEY_INV'] = round(person.percentage_money_invest, 2)\n",
    "     \n",
    "    last_year = data[data.Year == aggregated_data['FINAL_YEAR']].copy()\n",
    "    \n",
    "    gini_coef = gini(last_year.money.values)\n",
    "    \n",
    "    aggregated_data['GINI_ALIVE'] = gini_coef\n",
    "    \n",
    "    return aggregated_data\n",
    "    \n",
    "    \n",
    "    "
   ]
  },
  {
   "cell_type": "code",
   "execution_count": 11,
   "metadata": {},
   "outputs": [
    {
     "name": "stdout",
     "output_type": "stream",
     "text": [
      "Sim: 0\n"
     ]
    },
    {
     "name": "stderr",
     "output_type": "stream",
     "text": [
      "/home/tiago/Projects/WorldWealth/WorldWealth/worldwealth/person.py:93: RuntimeWarning: divide by zero encountered in double_scalars\n",
      "  heritage_value = self.money / len(self.children)\n"
     ]
    }
   ],
   "source": [
    "multi_sim_data = list()\n",
    "for i in range(1):\n",
    "    print(f'Sim: {i}')\n",
    "    multi_sim_data.append(simulation())\n",
    "    "
   ]
  },
  {
   "cell_type": "code",
   "execution_count": 12,
   "metadata": {},
   "outputs": [
    {
     "data": {
      "text/html": [
       "<div>\n",
       "<style scoped>\n",
       "    .dataframe tbody tr th:only-of-type {\n",
       "        vertical-align: middle;\n",
       "    }\n",
       "\n",
       "    .dataframe tbody tr th {\n",
       "        vertical-align: top;\n",
       "    }\n",
       "\n",
       "    .dataframe thead th {\n",
       "        text-align: right;\n",
       "    }\n",
       "</style>\n",
       "<table border=\"1\" class=\"dataframe\">\n",
       "  <thead>\n",
       "    <tr style=\"text-align: right;\">\n",
       "      <th></th>\n",
       "      <th>FINAL_POPULATION</th>\n",
       "      <th>FINAL_YEAR</th>\n",
       "      <th>MEAN_AGE_DIE</th>\n",
       "      <th>MEDIAN_AGE_DIE</th>\n",
       "      <th>MEAN_MONEY_DIE</th>\n",
       "      <th>MEDIAN_MONEY_DIE</th>\n",
       "      <th>MOST_FREQUENT_DEAD_CAUSE</th>\n",
       "      <th>RICHEST_PERSON_AGE</th>\n",
       "      <th>RICHEST_PERSON_CHILDREN</th>\n",
       "      <th>RICHEST_PERSON_MONEY</th>\n",
       "      <th>RICHEST_PERSON_STUDY</th>\n",
       "      <th>RICHEST_PERSON_BABY</th>\n",
       "      <th>RICHEST_PERSON_P_DEATH</th>\n",
       "      <th>RICHEST_PERSON_INVEST</th>\n",
       "      <th>RICHEST_PERSON_S_MONEY</th>\n",
       "      <th>RICHEST_PERSON_MONEY_INV</th>\n",
       "      <th>GINI_ALIVE</th>\n",
       "    </tr>\n",
       "  </thead>\n",
       "  <tbody>\n",
       "    <tr>\n",
       "      <th>0</th>\n",
       "      <td>2631</td>\n",
       "      <td>499</td>\n",
       "      <td>74.542256</td>\n",
       "      <td>76.0</td>\n",
       "      <td>936477.887051</td>\n",
       "      <td>932359.065584</td>\n",
       "      <td>NATURAL</td>\n",
       "      <td>61</td>\n",
       "      <td>0</td>\n",
       "      <td>3.988986e+06</td>\n",
       "      <td>False</td>\n",
       "      <td>False</td>\n",
       "      <td>False</td>\n",
       "      <td>True</td>\n",
       "      <td>0.05</td>\n",
       "      <td>0.18</td>\n",
       "      <td>0.667067</td>\n",
       "    </tr>\n",
       "  </tbody>\n",
       "</table>\n",
       "</div>"
      ],
      "text/plain": [
       "   FINAL_POPULATION  FINAL_YEAR  MEAN_AGE_DIE  MEDIAN_AGE_DIE  MEAN_MONEY_DIE  \\\n",
       "0              2631         499     74.542256            76.0   936477.887051   \n",
       "\n",
       "   MEDIAN_MONEY_DIE MOST_FREQUENT_DEAD_CAUSE  RICHEST_PERSON_AGE  \\\n",
       "0     932359.065584                  NATURAL                  61   \n",
       "\n",
       "   RICHEST_PERSON_CHILDREN  RICHEST_PERSON_MONEY  RICHEST_PERSON_STUDY  \\\n",
       "0                        0          3.988986e+06                 False   \n",
       "\n",
       "   RICHEST_PERSON_BABY  RICHEST_PERSON_P_DEATH  RICHEST_PERSON_INVEST  \\\n",
       "0                False                   False                   True   \n",
       "\n",
       "   RICHEST_PERSON_S_MONEY  RICHEST_PERSON_MONEY_INV  GINI_ALIVE  \n",
       "0                    0.05                      0.18    0.667067  "
      ]
     },
     "execution_count": 12,
     "metadata": {},
     "output_type": "execute_result"
    }
   ],
   "source": [
    "aggregated_data_2 = pd.DataFrame(multi_sim_data)\n",
    "aggregated_data_2"
   ]
  },
  {
   "cell_type": "code",
   "execution_count": 35,
   "metadata": {},
   "outputs": [],
   "source": [
    "categorical_features = ['MOST_FREQUENT_DEAD_CAUSE','RICHEST_PERSON_STUDY','RICHEST_PERSON_BABY','RICHEST_PERSON_P_DEATH','RICHEST_PERSON_INVEST']"
   ]
  },
  {
   "cell_type": "code",
   "execution_count": 39,
   "metadata": {},
   "outputs": [],
   "source": [
    "numeric_features = aggregated_data_2.columns.drop(categorical_features)"
   ]
  },
  {
   "cell_type": "code",
   "execution_count": 40,
   "metadata": {},
   "outputs": [],
   "source": [
    "numeric = aggregated_data_2[numeric_features].copy()\n",
    "categorical= aggregated_data_2[categorical_features].copy()"
   ]
  },
  {
   "cell_type": "code",
   "execution_count": 41,
   "metadata": {},
   "outputs": [
    {
     "data": {
      "text/plain": [
       "FINAL_POPULATION            9.760900e+02\n",
       "FINAL_YEAR                  4.304100e+02\n",
       "MEAN_AGE_DIE                7.512279e+01\n",
       "MEDIAN_AGE_DIE              7.647500e+01\n",
       "MEAN_MONEY_DIE              3.014996e+05\n",
       "MEDIAN_MONEY_DIE            2.859990e+05\n",
       "RICHEST_PERSON_AGE          6.455000e+01\n",
       "RICHEST_PERSON_CHILDREN     8.600000e-01\n",
       "RICHEST_PERSON_MONEY        1.316035e+06\n",
       "RICHEST_PERSON_S_MONEY      1.620000e-01\n",
       "RICHEST_PERSON_MONEY_INV    1.394000e-01\n",
       "GINI_ALIVE                  5.090622e-01\n",
       "dtype: float64"
      ]
     },
     "execution_count": 41,
     "metadata": {},
     "output_type": "execute_result"
    }
   ],
   "source": [
    "numeric.mean()"
   ]
  },
  {
   "cell_type": "code",
   "execution_count": 44,
   "metadata": {},
   "outputs": [
    {
     "data": {
      "text/html": [
       "<div>\n",
       "<style scoped>\n",
       "    .dataframe tbody tr th:only-of-type {\n",
       "        vertical-align: middle;\n",
       "    }\n",
       "\n",
       "    .dataframe tbody tr th {\n",
       "        vertical-align: top;\n",
       "    }\n",
       "\n",
       "    .dataframe thead th {\n",
       "        text-align: right;\n",
       "    }\n",
       "</style>\n",
       "<table border=\"1\" class=\"dataframe\">\n",
       "  <thead>\n",
       "    <tr style=\"text-align: right;\">\n",
       "      <th></th>\n",
       "      <th>MOST_FREQUENT_DEAD_CAUSE</th>\n",
       "      <th>RICHEST_PERSON_STUDY</th>\n",
       "      <th>RICHEST_PERSON_BABY</th>\n",
       "      <th>RICHEST_PERSON_P_DEATH</th>\n",
       "      <th>RICHEST_PERSON_INVEST</th>\n",
       "    </tr>\n",
       "  </thead>\n",
       "  <tbody>\n",
       "    <tr>\n",
       "      <th>0</th>\n",
       "      <td>NATURAL</td>\n",
       "      <td>False</td>\n",
       "      <td>False</td>\n",
       "      <td>False</td>\n",
       "      <td>True</td>\n",
       "    </tr>\n",
       "    <tr>\n",
       "      <th>1</th>\n",
       "      <td>NATURAL</td>\n",
       "      <td>True</td>\n",
       "      <td>True</td>\n",
       "      <td>False</td>\n",
       "      <td>True</td>\n",
       "    </tr>\n",
       "    <tr>\n",
       "      <th>2</th>\n",
       "      <td>NATURAL</td>\n",
       "      <td>False</td>\n",
       "      <td>False</td>\n",
       "      <td>False</td>\n",
       "      <td>True</td>\n",
       "    </tr>\n",
       "    <tr>\n",
       "      <th>3</th>\n",
       "      <td>NATURAL</td>\n",
       "      <td>False</td>\n",
       "      <td>True</td>\n",
       "      <td>False</td>\n",
       "      <td>True</td>\n",
       "    </tr>\n",
       "    <tr>\n",
       "      <th>4</th>\n",
       "      <td>NATURAL</td>\n",
       "      <td>False</td>\n",
       "      <td>False</td>\n",
       "      <td>False</td>\n",
       "      <td>True</td>\n",
       "    </tr>\n",
       "    <tr>\n",
       "      <th>...</th>\n",
       "      <td>...</td>\n",
       "      <td>...</td>\n",
       "      <td>...</td>\n",
       "      <td>...</td>\n",
       "      <td>...</td>\n",
       "    </tr>\n",
       "    <tr>\n",
       "      <th>95</th>\n",
       "      <td>NATURAL</td>\n",
       "      <td>True</td>\n",
       "      <td>False</td>\n",
       "      <td>False</td>\n",
       "      <td>True</td>\n",
       "    </tr>\n",
       "    <tr>\n",
       "      <th>96</th>\n",
       "      <td>NATURAL</td>\n",
       "      <td>False</td>\n",
       "      <td>True</td>\n",
       "      <td>False</td>\n",
       "      <td>True</td>\n",
       "    </tr>\n",
       "    <tr>\n",
       "      <th>97</th>\n",
       "      <td>NATURAL</td>\n",
       "      <td>True</td>\n",
       "      <td>True</td>\n",
       "      <td>False</td>\n",
       "      <td>True</td>\n",
       "    </tr>\n",
       "    <tr>\n",
       "      <th>98</th>\n",
       "      <td>NATURAL</td>\n",
       "      <td>False</td>\n",
       "      <td>False</td>\n",
       "      <td>False</td>\n",
       "      <td>True</td>\n",
       "    </tr>\n",
       "    <tr>\n",
       "      <th>99</th>\n",
       "      <td>NATURAL</td>\n",
       "      <td>True</td>\n",
       "      <td>False</td>\n",
       "      <td>False</td>\n",
       "      <td>True</td>\n",
       "    </tr>\n",
       "  </tbody>\n",
       "</table>\n",
       "<p>100 rows × 5 columns</p>\n",
       "</div>"
      ],
      "text/plain": [
       "   MOST_FREQUENT_DEAD_CAUSE  RICHEST_PERSON_STUDY  RICHEST_PERSON_BABY  \\\n",
       "0                   NATURAL                 False                False   \n",
       "1                   NATURAL                  True                 True   \n",
       "2                   NATURAL                 False                False   \n",
       "3                   NATURAL                 False                 True   \n",
       "4                   NATURAL                 False                False   \n",
       "..                      ...                   ...                  ...   \n",
       "95                  NATURAL                  True                False   \n",
       "96                  NATURAL                 False                 True   \n",
       "97                  NATURAL                  True                 True   \n",
       "98                  NATURAL                 False                False   \n",
       "99                  NATURAL                  True                False   \n",
       "\n",
       "    RICHEST_PERSON_P_DEATH  RICHEST_PERSON_INVEST  \n",
       "0                    False                   True  \n",
       "1                    False                   True  \n",
       "2                    False                   True  \n",
       "3                    False                   True  \n",
       "4                    False                   True  \n",
       "..                     ...                    ...  \n",
       "95                   False                   True  \n",
       "96                   False                   True  \n",
       "97                   False                   True  \n",
       "98                   False                   True  \n",
       "99                   False                   True  \n",
       "\n",
       "[100 rows x 5 columns]"
      ]
     },
     "execution_count": 44,
     "metadata": {},
     "output_type": "execute_result"
    }
   ],
   "source": [
    "categorical#.value_counts()"
   ]
  },
  {
   "cell_type": "code",
   "execution_count": 31,
   "metadata": {},
   "outputs": [
    {
     "data": {
      "text/plain": [
       "FINAL_POPULATION            9.760900e+02\n",
       "FINAL_YEAR                  4.304100e+02\n",
       "MEAN_AGE_DIE                7.512279e+01\n",
       "MEDIAN_AGE_DIE              7.647500e+01\n",
       "MEAN_MONEY_DIE              3.014996e+05\n",
       "MEDIAN_MONEY_DIE            2.859990e+05\n",
       "RICHEST_PERSON_AGE          6.455000e+01\n",
       "RICHEST_PERSON_CHILDREN     8.600000e-01\n",
       "RICHEST_PERSON_MONEY        1.316035e+06\n",
       "RICHEST_PERSON_STUDY        2.300000e-01\n",
       "RICHEST_PERSON_BABY         3.900000e-01\n",
       "RICHEST_PERSON_P_DEATH      1.000000e-02\n",
       "RICHEST_PERSON_INVEST       1.000000e+00\n",
       "RICHEST_PERSON_S_MONEY      1.620000e-01\n",
       "RICHEST_PERSON_MONEY_INV    1.394000e-01\n",
       "GINI_ALIVE                  5.090622e-01\n",
       "dtype: float64"
      ]
     },
     "execution_count": 31,
     "metadata": {},
     "output_type": "execute_result"
    }
   ],
   "source": [
    "com = aggregated_data_2.mean()\n",
    "com"
   ]
  },
  {
   "cell_type": "code",
   "execution_count": null,
   "metadata": {},
   "outputs": [],
   "source": []
  },
  {
   "cell_type": "code",
   "execution_count": 27,
   "metadata": {},
   "outputs": [
    {
     "data": {
      "text/html": [
       "<div>\n",
       "<style scoped>\n",
       "    .dataframe tbody tr th:only-of-type {\n",
       "        vertical-align: middle;\n",
       "    }\n",
       "\n",
       "    .dataframe tbody tr th {\n",
       "        vertical-align: top;\n",
       "    }\n",
       "\n",
       "    .dataframe thead th {\n",
       "        text-align: right;\n",
       "    }\n",
       "</style>\n",
       "<table border=\"1\" class=\"dataframe\">\n",
       "  <thead>\n",
       "    <tr style=\"text-align: right;\">\n",
       "      <th></th>\n",
       "      <th>FINAL_POPULATION</th>\n",
       "      <th>FINAL_YEAR</th>\n",
       "      <th>MEAN_AGE_DIE</th>\n",
       "      <th>MEDIAN_AGE_DIE</th>\n",
       "      <th>MEAN_MONEY_DIE</th>\n",
       "      <th>MEDIAN_MONEY_DIE</th>\n",
       "      <th>MOST_FREQUENT_DEAD_CAUSE</th>\n",
       "      <th>RICHEST_PERSON_AGE</th>\n",
       "      <th>RICHEST_PERSON_CHILDREN</th>\n",
       "      <th>RICHEST_PERSON_MONEY</th>\n",
       "      <th>RICHEST_PERSON_STUDY</th>\n",
       "      <th>RICHEST_PERSON_BABY</th>\n",
       "      <th>RICHEST_PERSON_P_DEATH</th>\n",
       "      <th>RICHEST_PERSON_INVEST</th>\n",
       "      <th>RICHEST_PERSON_S_MONEY</th>\n",
       "      <th>RICHEST_PERSON_MONEY_INV</th>\n",
       "      <th>GINI_ALIVE</th>\n",
       "    </tr>\n",
       "  </thead>\n",
       "  <tbody>\n",
       "    <tr>\n",
       "      <th>0</th>\n",
       "      <td>2011</td>\n",
       "      <td>499</td>\n",
       "      <td>75.496056</td>\n",
       "      <td>77.0</td>\n",
       "      <td>299502.681918</td>\n",
       "      <td>298903.163844</td>\n",
       "      <td>NATURAL</td>\n",
       "      <td>49</td>\n",
       "      <td>0</td>\n",
       "      <td>8.377908e+05</td>\n",
       "      <td>False</td>\n",
       "      <td>False</td>\n",
       "      <td>False</td>\n",
       "      <td>True</td>\n",
       "      <td>0.20</td>\n",
       "      <td>0.15</td>\n",
       "      <td>0.537198</td>\n",
       "    </tr>\n",
       "    <tr>\n",
       "      <th>1</th>\n",
       "      <td>0</td>\n",
       "      <td>150</td>\n",
       "      <td>74.846154</td>\n",
       "      <td>74.0</td>\n",
       "      <td>252689.788532</td>\n",
       "      <td>175179.441863</td>\n",
       "      <td>NATURAL</td>\n",
       "      <td>66</td>\n",
       "      <td>0</td>\n",
       "      <td>8.777686e+05</td>\n",
       "      <td>False</td>\n",
       "      <td>True</td>\n",
       "      <td>False</td>\n",
       "      <td>True</td>\n",
       "      <td>0.20</td>\n",
       "      <td>0.18</td>\n",
       "      <td>0.000000</td>\n",
       "    </tr>\n",
       "    <tr>\n",
       "      <th>2</th>\n",
       "      <td>229</td>\n",
       "      <td>499</td>\n",
       "      <td>76.129909</td>\n",
       "      <td>78.0</td>\n",
       "      <td>309220.653673</td>\n",
       "      <td>314680.193654</td>\n",
       "      <td>NATURAL</td>\n",
       "      <td>58</td>\n",
       "      <td>0</td>\n",
       "      <td>8.041991e+05</td>\n",
       "      <td>False</td>\n",
       "      <td>False</td>\n",
       "      <td>False</td>\n",
       "      <td>True</td>\n",
       "      <td>0.05</td>\n",
       "      <td>0.15</td>\n",
       "      <td>0.563454</td>\n",
       "    </tr>\n",
       "    <tr>\n",
       "      <th>3</th>\n",
       "      <td>1504</td>\n",
       "      <td>499</td>\n",
       "      <td>75.435432</td>\n",
       "      <td>77.5</td>\n",
       "      <td>305132.443699</td>\n",
       "      <td>299266.567768</td>\n",
       "      <td>NATURAL</td>\n",
       "      <td>56</td>\n",
       "      <td>0</td>\n",
       "      <td>1.038745e+06</td>\n",
       "      <td>False</td>\n",
       "      <td>True</td>\n",
       "      <td>False</td>\n",
       "      <td>True</td>\n",
       "      <td>0.05</td>\n",
       "      <td>0.13</td>\n",
       "      <td>0.548085</td>\n",
       "    </tr>\n",
       "    <tr>\n",
       "      <th>4</th>\n",
       "      <td>0</td>\n",
       "      <td>405</td>\n",
       "      <td>79.950000</td>\n",
       "      <td>80.5</td>\n",
       "      <td>281027.866441</td>\n",
       "      <td>272137.403214</td>\n",
       "      <td>NATURAL</td>\n",
       "      <td>66</td>\n",
       "      <td>0</td>\n",
       "      <td>7.109223e+05</td>\n",
       "      <td>True</td>\n",
       "      <td>False</td>\n",
       "      <td>False</td>\n",
       "      <td>True</td>\n",
       "      <td>0.05</td>\n",
       "      <td>0.19</td>\n",
       "      <td>0.000000</td>\n",
       "    </tr>\n",
       "    <tr>\n",
       "      <th>5</th>\n",
       "      <td>0</td>\n",
       "      <td>74</td>\n",
       "      <td>74.363636</td>\n",
       "      <td>74.0</td>\n",
       "      <td>157361.271826</td>\n",
       "      <td>125985.962007</td>\n",
       "      <td>NATURAL</td>\n",
       "      <td>66</td>\n",
       "      <td>0</td>\n",
       "      <td>5.708592e+05</td>\n",
       "      <td>True</td>\n",
       "      <td>False</td>\n",
       "      <td>False</td>\n",
       "      <td>True</td>\n",
       "      <td>0.05</td>\n",
       "      <td>0.08</td>\n",
       "      <td>0.000000</td>\n",
       "    </tr>\n",
       "    <tr>\n",
       "      <th>6</th>\n",
       "      <td>1497</td>\n",
       "      <td>499</td>\n",
       "      <td>74.620956</td>\n",
       "      <td>77.0</td>\n",
       "      <td>306987.941103</td>\n",
       "      <td>311986.937489</td>\n",
       "      <td>NATURAL</td>\n",
       "      <td>63</td>\n",
       "      <td>0</td>\n",
       "      <td>9.472459e+05</td>\n",
       "      <td>True</td>\n",
       "      <td>False</td>\n",
       "      <td>False</td>\n",
       "      <td>True</td>\n",
       "      <td>0.05</td>\n",
       "      <td>0.10</td>\n",
       "      <td>0.548273</td>\n",
       "    </tr>\n",
       "    <tr>\n",
       "      <th>7</th>\n",
       "      <td>0</td>\n",
       "      <td>270</td>\n",
       "      <td>75.583333</td>\n",
       "      <td>79.0</td>\n",
       "      <td>291000.206737</td>\n",
       "      <td>219367.205755</td>\n",
       "      <td>NATURAL</td>\n",
       "      <td>66</td>\n",
       "      <td>0</td>\n",
       "      <td>6.614407e+05</td>\n",
       "      <td>False</td>\n",
       "      <td>False</td>\n",
       "      <td>False</td>\n",
       "      <td>True</td>\n",
       "      <td>0.05</td>\n",
       "      <td>0.20</td>\n",
       "      <td>0.000000</td>\n",
       "    </tr>\n",
       "    <tr>\n",
       "      <th>8</th>\n",
       "      <td>682</td>\n",
       "      <td>499</td>\n",
       "      <td>76.829819</td>\n",
       "      <td>78.5</td>\n",
       "      <td>317360.254181</td>\n",
       "      <td>326110.320351</td>\n",
       "      <td>NATURAL</td>\n",
       "      <td>63</td>\n",
       "      <td>0</td>\n",
       "      <td>9.068413e+05</td>\n",
       "      <td>False</td>\n",
       "      <td>False</td>\n",
       "      <td>False</td>\n",
       "      <td>True</td>\n",
       "      <td>0.05</td>\n",
       "      <td>0.13</td>\n",
       "      <td>0.565196</td>\n",
       "    </tr>\n",
       "    <tr>\n",
       "      <th>9</th>\n",
       "      <td>1681</td>\n",
       "      <td>499</td>\n",
       "      <td>75.067528</td>\n",
       "      <td>77.0</td>\n",
       "      <td>291144.896856</td>\n",
       "      <td>285599.803285</td>\n",
       "      <td>NATURAL</td>\n",
       "      <td>69</td>\n",
       "      <td>0</td>\n",
       "      <td>9.750485e+05</td>\n",
       "      <td>False</td>\n",
       "      <td>False</td>\n",
       "      <td>False</td>\n",
       "      <td>True</td>\n",
       "      <td>0.20</td>\n",
       "      <td>0.18</td>\n",
       "      <td>0.559956</td>\n",
       "    </tr>\n",
       "    <tr>\n",
       "      <th>10</th>\n",
       "      <td>78</td>\n",
       "      <td>499</td>\n",
       "      <td>77.296296</td>\n",
       "      <td>79.0</td>\n",
       "      <td>322816.273391</td>\n",
       "      <td>349251.284255</td>\n",
       "      <td>NATURAL</td>\n",
       "      <td>42</td>\n",
       "      <td>0</td>\n",
       "      <td>6.517155e+05</td>\n",
       "      <td>False</td>\n",
       "      <td>False</td>\n",
       "      <td>False</td>\n",
       "      <td>True</td>\n",
       "      <td>0.20</td>\n",
       "      <td>0.08</td>\n",
       "      <td>0.599674</td>\n",
       "    </tr>\n",
       "    <tr>\n",
       "      <th>11</th>\n",
       "      <td>596</td>\n",
       "      <td>499</td>\n",
       "      <td>75.259701</td>\n",
       "      <td>78.0</td>\n",
       "      <td>315725.653499</td>\n",
       "      <td>308624.896747</td>\n",
       "      <td>NATURAL</td>\n",
       "      <td>68</td>\n",
       "      <td>5</td>\n",
       "      <td>9.346342e+05</td>\n",
       "      <td>True</td>\n",
       "      <td>True</td>\n",
       "      <td>False</td>\n",
       "      <td>True</td>\n",
       "      <td>0.20</td>\n",
       "      <td>0.12</td>\n",
       "      <td>0.531961</td>\n",
       "    </tr>\n",
       "    <tr>\n",
       "      <th>12</th>\n",
       "      <td>0</td>\n",
       "      <td>192</td>\n",
       "      <td>77.268293</td>\n",
       "      <td>78.0</td>\n",
       "      <td>236483.149988</td>\n",
       "      <td>187056.690536</td>\n",
       "      <td>NATURAL</td>\n",
       "      <td>66</td>\n",
       "      <td>0</td>\n",
       "      <td>1.081197e+06</td>\n",
       "      <td>False</td>\n",
       "      <td>False</td>\n",
       "      <td>False</td>\n",
       "      <td>True</td>\n",
       "      <td>0.20</td>\n",
       "      <td>0.15</td>\n",
       "      <td>0.000000</td>\n",
       "    </tr>\n",
       "    <tr>\n",
       "      <th>13</th>\n",
       "      <td>514</td>\n",
       "      <td>499</td>\n",
       "      <td>76.415000</td>\n",
       "      <td>79.0</td>\n",
       "      <td>319048.603263</td>\n",
       "      <td>317782.844427</td>\n",
       "      <td>NATURAL</td>\n",
       "      <td>55</td>\n",
       "      <td>0</td>\n",
       "      <td>8.524127e+05</td>\n",
       "      <td>False</td>\n",
       "      <td>False</td>\n",
       "      <td>False</td>\n",
       "      <td>True</td>\n",
       "      <td>0.20</td>\n",
       "      <td>0.14</td>\n",
       "      <td>0.557708</td>\n",
       "    </tr>\n",
       "    <tr>\n",
       "      <th>14</th>\n",
       "      <td>1134</td>\n",
       "      <td>499</td>\n",
       "      <td>75.045950</td>\n",
       "      <td>77.0</td>\n",
       "      <td>315198.047664</td>\n",
       "      <td>313116.552748</td>\n",
       "      <td>NATURAL</td>\n",
       "      <td>46</td>\n",
       "      <td>0</td>\n",
       "      <td>9.758794e+05</td>\n",
       "      <td>False</td>\n",
       "      <td>False</td>\n",
       "      <td>False</td>\n",
       "      <td>True</td>\n",
       "      <td>0.05</td>\n",
       "      <td>0.12</td>\n",
       "      <td>0.556981</td>\n",
       "    </tr>\n",
       "    <tr>\n",
       "      <th>15</th>\n",
       "      <td>2827</td>\n",
       "      <td>499</td>\n",
       "      <td>75.058842</td>\n",
       "      <td>77.0</td>\n",
       "      <td>296877.801501</td>\n",
       "      <td>294779.727683</td>\n",
       "      <td>NATURAL</td>\n",
       "      <td>66</td>\n",
       "      <td>0</td>\n",
       "      <td>9.413637e+05</td>\n",
       "      <td>False</td>\n",
       "      <td>False</td>\n",
       "      <td>False</td>\n",
       "      <td>True</td>\n",
       "      <td>0.20</td>\n",
       "      <td>0.20</td>\n",
       "      <td>0.556922</td>\n",
       "    </tr>\n",
       "    <tr>\n",
       "      <th>16</th>\n",
       "      <td>0</td>\n",
       "      <td>299</td>\n",
       "      <td>76.723810</td>\n",
       "      <td>77.0</td>\n",
       "      <td>272973.616928</td>\n",
       "      <td>294992.324415</td>\n",
       "      <td>NATURAL</td>\n",
       "      <td>66</td>\n",
       "      <td>0</td>\n",
       "      <td>6.427689e+05</td>\n",
       "      <td>False</td>\n",
       "      <td>False</td>\n",
       "      <td>False</td>\n",
       "      <td>True</td>\n",
       "      <td>0.05</td>\n",
       "      <td>0.19</td>\n",
       "      <td>0.000000</td>\n",
       "    </tr>\n",
       "    <tr>\n",
       "      <th>17</th>\n",
       "      <td>0</td>\n",
       "      <td>281</td>\n",
       "      <td>77.274510</td>\n",
       "      <td>78.0</td>\n",
       "      <td>221512.213452</td>\n",
       "      <td>194468.800111</td>\n",
       "      <td>NATURAL</td>\n",
       "      <td>66</td>\n",
       "      <td>0</td>\n",
       "      <td>5.668378e+05</td>\n",
       "      <td>False</td>\n",
       "      <td>False</td>\n",
       "      <td>False</td>\n",
       "      <td>True</td>\n",
       "      <td>0.05</td>\n",
       "      <td>0.13</td>\n",
       "      <td>0.000000</td>\n",
       "    </tr>\n",
       "    <tr>\n",
       "      <th>18</th>\n",
       "      <td>224</td>\n",
       "      <td>499</td>\n",
       "      <td>76.433846</td>\n",
       "      <td>78.0</td>\n",
       "      <td>289916.439457</td>\n",
       "      <td>279544.376658</td>\n",
       "      <td>NATURAL</td>\n",
       "      <td>66</td>\n",
       "      <td>0</td>\n",
       "      <td>6.091128e+05</td>\n",
       "      <td>True</td>\n",
       "      <td>False</td>\n",
       "      <td>False</td>\n",
       "      <td>True</td>\n",
       "      <td>0.20</td>\n",
       "      <td>0.15</td>\n",
       "      <td>0.562536</td>\n",
       "    </tr>\n",
       "    <tr>\n",
       "      <th>19</th>\n",
       "      <td>0</td>\n",
       "      <td>104</td>\n",
       "      <td>78.076923</td>\n",
       "      <td>79.0</td>\n",
       "      <td>183100.680822</td>\n",
       "      <td>199537.451656</td>\n",
       "      <td>NATURAL</td>\n",
       "      <td>66</td>\n",
       "      <td>0</td>\n",
       "      <td>4.923820e+05</td>\n",
       "      <td>False</td>\n",
       "      <td>False</td>\n",
       "      <td>False</td>\n",
       "      <td>True</td>\n",
       "      <td>0.05</td>\n",
       "      <td>0.19</td>\n",
       "      <td>0.000000</td>\n",
       "    </tr>\n",
       "  </tbody>\n",
       "</table>\n",
       "</div>"
      ],
      "text/plain": [
       "    FINAL_POPULATION  FINAL_YEAR  MEAN_AGE_DIE  MEDIAN_AGE_DIE  \\\n",
       "0               2011         499     75.496056            77.0   \n",
       "1                  0         150     74.846154            74.0   \n",
       "2                229         499     76.129909            78.0   \n",
       "3               1504         499     75.435432            77.5   \n",
       "4                  0         405     79.950000            80.5   \n",
       "5                  0          74     74.363636            74.0   \n",
       "6               1497         499     74.620956            77.0   \n",
       "7                  0         270     75.583333            79.0   \n",
       "8                682         499     76.829819            78.5   \n",
       "9               1681         499     75.067528            77.0   \n",
       "10                78         499     77.296296            79.0   \n",
       "11               596         499     75.259701            78.0   \n",
       "12                 0         192     77.268293            78.0   \n",
       "13               514         499     76.415000            79.0   \n",
       "14              1134         499     75.045950            77.0   \n",
       "15              2827         499     75.058842            77.0   \n",
       "16                 0         299     76.723810            77.0   \n",
       "17                 0         281     77.274510            78.0   \n",
       "18               224         499     76.433846            78.0   \n",
       "19                 0         104     78.076923            79.0   \n",
       "\n",
       "    MEAN_MONEY_DIE  MEDIAN_MONEY_DIE MOST_FREQUENT_DEAD_CAUSE  \\\n",
       "0    299502.681918     298903.163844                  NATURAL   \n",
       "1    252689.788532     175179.441863                  NATURAL   \n",
       "2    309220.653673     314680.193654                  NATURAL   \n",
       "3    305132.443699     299266.567768                  NATURAL   \n",
       "4    281027.866441     272137.403214                  NATURAL   \n",
       "5    157361.271826     125985.962007                  NATURAL   \n",
       "6    306987.941103     311986.937489                  NATURAL   \n",
       "7    291000.206737     219367.205755                  NATURAL   \n",
       "8    317360.254181     326110.320351                  NATURAL   \n",
       "9    291144.896856     285599.803285                  NATURAL   \n",
       "10   322816.273391     349251.284255                  NATURAL   \n",
       "11   315725.653499     308624.896747                  NATURAL   \n",
       "12   236483.149988     187056.690536                  NATURAL   \n",
       "13   319048.603263     317782.844427                  NATURAL   \n",
       "14   315198.047664     313116.552748                  NATURAL   \n",
       "15   296877.801501     294779.727683                  NATURAL   \n",
       "16   272973.616928     294992.324415                  NATURAL   \n",
       "17   221512.213452     194468.800111                  NATURAL   \n",
       "18   289916.439457     279544.376658                  NATURAL   \n",
       "19   183100.680822     199537.451656                  NATURAL   \n",
       "\n",
       "    RICHEST_PERSON_AGE  RICHEST_PERSON_CHILDREN  RICHEST_PERSON_MONEY  \\\n",
       "0                   49                        0          8.377908e+05   \n",
       "1                   66                        0          8.777686e+05   \n",
       "2                   58                        0          8.041991e+05   \n",
       "3                   56                        0          1.038745e+06   \n",
       "4                   66                        0          7.109223e+05   \n",
       "5                   66                        0          5.708592e+05   \n",
       "6                   63                        0          9.472459e+05   \n",
       "7                   66                        0          6.614407e+05   \n",
       "8                   63                        0          9.068413e+05   \n",
       "9                   69                        0          9.750485e+05   \n",
       "10                  42                        0          6.517155e+05   \n",
       "11                  68                        5          9.346342e+05   \n",
       "12                  66                        0          1.081197e+06   \n",
       "13                  55                        0          8.524127e+05   \n",
       "14                  46                        0          9.758794e+05   \n",
       "15                  66                        0          9.413637e+05   \n",
       "16                  66                        0          6.427689e+05   \n",
       "17                  66                        0          5.668378e+05   \n",
       "18                  66                        0          6.091128e+05   \n",
       "19                  66                        0          4.923820e+05   \n",
       "\n",
       "    RICHEST_PERSON_STUDY  RICHEST_PERSON_BABY  RICHEST_PERSON_P_DEATH  \\\n",
       "0                  False                False                   False   \n",
       "1                  False                 True                   False   \n",
       "2                  False                False                   False   \n",
       "3                  False                 True                   False   \n",
       "4                   True                False                   False   \n",
       "5                   True                False                   False   \n",
       "6                   True                False                   False   \n",
       "7                  False                False                   False   \n",
       "8                  False                False                   False   \n",
       "9                  False                False                   False   \n",
       "10                 False                False                   False   \n",
       "11                  True                 True                   False   \n",
       "12                 False                False                   False   \n",
       "13                 False                False                   False   \n",
       "14                 False                False                   False   \n",
       "15                 False                False                   False   \n",
       "16                 False                False                   False   \n",
       "17                 False                False                   False   \n",
       "18                  True                False                   False   \n",
       "19                 False                False                   False   \n",
       "\n",
       "    RICHEST_PERSON_INVEST  RICHEST_PERSON_S_MONEY  RICHEST_PERSON_MONEY_INV  \\\n",
       "0                    True                    0.20                      0.15   \n",
       "1                    True                    0.20                      0.18   \n",
       "2                    True                    0.05                      0.15   \n",
       "3                    True                    0.05                      0.13   \n",
       "4                    True                    0.05                      0.19   \n",
       "5                    True                    0.05                      0.08   \n",
       "6                    True                    0.05                      0.10   \n",
       "7                    True                    0.05                      0.20   \n",
       "8                    True                    0.05                      0.13   \n",
       "9                    True                    0.20                      0.18   \n",
       "10                   True                    0.20                      0.08   \n",
       "11                   True                    0.20                      0.12   \n",
       "12                   True                    0.20                      0.15   \n",
       "13                   True                    0.20                      0.14   \n",
       "14                   True                    0.05                      0.12   \n",
       "15                   True                    0.20                      0.20   \n",
       "16                   True                    0.05                      0.19   \n",
       "17                   True                    0.05                      0.13   \n",
       "18                   True                    0.20                      0.15   \n",
       "19                   True                    0.05                      0.19   \n",
       "\n",
       "    GINI_ALIVE  \n",
       "0     0.537198  \n",
       "1     0.000000  \n",
       "2     0.563454  \n",
       "3     0.548085  \n",
       "4     0.000000  \n",
       "5     0.000000  \n",
       "6     0.548273  \n",
       "7     0.000000  \n",
       "8     0.565196  \n",
       "9     0.559956  \n",
       "10    0.599674  \n",
       "11    0.531961  \n",
       "12    0.000000  \n",
       "13    0.557708  \n",
       "14    0.556981  \n",
       "15    0.556922  \n",
       "16    0.000000  \n",
       "17    0.000000  \n",
       "18    0.562536  \n",
       "19    0.000000  "
      ]
     },
     "execution_count": 27,
     "metadata": {},
     "output_type": "execute_result"
    }
   ],
   "source": [
    "aggregated_data_2"
   ]
  },
  {
   "cell_type": "code",
   "execution_count": null,
   "metadata": {},
   "outputs": [],
   "source": [
    "def death_population_indicators(world, feature):\n",
    "    age_death = list() \n",
    "    for person in world.dead_population:\n",
    "        age_death.append(person[feature])\n",
    "    age_death = pd.Series(age_death)\n",
    "    return age_death.mean(), age_death.median()\n",
    "    "
   ]
  },
  {
   "cell_type": "code",
   "execution_count": 19,
   "metadata": {},
   "outputs": [
    {
     "data": {
      "text/plain": [
       "FINAL_POPULATION               503.750000\n",
       "FINAL_YEAR                     415.050000\n",
       "MEAN_AGE_DIE                    73.000515\n",
       "MEDIAN_AGE_DIE                  74.525000\n",
       "MEAN_MONEY_DIE              199493.819524\n",
       "MEDIAN_MONEY_DIE            160707.798337\n",
       "RICHEST_PERSON_AGE              66.000000\n",
       "RICHEST_PERSON_CHILDREN          0.050000\n",
       "RICHEST_PERSON_MONEY        543722.264492\n",
       "RICHEST_PERSON_STUDY             0.850000\n",
       "RICHEST_PERSON_BABY              0.100000\n",
       "RICHEST_PERSON_P_DEATH           0.000000\n",
       "RICHEST_PERSON_INVEST            1.000000\n",
       "RICHEST_PERSON_S_MONEY           0.057500\n",
       "RICHEST_PERSON_MONEY_INV         0.182000\n",
       "GINI_ALIVE                       0.499640\n",
       "dtype: float64"
      ]
     },
     "execution_count": 19,
     "metadata": {},
     "output_type": "execute_result"
    }
   ],
   "source": [
    "sem"
   ]
  },
  {
   "cell_type": "code",
   "execution_count": null,
   "metadata": {},
   "outputs": [],
   "source": []
  },
  {
   "cell_type": "code",
   "execution_count": null,
   "metadata": {},
   "outputs": [],
   "source": []
  }
 ],
 "metadata": {
  "interpreter": {
   "hash": "31f2aee4e71d21fbe5cf8b01ff0e069b9275f58929596ceb00d14d90e3e16cd6"
  },
  "kernelspec": {
   "name": "python3",
   "display_name": "Python 3.8.10 64-bit"
  },
  "language_info": {
   "codemirror_mode": {
    "name": "ipython",
    "version": 3
   },
   "file_extension": ".py",
   "mimetype": "text/x-python",
   "name": "python",
   "nbconvert_exporter": "python",
   "pygments_lexer": "ipython3",
   "version": "3.8.10"
  }
 },
 "nbformat": 4,
 "nbformat_minor": 4
}